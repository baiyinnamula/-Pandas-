{
  "nbformat": 4,
  "nbformat_minor": 0,
  "metadata": {
    "colab": {
      "private_outputs": true,
      "provenance": [],
      "authorship_tag": "ABX9TyOHBMD2M6xRhVgaE1h+k9xA",
      "include_colab_link": true
    },
    "kernelspec": {
      "name": "python3",
      "display_name": "Python 3"
    },
    "language_info": {
      "name": "python"
    }
  },
  "cells": [
    {
      "cell_type": "markdown",
      "metadata": {
        "id": "view-in-github",
        "colab_type": "text"
      },
      "source": [
        "<a href=\"https://colab.research.google.com/github/baiyinnamula/EasyToUnderstandPandas/blob/main/%E7%AC%AC17%E7%AB%A0Pandas%E5%AE%9E%E6%88%98%E6%A1%88%E4%BE%8B.ipynb\" target=\"_parent\"><img src=\"https://colab.research.google.com/assets/colab-badge.svg\" alt=\"Open In Colab\"/></a>"
      ]
    },
    {
      "cell_type": "code",
      "execution_count": null,
      "metadata": {
        "id": "tnIH-unxUDKP"
      },
      "outputs": [],
      "source": [
        "import numpy as np\n",
        "import pandas as pd\n"
      ]
    },
    {
      "cell_type": "markdown",
      "source": [
        "## 17.1 实战思想"
      ],
      "metadata": {
        "id": "zq1KCKCZUpx8"
      }
    },
    {
      "cell_type": "markdown",
      "source": [
        "### 17.1.1 链式方法"
      ],
      "metadata": {
        "id": "kT7RnZkwVKbj"
      }
    },
    {
      "cell_type": "code",
      "source": [
        "# 使用赋值模式\n",
        "df = pd.read_excel('https://www.gairuo.com/file/data/dataset/team.xlsx')\n",
        "df = df.groupby('team').first()\n",
        "df['avg'] = df.mean(1)\n",
        "df = df.reset_index().set_index('name')\n",
        "df = df[df.avg > 60]\n",
        "df = df.loc[:,['team', 'avg']]\n",
        "df"
      ],
      "metadata": {
        "id": "_iBOU7L-VNK8"
      },
      "execution_count": null,
      "outputs": []
    },
    {
      "cell_type": "code",
      "source": [
        "# 需求：找出团队中第一位同学，筛选出其中平均分大于60分的同学，最终显示其所在团队和团队平均分\n",
        "(\n",
        "pd.read_excel('https://www.gairuo.com/file/data/dataset/team.xlsx')\n",
        ".groupby('team') # 按团队分组\n",
        ".first() # 取各组第一个\n",
        ".assign(avg=lambda x: x.mean(1)) # 增加平均分列avg\n",
        ".reset_index() # 重置为自然索引\n",
        ".set_index('name') # 创建索引为name\n",
        ".query('avg>60') # 筛选平均分大于60分的数据\n",
        ".loc[:,['team', 'avg']] # 只显示团队和平均分两列\n",
        ")"
      ],
      "metadata": {
        "id": "uL_Q577LUqc0"
      },
      "execution_count": null,
      "outputs": []
    },
    {
      "cell_type": "code",
      "source": [
        "(\n",
        "pd.concat(pd.read_csv('data1.csv'), pd.read_csv('data2.csv'))\n",
        ".fillna(...)\n",
        ".append(...)\n",
        ".set_index('...')\n",
        ".query('some_condition')\n",
        ".assign(new_column = pd.cut(...))\n",
        ".eval('...')\n",
        ".pivot_table(...)\n",
        ".pipe(fun)\n",
        ".rename(...)\n",
        ".loc[lambda x: ...]\n",
        ".plot\n",
        ".line(...)\n",
        ")"
      ],
      "metadata": {
        "id": "6pWW4cn6Wrm0"
      },
      "execution_count": null,
      "outputs": []
    },
    {
      "cell_type": "markdown",
      "source": [
        "### 17.1.2 代码思路"
      ],
      "metadata": {
        "id": "0JH3Qa08XSQU"
      }
    },
    {
      "cell_type": "markdown",
      "source": [
        "#### 1. 明确需求"
      ],
      "metadata": {
        "id": "-_wtSWqcXcQz"
      }
    },
    {
      "cell_type": "markdown",
      "source": [
        "#### 2. 确定分析方案"
      ],
      "metadata": {
        "id": "7egwtLM6Xp00"
      }
    },
    {
      "cell_type": "markdown",
      "source": [
        "#### 3. 代码设计"
      ],
      "metadata": {
        "id": "BfODc82CX4qs"
      }
    },
    {
      "cell_type": "markdown",
      "source": [
        "#### 4. 代码实施"
      ],
      "metadata": {
        "id": "zuQEEhcXYiS8"
      }
    },
    {
      "cell_type": "markdown",
      "source": [
        "#### 5. 得出结论"
      ],
      "metadata": {
        "id": "iV2JMCzzZZSs"
      }
    },
    {
      "cell_type": "markdown",
      "source": [
        "#### 6. 复盘迭代"
      ],
      "metadata": {
        "id": "gqyeI6hfZkkk"
      }
    },
    {
      "cell_type": "markdown",
      "source": [
        "### 17.1.3 分析方法"
      ],
      "metadata": {
        "id": "ZREzqiZ-Zubz"
      }
    },
    {
      "cell_type": "markdown",
      "source": [
        "#### 1. 描述统计"
      ],
      "metadata": {
        "id": "wFGBYlrMZ7Vs"
      }
    },
    {
      "cell_type": "markdown",
      "source": [
        "#### 2. 相关分析"
      ],
      "metadata": {
        "id": "Ap_GdIn2a7uU"
      }
    },
    {
      "cell_type": "markdown",
      "source": [
        "#### 3. 对比分析"
      ],
      "metadata": {
        "id": "s4wJPJoTbF18"
      }
    },
    {
      "cell_type": "markdown",
      "source": [
        "#### 4. 漏斗方法"
      ],
      "metadata": {
        "id": "il8poPBwbVAM"
      }
    },
    {
      "cell_type": "markdown",
      "source": [
        "#### 5. 假设"
      ],
      "metadata": {
        "id": "nGrsIhiubfu8"
      }
    },
    {
      "cell_type": "markdown",
      "source": [
        "#### 6. 机器学习"
      ],
      "metadata": {
        "id": "HE2IwkQkbqn8"
      }
    },
    {
      "cell_type": "markdown",
      "source": [
        "### 17.1.4 分析流程"
      ],
      "metadata": {
        "id": "oGSNY_sQcIcu"
      }
    },
    {
      "cell_type": "markdown",
      "source": [
        "### 17.1.5 分析工具"
      ],
      "metadata": {
        "id": "AcIXX2TLchcs"
      }
    },
    {
      "cell_type": "markdown",
      "source": [
        "## 17.2 数据处理案例"
      ],
      "metadata": {
        "id": "EDieRKjoUr9d"
      }
    },
    {
      "cell_type": "markdown",
      "source": [
        "### 17.2.1 剧组表格道具"
      ],
      "metadata": {
        "id": "Q5qv0CMFdw4E"
      }
    },
    {
      "cell_type": "code",
      "source": [
        "%pip install faker"
      ],
      "metadata": {
        "id": "6X4VVc97eV2b"
      },
      "execution_count": null,
      "outputs": []
    },
    {
      "cell_type": "code",
      "source": [
        "import pandas as pd\n",
        "import faker #pip install faker\n",
        "\n",
        "\n",
        "f = faker.Faker('zh-cn')\n",
        "df = pd.DataFrame({\n",
        "'客户姓名': [f.name() for i in range(10)],\n",
        "'年龄': [f.random_int(25, 40) for i in range(10)],\n",
        "'最后去电时间': [f.date_between(start_date='-1y',end_date='today')\n",
        "  .strftime('%Y年%m月%d日') for i in range(10)],\n",
        "'意向': [f.random_element(('有','无')) for i in range(10)],\n",
        "'地址': [f.street_address() for i in range(10)],\n",
        "})"
      ],
      "metadata": {
        "id": "2PXtboxhUt9U"
      },
      "execution_count": null,
      "outputs": []
    },
    {
      "cell_type": "code",
      "source": [
        "df"
      ],
      "metadata": {
        "id": "Heduq9lZesDT"
      },
      "execution_count": null,
      "outputs": []
    },
    {
      "cell_type": "code",
      "source": [
        "# 生成Excel文件\n",
        "df.to_excel('客户资料表.xlsx', index=None)"
      ],
      "metadata": {
        "id": "Q_4uO_N8fDiE"
      },
      "execution_count": null,
      "outputs": []
    },
    {
      "cell_type": "markdown",
      "source": [
        "### 17.2.2 当月最后一个星期三"
      ],
      "metadata": {
        "id": "ucVY6UyJfOG-"
      }
    },
    {
      "cell_type": "code",
      "source": [
        "import pandas as pd\n",
        "t = pd.Timestamp('2020-11-11') # t: Timestamp('2020-11-11 00:00:00')\n",
        "t = t.replace(day=1) # t: Timestamp('2020-11-01 00:00:00')"
      ],
      "metadata": {
        "id": "wJCysM3NfgZk"
      },
      "execution_count": null,
      "outputs": []
    },
    {
      "cell_type": "code",
      "source": [
        "t"
      ],
      "metadata": {
        "id": "9_lsLbvlfnu8"
      },
      "execution_count": null,
      "outputs": []
    },
    {
      "cell_type": "code",
      "source": [
        "index = pd.date_range(start=t,\n",
        "end=(t + pd.offsets.MonthEnd())\n",
        ")\n",
        "index"
      ],
      "metadata": {
        "id": "06gVmbCOfwlF"
      },
      "execution_count": null,
      "outputs": []
    },
    {
      "cell_type": "code",
      "source": [
        "(\n",
        "pd.DataFrame(index.weekday+1, index=index.date, columns=['weekday']).head(10)\n",
        ")"
      ],
      "metadata": {
        "id": "2QZA8So2f3rt"
      },
      "execution_count": null,
      "outputs": []
    },
    {
      "cell_type": "code",
      "source": [
        "(\n",
        "pd.DataFrame(index.weekday+1, index=index.date, columns=['weekday'])\n",
        ".query('weekday==3')\n",
        ".tail(1)\n",
        ".index[0]\n",
        ")"
      ],
      "metadata": {
        "id": "ecSrqhZ1gMVc"
      },
      "execution_count": null,
      "outputs": []
    },
    {
      "cell_type": "markdown",
      "source": [
        "### 17.2.3 同组数据转为同一行"
      ],
      "metadata": {
        "id": "fwXf1z_NgkUM"
      }
    },
    {
      "cell_type": "code",
      "source": [],
      "metadata": {
        "id": "6vNqpeo7hIrU"
      },
      "execution_count": null,
      "outputs": []
    },
    {
      "cell_type": "markdown",
      "source": [
        "### 17.2.4 相关性最强的两个变量"
      ],
      "metadata": {
        "id": "XYOWY033hJH9"
      }
    },
    {
      "cell_type": "code",
      "source": [
        "import pandas as pd\n",
        "df = pd.DataFrame({\n",
        "'A':[1,2,4,5,6],\n",
        "'B':[2,4,6,9, 10],\n",
        "'C':[2,1,7,2, 1]\n",
        "})\n",
        "df"
      ],
      "metadata": {
        "id": "eUIf1ZC7hNq8"
      },
      "execution_count": null,
      "outputs": []
    },
    {
      "cell_type": "code",
      "source": [
        "df.corr()"
      ],
      "metadata": {
        "id": "zZHROvdzhQt0"
      },
      "execution_count": null,
      "outputs": []
    },
    {
      "cell_type": "code",
      "source": [
        "(\n",
        "  df.corr() # 相关性矩阵\n",
        "  .stack() # 堆叠。转为一列\n",
        "  .sort_values(ascending=False) # 排序，最大值在前\n",
        "  .loc[lambda x:x<1] # 去掉值为1的数据\n",
        "  .idxmax() # 最大值的标签\n",
        ")"
      ],
      "metadata": {
        "id": "Q_BcGDQSheLu"
      },
      "execution_count": null,
      "outputs": []
    },
    {
      "cell_type": "markdown",
      "source": [
        "### 17.2.5 全表最大值的位置"
      ],
      "metadata": {
        "id": "2r9nquLYiWuA"
      }
    },
    {
      "cell_type": "code",
      "source": [
        "df = pd.DataFrame({\n",
        "  'A':[1,2,4,5,-6],\n",
        "  'B':[2,-1,8,2, 1],\n",
        "  'C':[2,-1,8,2, 1]\n",
        "  },\n",
        "  index=['x', 'y', 'z', 'h', 'i']\n",
        ")\n",
        "df"
      ],
      "metadata": {
        "id": "V8_t6qP0ickl"
      },
      "execution_count": null,
      "outputs": []
    },
    {
      "cell_type": "code",
      "source": [
        "df[df==df.max().max()]"
      ],
      "metadata": {
        "id": "pckJhdsFijFt"
      },
      "execution_count": null,
      "outputs": []
    },
    {
      "cell_type": "code",
      "source": [
        "# 找到最大值索引位\n",
        "(\n",
        "  df[df == df.max().max()] # 查出最大值\n",
        "  .dropna(how='all') # 删除全为空的行\n",
        "  .dropna(how='all',axis=1) # 删除全为空列\n",
        "  .axes\n",
        ")"
      ],
      "metadata": {
        "id": "2C2qB8g1iwB8"
      },
      "execution_count": null,
      "outputs": []
    },
    {
      "cell_type": "markdown",
      "source": [
        "### 17.2.6 编写年会抽奖程序"
      ],
      "metadata": {
        "id": "A6_PAH-Tjctu"
      }
    },
    {
      "cell_type": "code",
      "source": [
        "import pandas as pd\n",
        "import faker # 安装：pip install faker\n",
        "f = faker.Faker('zh-cn')\n",
        "df = pd.DataFrame([f.name() for i in range(50)], columns=['name'])\n",
        "# 增加一列用于存储结果\n",
        "df['等级'] = ''\n",
        "df.tail()"
      ],
      "metadata": {
        "id": "W39IZPu0jrYV"
      },
      "execution_count": null,
      "outputs": []
    },
    {
      "cell_type": "code",
      "source": [
        "# 配置信息，第一位为抽奖人数，第二位为奖项等级\n",
        "win_info = (3, '三等奖')\n",
        "# 创建一个筛选器变量\n",
        "filter = df.index.isin(df.sample(win_info[0]).index) & ~(df.等级.isna())\n",
        "# 执行抽奖，将等级写入\n",
        "df.loc[filter, '等级'] = win_info[1]\n",
        "# 显示本次抽奖结果\n",
        "df.loc[df.等级==win_info[1]]"
      ],
      "metadata": {
        "id": "7NadOQXCj2kt"
      },
      "execution_count": null,
      "outputs": []
    },
    {
      "cell_type": "code",
      "source": [
        "# 显示所有结果\n",
        "df[~(df.等级=='')].groupby(['等级','name']).first()"
      ],
      "metadata": {
        "id": "lNqiFw5glID-"
      },
      "execution_count": null,
      "outputs": []
    },
    {
      "cell_type": "markdown",
      "source": [
        "### 17.2.7 北京各区无新增新冠肺炎确诊病例天数"
      ],
      "metadata": {
        "id": "9VKlqaRVldOY"
      }
    },
    {
      "cell_type": "code",
      "source": [
        "%pip install clipboard"
      ],
      "metadata": {
        "id": "PTJRYunfmGIV"
      },
      "execution_count": null,
      "outputs": []
    },
    {
      "cell_type": "code",
      "source": [
        "# df = pd.read_clipboard()\n",
        "# df"
      ],
      "metadata": {
        "id": "YTP05qsZlmTN"
      },
      "execution_count": null,
      "outputs": []
    },
    {
      "cell_type": "markdown",
      "source": [
        "### 17.2.9 圣诞节的星期分布"
      ],
      "metadata": {
        "id": "R523pehGosj1"
      }
    },
    {
      "cell_type": "code",
      "source": [
        "# 近100年的圣诞节日期\n",
        "(\n",
        "# 生成100年时间序列\n",
        "pd.Series(pd.date_range('1920', '2021'))\n",
        "# 筛选12月25日的所有日期\n",
        ".loc[lambda s: (s.dt.month==12) & (s.dt.day==25)]\n",
        ".dt.day_of_week # 转为星期数\n",
        ".add(1) # 由于0代表周一，对序列加1，符合日常认知\n",
        ".value_counts() # 重复值计数\n",
        ".plot\n",
        ".bar()\n",
        ")"
      ],
      "metadata": {
        "id": "2SCn1K_8o1e9"
      },
      "execution_count": null,
      "outputs": []
    },
    {
      "cell_type": "markdown",
      "source": [
        "### 17.2.8 生成SQL"
      ],
      "metadata": {
        "id": "qRwaJ89vnHRm"
      }
    },
    {
      "cell_type": "markdown",
      "source": [
        "### 17.2.10 试验三天中恰有两天下雨的概率"
      ],
      "metadata": {
        "id": "X4RZ81HnpU_E"
      }
    },
    {
      "cell_type": "code",
      "source": [
        "import pandas as pd\n",
        "import numpy as np\n",
        "rng = np.random.default_rng() # 定义随机对象\n",
        "days = 100000 # 随机天数\n",
        "arr = rng.integers(0, 1000, days) # 生成随机数字\n",
        "(\n",
        "pd.DataFrame()\n",
        ".assign(x=arr) # 将随机数字增加到列\n",
        ".astype(str) # 转为字符\n",
        ".assign(x=lambda d: d.x.str.zfill(3)) # 在不足三位数字前补0\n",
        ".assign(a=lambda d: d.x.str.count(r'1|2|3|4')) # 统计数字串中1～4（下雨）的数量\n",
        ".query('a==2') # 筛选出两天下雨的数据\n",
        ")"
      ],
      "metadata": {
        "id": "gvUTy592p2ru"
      },
      "execution_count": null,
      "outputs": []
    },
    {
      "cell_type": "code",
      "source": [
        "len(_)/days"
      ],
      "metadata": {
        "id": "vvnUDQDFqgKN"
      },
      "execution_count": null,
      "outputs": []
    },
    {
      "cell_type": "markdown",
      "source": [
        "### 17.2.11 计算平均打卡上班时间"
      ],
      "metadata": {
        "id": "q6STXMJZrBKN"
      }
    },
    {
      "cell_type": "code",
      "source": [
        "# 一周打卡时间记录\n",
        "ts = '''\n",
        "2020-10-28 09:59:44\n",
        "2020-10-29 10:01:32\n",
        "2020-10-30 10:04:27\n",
        "2020-11-02 09:55:43\n",
        "2020-11-03 10:05:03\n",
        "2020-11-04 09:44:34\n",
        "2020-11-05 10:10:32\n",
        "2020-11-06 10:02:37\n",
        "'''"
      ],
      "metadata": {
        "id": "KeSNH89fqJ9m"
      },
      "execution_count": null,
      "outputs": []
    },
    {
      "cell_type": "code",
      "source": [
        "import pandas as pd\n",
        "from io import StringIO\n",
        "# 读取数据，类型设置为时间类型\n",
        "df = pd.read_csv(StringIO(ts), names=['time'], parse_dates=['time'])\n",
        "df\n"
      ],
      "metadata": {
        "id": "tmtcuDpGrSZl"
      },
      "execution_count": null,
      "outputs": []
    },
    {
      "cell_type": "code",
      "source": [
        "df.time.mean()"
      ],
      "metadata": {
        "id": "Oku0N2Fcrgo1"
      },
      "execution_count": null,
      "outputs": []
    },
    {
      "cell_type": "code",
      "source": [
        "# 将时间归为同一天，再求平均时间\n",
        "df.time.apply(lambda s: s.replace(year=2020, month=1, day=1)).mean()\n",
        "df.time.apply(pd.Timestamp.replace, year=2020, month=1, day=1).mean()\n",
        "df.time.agg(pd.Timestamp.replace, year=2020, month=1, day=1).mean()\n",
        "# Timestamp('2020-01-01 10:00:31.500000')"
      ],
      "metadata": {
        "id": "BBx9Sq_hrvwd"
      },
      "execution_count": null,
      "outputs": []
    },
    {
      "cell_type": "markdown",
      "source": [
        "## 17.3 综合案例"
      ],
      "metadata": {
        "id": "dUC4NzhmUvSL"
      }
    },
    {
      "cell_type": "code",
      "source": [
        "!wget -O /usr/share/fonts/truetype/liberation/simhei.ttf \"https://www.wfonts.com/download/data/2014/06/01/simhei/chinese.simhei.ttf\""
      ],
      "metadata": {
        "id": "cf7nUysCtKoe"
      },
      "execution_count": null,
      "outputs": []
    },
    {
      "cell_type": "code",
      "source": [
        "import matplotlib.pyplot as plt\n",
        "import matplotlib as mpl\n",
        "mpl.font_manager.fontManager.addfont('/usr/share/fonts/truetype/liberation/simhei.ttf')\n",
        "plt.rcParams['axes.unicode_minus'] = False  # 用来正常显示负号\n",
        "plt.rcParams['figure.figsize'] = (21.0, 10.0) # 固定显示大小\n",
        "plt.rcParams['font.family'] = ['sans-serif'] # 设置中文字体\n",
        "plt.rcParams['font.sans-serif'] = ['simhei'] # 设置中文字体"
      ],
      "metadata": {
        "id": "HP1aWicftOwd"
      },
      "execution_count": null,
      "outputs": []
    },
    {
      "cell_type": "markdown",
      "source": [
        "### 17.3.1 中国经济发展分析"
      ],
      "metadata": {
        "id": "AsBaETmpsaTl"
      }
    },
    {
      "cell_type": "code",
      "source": [
        "import pandas as pd\n",
        "import matplotlib.pyplot as plt\n",
        "df = pd.read_csv('https://www.gairuo.com/file/data/dataset/GDP-China.csv')\n",
        "df.head()"
      ],
      "metadata": {
        "id": "OkMOKiuGUv8M"
      },
      "execution_count": null,
      "outputs": []
    },
    {
      "cell_type": "code",
      "source": [
        "(\n",
        "  df.set_index('年份')\n",
        "  .plot()\n",
        ")"
      ],
      "metadata": {
        "id": "F_PT8Cn7snmd"
      },
      "execution_count": null,
      "outputs": []
    },
    {
      "cell_type": "code",
      "source": [
        "(\n",
        "  df.set_index('年份')\n",
        "  .loc[:, '第一产业增加值':'第三产业增加值']\n",
        "  .plot()\n",
        ")"
      ],
      "metadata": {
        "id": "YxG9fiyQ1wse"
      },
      "execution_count": null,
      "outputs": []
    },
    {
      "cell_type": "code",
      "source": [
        "(\n",
        "  df.assign(第一产业占比=df.第一产业增加值/df.国内生产总值)\n",
        "  .assign(第二产业占比=df.第二产业增加值/df.国内生产总值)\n",
        "  .assign(第三产业占比=df.第三产业增加值/df.国内生产总值)\n",
        "  .set_index('年份')\n",
        "  .loc[:,['第一产业占比','第二产业占比','第三产业占比']]\n",
        "  .plot()\n",
        ")"
      ],
      "metadata": {
        "id": "4k1nXW912NJ9"
      },
      "execution_count": null,
      "outputs": []
    },
    {
      "cell_type": "code",
      "source": [
        "(\n",
        "  df.groupby(df.年份 >= 2000)\n",
        "  .sum()\n",
        "  .rename(index={True:\"2000年以后\", False:\"2000年以前\"})\n",
        "  .国内生产总值\n",
        "  .plot\n",
        "  .pie()\n",
        ")"
      ],
      "metadata": {
        "id": "cccbPHkm2se2"
      },
      "execution_count": null,
      "outputs": []
    },
    {
      "cell_type": "code",
      "source": [
        "(\n",
        "  df.groupby(pd.cut(df.年份, bins=[i for i in range(1952,2018,5)],right=True))\n",
        "  .sum()\n",
        "  .国内生产总值\n",
        "  .sort_values(ascending=False)\n",
        ")"
      ],
      "metadata": {
        "id": "WMFepOGo3cH2"
      },
      "execution_count": null,
      "outputs": []
    },
    {
      "cell_type": "markdown",
      "source": [
        "## 17.4 本章小结"
      ],
      "metadata": {
        "id": "qQPgojw5U-CU"
      }
    },
    {
      "cell_type": "code",
      "source": [],
      "metadata": {
        "id": "rx8h33DmVAh7"
      },
      "execution_count": null,
      "outputs": []
    }
  ]
}