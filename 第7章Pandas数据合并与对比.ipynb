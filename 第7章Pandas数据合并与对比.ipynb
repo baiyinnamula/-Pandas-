{
  "nbformat": 4,
  "nbformat_minor": 0,
  "metadata": {
    "colab": {
      "private_outputs": true,
      "provenance": [],
      "authorship_tag": "ABX9TyORh7zD4q3TwiMbYUwRTOxx",
      "include_colab_link": true
    },
    "kernelspec": {
      "name": "python3",
      "display_name": "Python 3"
    },
    "language_info": {
      "name": "python"
    }
  },
  "cells": [
    {
      "cell_type": "markdown",
      "metadata": {
        "id": "view-in-github",
        "colab_type": "text"
      },
      "source": [
        "<a href=\"https://colab.research.google.com/github/baiyinnamula/EasyToUnderstandPandas/blob/main/%E7%AC%AC7%E7%AB%A0Pandas%E6%95%B0%E6%8D%AE%E5%90%88%E5%B9%B6%E4%B8%8E%E5%AF%B9%E6%AF%94.ipynb\" target=\"_parent\"><img src=\"https://colab.research.google.com/assets/colab-badge.svg\" alt=\"Open In Colab\"/></a>"
      ]
    },
    {
      "cell_type": "code",
      "execution_count": null,
      "metadata": {
        "id": "srOKjU-6aeMm"
      },
      "outputs": [],
      "source": [
        "import numpy as np\n",
        "import pandas as pd\n"
      ]
    },
    {
      "cell_type": "markdown",
      "source": [
        "## 7.1 数据追加df.append"
      ],
      "metadata": {
        "id": "qGs9yS0gauTM"
      }
    },
    {
      "cell_type": "markdown",
      "source": [
        "### 7.1.1 基本语法"
      ],
      "metadata": {
        "id": "iZe1wSCQcLdc"
      }
    },
    {
      "cell_type": "markdown",
      "source": [
        "### 7.1.2 相同结构"
      ],
      "metadata": {
        "id": "IFIGHSB4cV5a"
      }
    },
    {
      "cell_type": "code",
      "source": [
        "df1 = pd.DataFrame({'x': [1,2], 'y': [3, 4]})\n",
        "df1"
      ],
      "metadata": {
        "id": "LlwYG3AVa3WK"
      },
      "execution_count": null,
      "outputs": []
    },
    {
      "cell_type": "code",
      "source": [
        "df2 = pd.DataFrame({'x': [5,6], 'y': [7, 8]})\n",
        "df2"
      ],
      "metadata": {
        "id": "hntZdg0aciT6"
      },
      "execution_count": null,
      "outputs": []
    },
    {
      "cell_type": "code",
      "source": [
        "df1.append(df2)"
      ],
      "metadata": {
        "id": "-Yim0NMtcnuy"
      },
      "execution_count": null,
      "outputs": []
    },
    {
      "cell_type": "code",
      "source": [
        "df1.append([df2, df2, df2])"
      ],
      "metadata": {
        "id": "86cJ1t5VctyL"
      },
      "execution_count": null,
      "outputs": []
    },
    {
      "cell_type": "markdown",
      "source": [
        "### 7.1.3 不同结构"
      ],
      "metadata": {
        "id": "-O6wrbLdc1DG"
      }
    },
    {
      "cell_type": "code",
      "source": [
        "df3 = pd.DataFrame({'y': [5,6], 'z': [7, 8]})\n",
        "df3"
      ],
      "metadata": {
        "id": "3o7Bepszc86q"
      },
      "execution_count": null,
      "outputs": []
    },
    {
      "cell_type": "code",
      "source": [
        "df1.append(df3)"
      ],
      "metadata": {
        "id": "ztZ4WE8kc-4z"
      },
      "execution_count": null,
      "outputs": []
    },
    {
      "cell_type": "markdown",
      "source": [
        "### 7.1.4 忽略索引"
      ],
      "metadata": {
        "id": "4ngYXwygdFjK"
      }
    },
    {
      "cell_type": "code",
      "source": [
        "df1.append(df2, ignore_index=True)"
      ],
      "metadata": {
        "id": "Jn_ulbs9dHWj"
      },
      "execution_count": null,
      "outputs": []
    },
    {
      "cell_type": "markdown",
      "source": [
        "### 7.1.5 重复内容"
      ],
      "metadata": {
        "id": "SeJDQ64LdSfT"
      }
    },
    {
      "cell_type": "code",
      "source": [
        "# df1.append([df2, df1], verify_integrity=True)"
      ],
      "metadata": {
        "id": "U6XDKKfRdVj7"
      },
      "execution_count": null,
      "outputs": []
    },
    {
      "cell_type": "markdown",
      "source": [
        "### 7.1.6 追加序列"
      ],
      "metadata": {
        "id": "s3qXzHUbdf2b"
      }
    },
    {
      "cell_type": "code",
      "source": [
        "df = pd.read_excel('https://www.gairuo.com/file/data/dataset/team.xlsx')\n",
        "df"
      ],
      "metadata": {
        "id": "_jA8t7Oxdr8S"
      },
      "execution_count": null,
      "outputs": []
    },
    {
      "cell_type": "code",
      "source": [
        "# 定义新同学的信息\n",
        "lily = pd.Series(['lily', 'C', 55, 56, 57, 58],\n",
        "index=['name', 'team', 'Q1', 'Q2', 'Q3', 'Q4'])\n",
        "lily"
      ],
      "metadata": {
        "id": "EgsgFSRAdyAL"
      },
      "execution_count": null,
      "outputs": []
    },
    {
      "cell_type": "code",
      "source": [
        "df = df.append(lily, ignore_index=True)"
      ],
      "metadata": {
        "id": "Pi2aPZxJd0ub"
      },
      "execution_count": null,
      "outputs": []
    },
    {
      "cell_type": "code",
      "source": [
        "df.tail()"
      ],
      "metadata": {
        "id": "Zyb4n_fed6n1"
      },
      "execution_count": null,
      "outputs": []
    },
    {
      "cell_type": "markdown",
      "source": [
        "### 7.1.7 追加字典"
      ],
      "metadata": {
        "id": "sYTzahUreBKT"
      }
    },
    {
      "cell_type": "code",
      "source": [
        "# 将学生信息定义为一个字典\n",
        "lily = {'name': 'lily', 'team': 'C', 'Q1':55, 'Q2':56, 'Q3':57, 'Q4':58}\n",
        "df = df.append(lily, ignore_index=True)"
      ],
      "metadata": {
        "id": "oHb4tBoDeAJ6"
      },
      "execution_count": null,
      "outputs": []
    },
    {
      "cell_type": "markdown",
      "source": [
        "## 7.2 数据连接pd.concat"
      ],
      "metadata": {
        "id": "IcmJjrgfa33y"
      }
    },
    {
      "cell_type": "markdown",
      "source": [
        "### 7.2.1 基本语法"
      ],
      "metadata": {
        "id": "uLzjQpK5ergU"
      }
    },
    {
      "cell_type": "markdown",
      "source": [
        "### 7.2.2 简单连接"
      ],
      "metadata": {
        "id": "0BzV5rtCfgaT"
      }
    },
    {
      "cell_type": "code",
      "source": [
        "pd.concat([df1, df2])"
      ],
      "metadata": {
        "id": "ewDPZugJa57S"
      },
      "execution_count": null,
      "outputs": []
    },
    {
      "cell_type": "markdown",
      "source": [
        "### 7.2.3 按列连接"
      ],
      "metadata": {
        "id": "7AVgLHfrftgb"
      }
    },
    {
      "cell_type": "code",
      "source": [
        "pd.concat([df1, df2], axis=1)"
      ],
      "metadata": {
        "id": "Nu0ksmKif3lE"
      },
      "execution_count": null,
      "outputs": []
    },
    {
      "cell_type": "code",
      "source": [
        "df2 = pd.DataFrame({'x': [5, 6, 0], 'y': [7, 8, 0]})\n",
        "df2"
      ],
      "metadata": {
        "id": "HBaoB3Jtf_9l"
      },
      "execution_count": null,
      "outputs": []
    },
    {
      "cell_type": "code",
      "source": [
        "pd.concat([df1, df2], axis=1)"
      ],
      "metadata": {
        "id": "vNDO1ETkgB4c"
      },
      "execution_count": null,
      "outputs": []
    },
    {
      "cell_type": "markdown",
      "source": [
        "### 7.2.4 合并交集"
      ],
      "metadata": {
        "id": "nT09Oh3TgIaz"
      }
    },
    {
      "cell_type": "code",
      "source": [
        "pd.concat([df1, df2], axis=1, join='inner')"
      ],
      "metadata": {
        "id": "wut9HceXgc_U"
      },
      "execution_count": null,
      "outputs": []
    },
    {
      "cell_type": "code",
      "source": [
        "pd.concat([df1, df2], axis=1).reindex(df1.index)"
      ],
      "metadata": {
        "id": "THlS5aRqgraj"
      },
      "execution_count": null,
      "outputs": []
    },
    {
      "cell_type": "markdown",
      "source": [
        "### 7.2.5 与序列合并"
      ],
      "metadata": {
        "id": "Dp_oN808g4aU"
      }
    },
    {
      "cell_type": "code",
      "source": [
        "z = pd.Series([9, 9], name='z')\n",
        "pd.concat([df1, z], axis=1)"
      ],
      "metadata": {
        "id": "azjhBKDeg6KE"
      },
      "execution_count": null,
      "outputs": []
    },
    {
      "cell_type": "code",
      "source": [
        "df1.assign(c=z)"
      ],
      "metadata": {
        "id": "eSkZvp36hH7U"
      },
      "execution_count": null,
      "outputs": []
    },
    {
      "cell_type": "markdown",
      "source": [
        "### 7.2.6 指定索引"
      ],
      "metadata": {
        "id": "ZKdkU-4chOjr"
      }
    },
    {
      "cell_type": "code",
      "source": [
        "# 指定索引名\n",
        "pd.concat([df1, df2], keys=['a', 'b'])"
      ],
      "metadata": {
        "id": "OguXoF3IhToL"
      },
      "execution_count": null,
      "outputs": []
    },
    {
      "cell_type": "code",
      "source": [
        "# 指定索引名\n",
        "pd.concat([df1, df2], axis=1, keys=['a', 'b'])"
      ],
      "metadata": {
        "id": "ZwSXM2A5hexm"
      },
      "execution_count": null,
      "outputs": []
    },
    {
      "cell_type": "markdown",
      "source": [
        "### 7.2.7 多文件合并"
      ],
      "metadata": {
        "id": "jrwef4F2hi8L"
      }
    },
    {
      "cell_type": "code",
      "source": [],
      "metadata": {
        "id": "yWHBOu6whkYc"
      },
      "execution_count": null,
      "outputs": []
    },
    {
      "cell_type": "markdown",
      "source": [
        "### 7.2.8 目录文件合并"
      ],
      "metadata": {
        "id": "f01ot_rXhzws"
      }
    },
    {
      "cell_type": "markdown",
      "source": [
        "## 7.3 数据合并pd.merge"
      ],
      "metadata": {
        "id": "WD5L3bsPa8FD"
      }
    },
    {
      "cell_type": "markdown",
      "source": [
        "### 7.3.1 基本语法"
      ],
      "metadata": {
        "id": "GTV1TxkJidms"
      }
    },
    {
      "cell_type": "markdown",
      "source": [
        "### 7.3.2 连接键"
      ],
      "metadata": {
        "id": "d8XwwOcfit8E"
      }
    },
    {
      "cell_type": "code",
      "source": [
        "df1 = pd.DataFrame({'a': [1, 2], 'x': [5, 6]})\n",
        "df1"
      ],
      "metadata": {
        "id": "A_JriFOoi4fk"
      },
      "execution_count": null,
      "outputs": []
    },
    {
      "cell_type": "code",
      "source": [
        "df2 = pd.DataFrame({'a': [2, 1, 0], 'y': [6, 7, 8]})\n",
        "df2"
      ],
      "metadata": {
        "id": "ckgETY2-i6Mr"
      },
      "execution_count": null,
      "outputs": []
    },
    {
      "cell_type": "code",
      "source": [
        "pd.merge(df1, df2, on='a')"
      ],
      "metadata": {
        "id": "nLclmGEbi8BM"
      },
      "execution_count": null,
      "outputs": []
    },
    {
      "cell_type": "markdown",
      "source": [
        "### 7.3.3 索引连接"
      ],
      "metadata": {
        "id": "WVGXCadcjC1T"
      }
    },
    {
      "cell_type": "markdown",
      "source": [
        "## 7.4 按元素合并"
      ],
      "metadata": {
        "id": "Fn3QO6G3a_vF"
      }
    },
    {
      "cell_type": "code",
      "source": [],
      "metadata": {
        "id": "r0qWUrQAbAX6"
      },
      "execution_count": null,
      "outputs": []
    },
    {
      "cell_type": "markdown",
      "source": [
        "## 7.5 数据对比df.compare"
      ],
      "metadata": {
        "id": "XJpIdSwpbCWS"
      }
    },
    {
      "cell_type": "code",
      "source": [],
      "metadata": {
        "id": "yifRHyLCbC_h"
      },
      "execution_count": null,
      "outputs": []
    },
    {
      "cell_type": "markdown",
      "source": [
        "## 7.6 本章小结"
      ],
      "metadata": {
        "id": "pDyzoUhybE17"
      }
    },
    {
      "cell_type": "code",
      "source": [],
      "metadata": {
        "id": "UUTpdc9KbFaG"
      },
      "execution_count": null,
      "outputs": []
    }
  ]
}