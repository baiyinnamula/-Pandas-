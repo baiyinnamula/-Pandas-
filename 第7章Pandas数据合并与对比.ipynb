{
  "nbformat": 4,
  "nbformat_minor": 0,
  "metadata": {
    "colab": {
      "private_outputs": true,
      "provenance": [],
      "authorship_tag": "ABX9TyMhYVCBGex+7o+DseSTSt/N",
      "include_colab_link": true
    },
    "kernelspec": {
      "name": "python3",
      "display_name": "Python 3"
    },
    "language_info": {
      "name": "python"
    }
  },
  "cells": [
    {
      "cell_type": "markdown",
      "metadata": {
        "id": "view-in-github",
        "colab_type": "text"
      },
      "source": [
        "<a href=\"https://colab.research.google.com/github/baiyinnamula/EasyToUnderstandPandas/blob/main/%E7%AC%AC7%E7%AB%A0Pandas%E6%95%B0%E6%8D%AE%E5%90%88%E5%B9%B6%E4%B8%8E%E5%AF%B9%E6%AF%94.ipynb\" target=\"_parent\"><img src=\"https://colab.research.google.com/assets/colab-badge.svg\" alt=\"Open In Colab\"/></a>"
      ]
    },
    {
      "cell_type": "code",
      "execution_count": null,
      "metadata": {
        "id": "srOKjU-6aeMm"
      },
      "outputs": [],
      "source": [
        "import numpy as np\n",
        "import pandas as pd\n"
      ]
    },
    {
      "cell_type": "markdown",
      "source": [
        "## 7.1 数据追加df.append"
      ],
      "metadata": {
        "id": "qGs9yS0gauTM"
      }
    },
    {
      "cell_type": "code",
      "source": [],
      "metadata": {
        "id": "LlwYG3AVa3WK"
      },
      "execution_count": null,
      "outputs": []
    },
    {
      "cell_type": "markdown",
      "source": [
        "## 7.2 数据连接pd.concat"
      ],
      "metadata": {
        "id": "IcmJjrgfa33y"
      }
    },
    {
      "cell_type": "code",
      "source": [],
      "metadata": {
        "id": "ewDPZugJa57S"
      },
      "execution_count": null,
      "outputs": []
    },
    {
      "cell_type": "markdown",
      "source": [
        "## 7.3 数据合并pd.merge"
      ],
      "metadata": {
        "id": "WD5L3bsPa8FD"
      }
    },
    {
      "cell_type": "code",
      "source": [],
      "metadata": {
        "id": "NyMtv8Lsa8wr"
      },
      "execution_count": null,
      "outputs": []
    },
    {
      "cell_type": "markdown",
      "source": [
        "## 7.4 按元素合并"
      ],
      "metadata": {
        "id": "Fn3QO6G3a_vF"
      }
    },
    {
      "cell_type": "code",
      "source": [],
      "metadata": {
        "id": "r0qWUrQAbAX6"
      },
      "execution_count": null,
      "outputs": []
    },
    {
      "cell_type": "markdown",
      "source": [
        "## 7.5 数据对比df.compare"
      ],
      "metadata": {
        "id": "XJpIdSwpbCWS"
      }
    },
    {
      "cell_type": "code",
      "source": [],
      "metadata": {
        "id": "yifRHyLCbC_h"
      },
      "execution_count": null,
      "outputs": []
    },
    {
      "cell_type": "markdown",
      "source": [
        "## 7.6 本章小结"
      ],
      "metadata": {
        "id": "pDyzoUhybE17"
      }
    },
    {
      "cell_type": "code",
      "source": [],
      "metadata": {
        "id": "UUTpdc9KbFaG"
      },
      "execution_count": null,
      "outputs": []
    }
  ]
}