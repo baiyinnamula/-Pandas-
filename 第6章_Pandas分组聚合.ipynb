{
  "nbformat": 4,
  "nbformat_minor": 0,
  "metadata": {
    "colab": {
      "private_outputs": true,
      "provenance": [],
      "toc_visible": true,
      "authorship_tag": "ABX9TyM1jAdKai2aKBpvhDqMi+Nf",
      "include_colab_link": true
    },
    "kernelspec": {
      "name": "python3",
      "display_name": "Python 3"
    },
    "language_info": {
      "name": "python"
    }
  },
  "cells": [
    {
      "cell_type": "markdown",
      "metadata": {
        "id": "view-in-github",
        "colab_type": "text"
      },
      "source": [
        "<a href=\"https://colab.research.google.com/github/baiyinnamula/EasyToUnderstandPandas/blob/main/%E7%AC%AC6%E7%AB%A0_Pandas%E5%88%86%E7%BB%84%E8%81%9A%E5%90%88.ipynb\" target=\"_parent\"><img src=\"https://colab.research.google.com/assets/colab-badge.svg\" alt=\"Open In Colab\"/></a>"
      ]
    },
    {
      "cell_type": "code",
      "execution_count": null,
      "metadata": {
        "id": "l0zm3ZoXhJTq"
      },
      "outputs": [],
      "source": [
        "import numpy as np\n",
        "import pandas as pd\n",
        "df = pd.read_excel('https://www.gairuo.com/file/data/dataset/team.xlsx')"
      ]
    },
    {
      "cell_type": "markdown",
      "source": [
        "## 6.1 概述\n"
      ],
      "metadata": {
        "id": "vKLP4hEnhUPh"
      }
    },
    {
      "cell_type": "markdown",
      "source": [
        "### 6.1.1 原理\n",
        "新西兰统计学家、数据科学家哈德利·威克姆（Hadley Wickham，\n",
        "众多热门R语言包的作者）在其知名论文“The Split-Apply-Combine\n",
        "Strategy for Data Analysis”\n",
        "[1]中阐述了“拆分－应用－合并”（Split-Apply\u0002Combine）策略在数据分析中的应用，Pandas按照这个思路给出了最佳\n",
        "实践。"
      ],
      "metadata": {
        "id": "VpoP6T8BiMjq"
      }
    },
    {
      "cell_type": "markdown",
      "source": [
        "### 6.1.2 groupby 语法"
      ],
      "metadata": {
        "id": "EvpU1pWIiXLh"
      }
    },
    {
      "cell_type": "markdown",
      "source": [
        "### 6.1.3 DataFrame应用分组"
      ],
      "metadata": {
        "id": "bfIIbSrqjJMp"
      }
    },
    {
      "cell_type": "code",
      "source": [
        "df"
      ],
      "metadata": {
        "id": "2Arw2Ha4mOid"
      },
      "execution_count": null,
      "outputs": []
    },
    {
      "cell_type": "code",
      "source": [
        "df.groupby('team').sum()"
      ],
      "metadata": {
        "id": "KhRv7NvVmIJe"
      },
      "execution_count": null,
      "outputs": []
    },
    {
      "cell_type": "code",
      "source": [
        "df.groupby('team').agg({\n",
        "    'Q1':sum,\n",
        "    'Q2':'count',\n",
        "    'Q3': 'mean',\n",
        "    'Q4': max\n",
        "})"
      ],
      "metadata": {
        "id": "B9MyTi-4mUFp"
      },
      "execution_count": null,
      "outputs": []
    },
    {
      "cell_type": "code",
      "source": [
        "df.groupby('team').agg({\n",
        "    'Q1':[sum, 'std', max],\n",
        "    'Q2':'count',\n",
        "    'Q3': 'mean',\n",
        "    'Q4': max\n",
        "})"
      ],
      "metadata": {
        "id": "TC7mxVHWmnQ6"
      },
      "execution_count": null,
      "outputs": []
    },
    {
      "cell_type": "markdown",
      "source": [
        "### 6.1.4 Series应用分组"
      ],
      "metadata": {
        "id": "xiNflrKkm0UB"
      }
    },
    {
      "cell_type": "code",
      "source": [
        "df.Q1.groupby(df.team).sum()"
      ],
      "metadata": {
        "id": "unNLWip1m2TB"
      },
      "execution_count": null,
      "outputs": []
    },
    {
      "cell_type": "markdown",
      "source": [
        "## 6.2 分组"
      ],
      "metadata": {
        "id": "k5tJ16UAhaiI"
      }
    },
    {
      "cell_type": "markdown",
      "source": [
        "### 6.2.1 分组对象"
      ],
      "metadata": {
        "id": "CpYpcZBknbBx"
      }
    },
    {
      "cell_type": "code",
      "source": [
        "df.groupby('team')"
      ],
      "metadata": {
        "id": "46J5qvxDheBn"
      },
      "execution_count": null,
      "outputs": []
    },
    {
      "cell_type": "code",
      "source": [
        "df.Q1.groupby(df.team)"
      ],
      "metadata": {
        "id": "t3H036HInp9a"
      },
      "execution_count": null,
      "outputs": []
    },
    {
      "cell_type": "markdown",
      "source": [
        "### 6.2.2 按标签分组"
      ],
      "metadata": {
        "id": "tiztDCTOnyDJ"
      }
    },
    {
      "cell_type": "code",
      "source": [
        "grouped = df.groupby('team')\n",
        "grouped.get_group('D')"
      ],
      "metadata": {
        "id": "49OCRwT8n9px"
      },
      "execution_count": null,
      "outputs": []
    },
    {
      "cell_type": "markdown",
      "source": [
        "### 6.2.3 表达式"
      ],
      "metadata": {
        "id": "9SvuVKVAoJEU"
      }
    },
    {
      "cell_type": "code",
      "source": [
        "df.groupby(lambda x: x%2 == 0).sum()"
      ],
      "metadata": {
        "id": "v5pKODJooRop"
      },
      "execution_count": null,
      "outputs": []
    },
    {
      "cell_type": "code",
      "source": [
        "df.groupby(df.index%2 == 0).sum()"
      ],
      "metadata": {
        "id": "CXy5ey-Codlj"
      },
      "execution_count": null,
      "outputs": []
    },
    {
      "cell_type": "code",
      "source": [
        "df.groupby(lambda x: x >= 50).sum()"
      ],
      "metadata": {
        "id": "f9FnAg2aoj5i"
      },
      "execution_count": null,
      "outputs": []
    },
    {
      "cell_type": "code",
      "source": [
        "df.groupby(df.index >= 50).sum()"
      ],
      "metadata": {
        "id": "0Pl3LoKwopra"
      },
      "execution_count": null,
      "outputs": []
    },
    {
      "cell_type": "code",
      "source": [
        "df.groupby(lambda x : 'Q' in x, axis=1).sum()"
      ],
      "metadata": {
        "id": "X3RIdlcYozAL"
      },
      "execution_count": null,
      "outputs": []
    },
    {
      "cell_type": "code",
      "source": [
        "df"
      ],
      "metadata": {
        "id": "t4QGgIs5o-Js"
      },
      "execution_count": null,
      "outputs": []
    },
    {
      "cell_type": "code",
      "source": [
        "df.groupby(df.name.str[0]).count()"
      ],
      "metadata": {
        "id": "MAIBIAGOvvu3"
      },
      "execution_count": null,
      "outputs": []
    },
    {
      "cell_type": "code",
      "source": [
        "df.groupby(df.team.isin(['A', 'B'])).count()"
      ],
      "metadata": {
        "id": "NNvHJ7UWv_SP"
      },
      "execution_count": null,
      "outputs": []
    },
    {
      "cell_type": "markdown",
      "source": [
        "### 6.2.4 函数分组"
      ],
      "metadata": {
        "id": "T5F-YTl4wW8Y"
      }
    },
    {
      "cell_type": "code",
      "source": [
        "# 按姓名首字母为元音、辅音分组\n",
        "def get_letter_type(letter):\n",
        "  if letter[0].lower() in 'aeiou':\n",
        "    return '元音'\n",
        "  else:\n",
        "    return '辅音'\n",
        "\n",
        "\n",
        "df.set_index('name').groupby(get_letter_type).sum()"
      ],
      "metadata": {
        "id": "YpEds2WkwoKH"
      },
      "execution_count": null,
      "outputs": []
    },
    {
      "cell_type": "markdown",
      "source": [
        "### 6.2.5 多种方法混合"
      ],
      "metadata": {
        "id": "kxrVCXRJxGzv"
      }
    },
    {
      "cell_type": "code",
      "source": [
        "# 按team、姓名首字母是否为元音分组\n",
        "df.groupby(['team', df.name.apply(get_letter_type)]).sum()"
      ],
      "metadata": {
        "id": "aXdHHG_7xURf"
      },
      "execution_count": null,
      "outputs": []
    },
    {
      "cell_type": "markdown",
      "source": [
        "### 6.2.6 用pipe调用分组方法"
      ],
      "metadata": {
        "id": "WH7NRFFpxly3"
      }
    },
    {
      "cell_type": "code",
      "source": [
        "df.pipe(pd.DataFrame.groupby, 'team').sum()"
      ],
      "metadata": {
        "id": "hyvmBdiuxnUf"
      },
      "execution_count": null,
      "outputs": []
    },
    {
      "cell_type": "markdown",
      "source": [
        "### 6.2.7 分组器Grouper"
      ],
      "metadata": {
        "id": "gyF6Hegix30g"
      }
    },
    {
      "cell_type": "code",
      "source": [
        "df.groupby(pd.Grouper('team')).sum()"
      ],
      "metadata": {
        "id": "MrFOICinx5cP"
      },
      "execution_count": null,
      "outputs": []
    },
    {
      "cell_type": "markdown",
      "source": [
        "### 6.2.8 索引"
      ],
      "metadata": {
        "id": "z0M9Cai4ycw_"
      }
    },
    {
      "cell_type": "code",
      "source": [
        "df.groupby('team', as_index=False).sum()"
      ],
      "metadata": {
        "id": "DgFB5_hCyg6H"
      },
      "execution_count": null,
      "outputs": []
    },
    {
      "cell_type": "code",
      "source": [
        "df.groupby('team', as_index=True).sum()"
      ],
      "metadata": {
        "id": "fyo1io1wyr1g"
      },
      "execution_count": null,
      "outputs": []
    },
    {
      "cell_type": "markdown",
      "source": [
        "### 6.2.9 排序"
      ],
      "metadata": {
        "id": "rerAf8Bkyw_m"
      }
    },
    {
      "cell_type": "code",
      "source": [
        "df.groupby('team', sort=False).sum()"
      ],
      "metadata": {
        "id": "UnKHyMh1yv0X"
      },
      "execution_count": null,
      "outputs": []
    },
    {
      "cell_type": "markdown",
      "source": [
        "## 6.3 分组对象操作"
      ],
      "metadata": {
        "id": "VvEexztVhee4"
      }
    },
    {
      "cell_type": "code",
      "source": [
        "# 分组，为了方便案例介绍，删去name列，分组后全为数字\n",
        "grouped = df.drop('name', axis=1).groupby('team')\n",
        "grouped"
      ],
      "metadata": {
        "id": "nVvfHTEWhiFY"
      },
      "execution_count": null,
      "outputs": []
    },
    {
      "cell_type": "code",
      "source": [
        "grouped.sum()"
      ],
      "metadata": {
        "id": "L2u2uYNgzc_X"
      },
      "execution_count": null,
      "outputs": []
    },
    {
      "cell_type": "code",
      "source": [
        "grouped.groups"
      ],
      "metadata": {
        "id": "hIaW6nA8zqJv"
      },
      "execution_count": null,
      "outputs": []
    },
    {
      "cell_type": "markdown",
      "source": [
        "### 6.3.1 选择分组"
      ],
      "metadata": {
        "id": "PhCMsUkszi5A"
      }
    },
    {
      "cell_type": "code",
      "source": [
        "grouped.groups.keys()"
      ],
      "metadata": {
        "id": "Ngiacaubz0vJ"
      },
      "execution_count": null,
      "outputs": []
    },
    {
      "cell_type": "code",
      "source": [
        "# 用团队和姓名首字母分组\n",
        "grouped2 = df.groupby(['team', df.name.str[0]])\n",
        "# 选择B组、姓名以A开头的数据\n",
        "grouped2.get_group(('B', 'A'))"
      ],
      "metadata": {
        "id": "5oxCaT_o0Cj_"
      },
      "execution_count": null,
      "outputs": []
    },
    {
      "cell_type": "code",
      "source": [
        "grouped.indices"
      ],
      "metadata": {
        "id": "LwACldNE0JWP"
      },
      "execution_count": null,
      "outputs": []
    },
    {
      "cell_type": "markdown",
      "source": [
        "### 6.3.2 迭代分组"
      ],
      "metadata": {
        "id": "qvAixHcZ0j4P"
      }
    },
    {
      "cell_type": "code",
      "source": [
        "for name, group  in grouped:\n",
        "  print(type(name))\n",
        "  print(type(group))"
      ],
      "metadata": {
        "id": "vsExzHai0nF3"
      },
      "execution_count": null,
      "outputs": []
    },
    {
      "cell_type": "markdown",
      "source": [
        "### 6.3.3 选择列"
      ],
      "metadata": {
        "id": "gvuu_FOG6es9"
      }
    },
    {
      "cell_type": "code",
      "source": [
        "grouped[['Q1', 'Q2']]"
      ],
      "metadata": {
        "id": "yg0r6M9-6iNZ"
      },
      "execution_count": null,
      "outputs": []
    },
    {
      "cell_type": "markdown",
      "source": [
        "### 6.3.4 应用函数apply()"
      ],
      "metadata": {
        "id": "S0TI7X1h6zVK"
      }
    },
    {
      "cell_type": "code",
      "source": [
        "df.groupby('team').apply(lambda x: x*2)"
      ],
      "metadata": {
        "id": "StSTwoxO66R_"
      },
      "execution_count": null,
      "outputs": []
    },
    {
      "cell_type": "code",
      "source": [
        "df.groupby('team').apply(lambda x: x['name'].to_list())"
      ],
      "metadata": {
        "id": "ZYV8avZ37Oua"
      },
      "execution_count": null,
      "outputs": []
    },
    {
      "cell_type": "code",
      "source": [
        "df.groupby('team').apply(lambda x: x['name'].to_list()).A"
      ],
      "metadata": {
        "id": "w0BrPKxG7nzr"
      },
      "execution_count": null,
      "outputs": []
    },
    {
      "cell_type": "code",
      "source": [
        "# 各组Q1（为参数）成绩最高的前三个\n",
        "def first_3(df_, c):\n",
        "  return df_[c].sort_values(ascending=False).head(3)"
      ],
      "metadata": {
        "id": "Sfv-Ij6M7tib"
      },
      "execution_count": null,
      "outputs": []
    },
    {
      "cell_type": "code",
      "source": [
        "df.set_index('name').groupby('team').apply(first_3, 'Q1')"
      ],
      "metadata": {
        "id": "yzIV_H9579Pj"
      },
      "execution_count": null,
      "outputs": []
    },
    {
      "cell_type": "code",
      "source": [
        "# 通过设置group_keys，可以使分组字段不作为索引\n",
        "df.set_index('name').groupby('team', group_keys=False).apply(first_3, 'Q1')"
      ],
      "metadata": {
        "id": "vPkTsU7I8Uas"
      },
      "execution_count": null,
      "outputs": []
    },
    {
      "cell_type": "code",
      "source": [
        "(\n",
        "df.groupby('team').apply(lambda x: pd.Series({\n",
        "  'Q1_sum' : x['Q1'].sum(),\n",
        "  'Q1_max' : x['Q1'].max(),\n",
        "  'Q2_mean' : x['Q2'].mean(),\n",
        "  'Q4_prodsum' : (x['Q4'] * x['Q4']).sum()\n",
        "}))\n",
        ")\n",
        "# 定义一个函数\n",
        "def f_mi(x):\n",
        "  d = []\n",
        "  d.append(x['Q1'].sum())\n",
        "  d.append(x['Q2'].max())\n",
        "  d.append(x['Q3'].mean())\n",
        "  d.append((x['Q4'] * x['Q4']).sum())\n",
        "  return pd.Series(d, index=[['Q1', 'Q2', 'Q3', 'Q4'], ['sum', 'max', 'mean', 'prodsum']])\n",
        "# 使用函数\n",
        "df.groupby('team').apply(f_mi)"
      ],
      "metadata": {
        "id": "b0gUXuMi8vrL"
      },
      "execution_count": null,
      "outputs": []
    },
    {
      "cell_type": "code",
      "source": [
        "# 定义了A组和B组平均值的差值\n",
        "def mean_diff(x):\n",
        "  return x.get_group('A').mean() - x.get_group('B').mean()\n",
        "\n",
        "\n",
        "df.groupby('team').pipe(mean_diff)"
      ],
      "metadata": {
        "id": "DMY8zhUO9v9c"
      },
      "execution_count": null,
      "outputs": []
    },
    {
      "cell_type": "markdown",
      "source": [
        "### 6.3.5 管道方法pipe()"
      ],
      "metadata": {
        "id": "g-sxqmHS9Qar"
      }
    },
    {
      "cell_type": "code",
      "source": [
        "df.drop('name', axis=1).groupby('team').pipe(lambda x: x.max() - x.min())"
      ],
      "metadata": {
        "id": "MXzFAqom9Pri"
      },
      "execution_count": null,
      "outputs": []
    },
    {
      "cell_type": "markdown",
      "source": [
        "### 6.3.6 转换方法transform()"
      ],
      "metadata": {
        "id": "16nj8moi-CmT"
      }
    },
    {
      "cell_type": "code",
      "source": [
        "df.groupby('team').transform(np.mean)"
      ],
      "metadata": {
        "id": "sM9-l46b-PDU"
      },
      "execution_count": null,
      "outputs": []
    },
    {
      "cell_type": "code",
      "source": [
        "df.groupby('team').transform(max)"
      ],
      "metadata": {
        "id": "Js1K4ALE-pSL"
      },
      "execution_count": null,
      "outputs": []
    },
    {
      "cell_type": "code",
      "source": [
        "df.groupby('team').transform(np.std)"
      ],
      "metadata": {
        "id": "Pv1LYPmu-xJ8"
      },
      "execution_count": null,
      "outputs": []
    },
    {
      "cell_type": "code",
      "source": [
        "## 使用函数，和上一个学生的差值（没有处理姓名列）\n",
        "df.groupby('team').transform(lambda x: x.shift(-1))"
      ],
      "metadata": {
        "id": "3HgtM6S4-6AU"
      },
      "execution_count": null,
      "outputs": []
    },
    {
      "cell_type": "code",
      "source": [
        "def score(gb):\n",
        "  return (gb - gb.mean()) / gb.std() * 10\n",
        "grouped.transform(score)"
      ],
      "metadata": {
        "id": "-cHrZQx4_IMU"
      },
      "execution_count": null,
      "outputs": []
    },
    {
      "cell_type": "code",
      "source": [
        "#Q1成绩大于60的组的所有成员\n",
        "df[df.groupby('team').transform('mean').Q1 > 60]"
      ],
      "metadata": {
        "id": "tuxvNOHj_eBL"
      },
      "execution_count": null,
      "outputs": []
    },
    {
      "cell_type": "markdown",
      "source": [
        "### 6.3.7 筛选方法filter()"
      ],
      "metadata": {
        "id": "jBKrmB7A_xek"
      }
    },
    {
      "cell_type": "code",
      "source": [
        "# 每组每个季度的平均分\n",
        "df.groupby('team').mean()"
      ],
      "metadata": {
        "id": "ITHsJPeC_0F8"
      },
      "execution_count": null,
      "outputs": []
    },
    {
      "cell_type": "code",
      "source": [
        "# 每组4个季度的平均分的平均分为本组的总平均分\n",
        "df.groupby('team').mean().mean(1)"
      ],
      "metadata": {
        "id": "Lks8DVebAP1M"
      },
      "execution_count": null,
      "outputs": []
    },
    {
      "cell_type": "code",
      "source": [
        "# 筛选出所在组总平均分大于51的成员\n",
        "df.groupby('team').filter(lambda x: x.mean(1).mean() > 51)"
      ],
      "metadata": {
        "id": "-iUCizMjAZ9D"
      },
      "execution_count": null,
      "outputs": []
    },
    {
      "cell_type": "code",
      "source": [
        "# Q1成绩至少有一个大于97的组\n",
        "df.groupby('team').filter(lambda x: (x['Q1'] > 97).any())"
      ],
      "metadata": {
        "id": "3DZRfW_KA2Y7"
      },
      "execution_count": null,
      "outputs": []
    },
    {
      "cell_type": "code",
      "source": [
        "# # 所有成员平均成绩大于60的组\n",
        "df.groupby('team').filter(lambda x: (x.mean() >= 60).all())"
      ],
      "metadata": {
        "id": "47LTo9hIBJ1j"
      },
      "execution_count": null,
      "outputs": []
    },
    {
      "cell_type": "code",
      "source": [
        "# Q1所有成员成绩之和超过1060的组\n",
        "df.groupby('team').filter(lambda g: g.Q1.sum() > 1060)"
      ],
      "metadata": {
        "id": "mTWym_fEBvje"
      },
      "execution_count": null,
      "outputs": []
    },
    {
      "cell_type": "markdown",
      "source": [
        "### 6.3.8 其他功能"
      ],
      "metadata": {
        "id": "nqffUiWzB8cM"
      }
    },
    {
      "cell_type": "code",
      "source": [
        "df.groupby('team').first() # 组内第一个\n",
        "df.groupby('team').last() # 组内最后一个\n",
        "df.groupby('team').ngroups # 5（分组数）\n",
        "df.groupby('team').ngroup() # 分组序号\n",
        "grouped.backfill()\n",
        "grouped.bfill()\n",
        "df.groupby('team').head() # 每组显示前5个\n",
        "grouped.tail(1) # 每组最后一个\n",
        "grouped.rank() # 排序值\n",
        "grouped.fillna(0)\n",
        "# grouped.indices() # 组名:索引序列组成的字典"
      ],
      "metadata": {
        "id": "BQ2BeqfKCHBU"
      },
      "execution_count": null,
      "outputs": []
    },
    {
      "cell_type": "code",
      "source": [
        "# 分组中的第几个值\n",
        "gp.nth(1) # 第一个\n",
        "gp.nth(-1) # 最后一个\n",
        "gp.nth([-2, -1])\n",
        "# 第n个非空项\n",
        "gp.nth(0, dropna='all')\n",
        "gp.nth(0, dropna='any')\n",
        "df.groupby('team').shift(-1) # 组内移动\n",
        "grouped.tshift(1) # 按时间周期移动\n",
        "df.groupby('team').any()\n",
        "df.groupby('team').all()\n",
        "df.groupby('team').rank() # 在组内的排名\n",
        "# 仅 SeriesGroupBy 可用\n",
        "df.groupby(\"team\").Q1.nlargest(2) # 每组最大的两个\n",
        "df.groupby(\"team\").Q1.nsmallest(2) # 每组最小的两个\n",
        "df.groupby(\"team\").Q1.nunique() # 每组去重数量\n",
        "df.groupby(\"team\").Q1.unique() # 每组去重值\n",
        "df.groupby(\"team\").Q1.value_counts() # 每组去重值及数量\n",
        "df.groupby(\"team\").Q1.is_monotonic_increasing # 每组值是否单调递增\n",
        "df.groupby(\"team\").Q1.is_monotonic_decreasing # 每组值是否单调递减\n",
        "# 仅 DataFrameGroupBy 可用\n",
        "df.groupby(\"team\").corrwith(df2) # 相关性"
      ],
      "metadata": {
        "id": "L3wekD9rCNiU"
      },
      "execution_count": null,
      "outputs": []
    },
    {
      "cell_type": "markdown",
      "source": [
        "### 6.3.9 小结"
      ],
      "metadata": {
        "id": "CcMMqbIFCgSl"
      }
    },
    {
      "cell_type": "markdown",
      "source": [
        "本节介绍了对分组的基本操作和一些函数方法，特别要注意分辨以\n",
        "下三个方法。\n",
        "* apply()：最为灵活的处理方法，可以对数据完成操作后返回各种\n",
        "形式的数据。\n",
        "* transform()：对数据处理完后返回原型形状的数据，可以类比为\n",
        "对一个汽车不改变结构，只重新进行涂装。\n",
        "* filter()：每个分组传入后，通过计算返回这个分组的真假值，所\n",
        "有为真的留下，作为最终的结果。\n",
        "\n",
        "其中transform()和filter()计算的都是每个分组的整体结果。"
      ],
      "metadata": {
        "id": "_6yR2pBiClLl"
      }
    },
    {
      "cell_type": "markdown",
      "source": [
        "##6.4 聚合统计"
      ],
      "metadata": {
        "id": "rhIIA__Nhin4"
      }
    },
    {
      "cell_type": "markdown",
      "source": [
        "### 6.4.1 描述统计"
      ],
      "metadata": {
        "id": "6McXNGKyDCps"
      }
    },
    {
      "cell_type": "code",
      "source": [
        "df.groupby('team').describe()"
      ],
      "metadata": {
        "id": "BE81ZnPZDEI2"
      },
      "execution_count": null,
      "outputs": []
    },
    {
      "cell_type": "code",
      "source": [
        "df.groupby('team').describe().T"
      ],
      "metadata": {
        "id": "8yCChhYwDRdE"
      },
      "execution_count": null,
      "outputs": []
    },
    {
      "cell_type": "markdown",
      "source": [
        "### 6.4.2 统计函数"
      ],
      "metadata": {
        "id": "gxNIjND0HHyI"
      }
    },
    {
      "cell_type": "code",
      "source": [
        "# 各组平均值\n",
        "grouped.mean()"
      ],
      "metadata": {
        "id": "Vk6L0vEVHQ1r"
      },
      "execution_count": null,
      "outputs": []
    },
    {
      "cell_type": "code",
      "source": [
        "df.groupby('team').describe() # 描述性统计\n"
      ],
      "metadata": {
        "id": "3GfLUSBnHfhM"
      },
      "execution_count": null,
      "outputs": []
    },
    {
      "cell_type": "code",
      "source": [
        "df.groupby('team').sum() # 求和\n",
        "df.groupby('team').count() # 每组数量，不包括缺失值\n",
        "df.groupby('team').max() # 求最大值\n",
        "df.groupby('team').min() # 求最小值\n",
        "df.groupby('team').size() # 分组数量\n",
        "df.groupby('team').mean() # 平均值\n",
        "df.groupby('team').median() # 中位数\n"
      ],
      "metadata": {
        "id": "q5T_oxcJHlnO"
      },
      "execution_count": null,
      "outputs": []
    },
    {
      "cell_type": "code",
      "source": [
        "df.groupby('team').std() # 标准差\n"
      ],
      "metadata": {
        "id": "A1IMkR-mHpBr"
      },
      "execution_count": null,
      "outputs": []
    },
    {
      "cell_type": "code",
      "source": [
        "df.groupby('team').var() # 方差\n"
      ],
      "metadata": {
        "id": "rCfQ05SEHrQm"
      },
      "execution_count": null,
      "outputs": []
    },
    {
      "cell_type": "code",
      "source": [
        "grouped.corr() # 相关性系数\n"
      ],
      "metadata": {
        "id": "arhxe7LiHuwc"
      },
      "execution_count": null,
      "outputs": []
    },
    {
      "cell_type": "code",
      "source": [
        "grouped.sem() # 标准误差\n"
      ],
      "metadata": {
        "id": "l37A3tOXHzIE"
      },
      "execution_count": null,
      "outputs": []
    },
    {
      "cell_type": "code",
      "source": [
        "grouped.prod() # 乘积\n"
      ],
      "metadata": {
        "id": "Zw1CfYBGH1o8"
      },
      "execution_count": null,
      "outputs": []
    },
    {
      "cell_type": "code",
      "source": [
        "grouped.cummax() # 每组的累计最大值\n",
        "grouped.cumsum() # 累加\n",
        "grouped.mad() # 平均绝对偏差"
      ],
      "metadata": {
        "id": "8KL9PfIAH4as"
      },
      "execution_count": null,
      "outputs": []
    },
    {
      "cell_type": "markdown",
      "source": [
        "### 6.4.3 聚合方法agg()"
      ],
      "metadata": {
        "id": "VgSjQv98H7n-"
      }
    },
    {
      "cell_type": "code",
      "source": [
        "# 所有列使用一个计算方法\n",
        "df.groupby('team').agg(sum)"
      ],
      "metadata": {
        "id": "SjavzeWnIEij"
      },
      "execution_count": null,
      "outputs": []
    },
    {
      "cell_type": "code",
      "source": [
        "df.groupby('team').agg(np.size)"
      ],
      "metadata": {
        "id": "wFKeDnXzILw8"
      },
      "execution_count": null,
      "outputs": []
    },
    {
      "cell_type": "code",
      "source": [
        "grouped['Q1'].agg(np.mean)"
      ],
      "metadata": {
        "id": "Qnbs1CqnIQbE"
      },
      "execution_count": null,
      "outputs": []
    },
    {
      "cell_type": "code",
      "source": [
        "# 每个字段使用多个计算方法\n",
        "grouped[['Q1','Q3']].agg([np.sum, np.mean, np.std])"
      ],
      "metadata": {
        "id": "fwI5EHkhIZUf"
      },
      "execution_count": null,
      "outputs": []
    },
    {
      "cell_type": "code",
      "source": [
        "df.groupby('team').agg({'Q1': ['min', 'max'], 'Q2': 'sum'})"
      ],
      "metadata": {
        "id": "E1RlwAO3Idad"
      },
      "execution_count": null,
      "outputs": []
    },
    {
      "cell_type": "code",
      "source": [
        "df.groupby('team').Q1.agg(Mean='mean', Sum='sum')\n"
      ],
      "metadata": {
        "id": "qGSVgU90Inqu"
      },
      "execution_count": null,
      "outputs": []
    },
    {
      "cell_type": "code",
      "source": [
        "df.groupby('team').agg(Mean=('Q1', 'mean'), Sum=('Q2', 'sum'))\n"
      ],
      "metadata": {
        "id": "mqcUXGMIIv90"
      },
      "execution_count": null,
      "outputs": []
    },
    {
      "cell_type": "code",
      "source": [
        "df.groupby('team').agg(\n",
        "  Q1_max=pd.NamedAgg(column='Q1', aggfunc='max'),\n",
        "  Q2_min=pd.NamedAgg(column='Q2', aggfunc='min')\n",
        ")"
      ],
      "metadata": {
        "id": "n5V9iA1xIzT7"
      },
      "execution_count": null,
      "outputs": []
    },
    {
      "cell_type": "code",
      "source": [
        "df.groupby('team').agg(**{\n",
        "'1_max':pd.NamedAgg(column='Q1', aggfunc='max')})"
      ],
      "metadata": {
        "id": "kFE6GPn8I6e2"
      },
      "execution_count": null,
      "outputs": []
    },
    {
      "cell_type": "code",
      "source": [
        "# 聚合结果使用函数\n",
        "# lambda/函数，所有方法都可以用\n",
        "def max_min(x):\n",
        "  return x.max() - x.min()\n",
        "# 定义函数\n",
        "df.groupby('team').Q1.agg(Mean='mean',\n",
        "  Sum='sum',\n",
        "  Diff=lambda x: x.max() - x.min(),\n",
        "  Max_min=max_min\n",
        ")"
      ],
      "metadata": {
        "id": "EdehLdrQJHjU"
      },
      "execution_count": null,
      "outputs": []
    },
    {
      "cell_type": "code",
      "source": [
        "df.groupby('team').agg(max_min)"
      ],
      "metadata": {
        "id": "pe-BoenuJQvE"
      },
      "execution_count": null,
      "outputs": []
    },
    {
      "cell_type": "markdown",
      "source": [
        "### 6.4.4 时序重采样方法resample()"
      ],
      "metadata": {
        "id": "9Vjx2f-SJZvl"
      }
    },
    {
      "cell_type": "code",
      "source": [
        "idx = pd.date_range('1/1/2020', periods=100, freq='T')\n",
        "df2 = pd.DataFrame(data={'a':[0, 1]*50, 'b':1}, index=idx)\n",
        "df2"
      ],
      "metadata": {
        "id": "ilY3_81AJbId"
      },
      "execution_count": null,
      "outputs": []
    },
    {
      "cell_type": "code",
      "source": [
        "df2.groupby('a').resample('20T').sum()"
      ],
      "metadata": {
        "id": "sOGcVQiSJ4zN"
      },
      "execution_count": null,
      "outputs": []
    },
    {
      "cell_type": "code",
      "source": [
        "df2.groupby('a').resample('3T').sum()"
      ],
      "metadata": {
        "id": "Q3siqe9LKLjk"
      },
      "execution_count": null,
      "outputs": []
    },
    {
      "cell_type": "code",
      "source": [
        "df2.groupby('a').resample('30S').sum()"
      ],
      "metadata": {
        "id": "4SPOLiyCKfdN"
      },
      "execution_count": null,
      "outputs": []
    },
    {
      "cell_type": "code",
      "source": [
        "df2.groupby('a').resample('M').sum()"
      ],
      "metadata": {
        "id": "qgmnGsosKlP0"
      },
      "execution_count": null,
      "outputs": []
    },
    {
      "cell_type": "code",
      "source": [
        "# 以右边时间点为标识\n",
        "df2.groupby('a').resample('3T', closed='right').sum()"
      ],
      "metadata": {
        "id": "KjlymPa0KqKM"
      },
      "execution_count": null,
      "outputs": []
    },
    {
      "cell_type": "markdown",
      "source": [
        "### 6.4.5 组内头尾值"
      ],
      "metadata": {
        "id": "-8Si_e8bK1jt"
      }
    },
    {
      "cell_type": "code",
      "source": [
        "df.groupby('team').first()"
      ],
      "metadata": {
        "id": "fL7ilOVFK5RN"
      },
      "execution_count": null,
      "outputs": []
    },
    {
      "cell_type": "code",
      "source": [
        "df.groupby('team').last()"
      ],
      "metadata": {
        "id": "1bhLQwjcLBE1"
      },
      "execution_count": null,
      "outputs": []
    },
    {
      "cell_type": "markdown",
      "source": [
        "### 6.4.6 组内分位数"
      ],
      "metadata": {
        "id": "6Oj8Y_LJLEi9"
      }
    },
    {
      "cell_type": "code",
      "source": [
        "# 二分位数，即中位数\n",
        "df.groupby('team').median() # 同下\n"
      ],
      "metadata": {
        "id": "JbLEDetzLGDd"
      },
      "execution_count": null,
      "outputs": []
    },
    {
      "cell_type": "code",
      "source": [
        "df.groupby('team').quantile()\n"
      ],
      "metadata": {
        "id": "Y7kvH71SLMg9"
      },
      "execution_count": null,
      "outputs": []
    },
    {
      "cell_type": "code",
      "source": [
        "df.groupby('team').quantile(0.5)"
      ],
      "metadata": {
        "id": "pTQcyl4ALO_V"
      },
      "execution_count": null,
      "outputs": []
    },
    {
      "cell_type": "markdown",
      "source": [
        "常用的还有三分位quantile(0.33)、四分位quantile(0.25)等。\n"
      ],
      "metadata": {
        "id": "uhTK4LcCLdjG"
      }
    },
    {
      "cell_type": "markdown",
      "source": [
        "### 6.4.7 组内差值"
      ],
      "metadata": {
        "id": "KyFdbynwLhpU"
      }
    },
    {
      "cell_type": "code",
      "source": [
        "df.drop('name', axis=1).groupby('team').diff()"
      ],
      "metadata": {
        "id": "P6iR65XuLnjV"
      },
      "execution_count": null,
      "outputs": []
    },
    {
      "cell_type": "markdown",
      "source": [
        "## 6.5 数据分箱\n"
      ],
      "metadata": {
        "id": "2eHEaWRyhlXg"
      }
    },
    {
      "cell_type": "markdown",
      "source": [
        "Pandas主要基于以两个函数实现连续数据的离散化处理。\n",
        "* pandas.cut：根据指定分界点对连续数据进行分箱处理。\n",
        "* pandas.qcut：根据指定区间数量对连续数据进行等宽分箱处理。\n",
        "所谓等宽，指的是每个区间中的数据量是相同的。"
      ],
      "metadata": {
        "id": "4a3SlPsWMZ3K"
      }
    },
    {
      "cell_type": "markdown",
      "source": [
        "### 6.5.1 定界分箱pd.cut()"
      ],
      "metadata": {
        "id": "N6kpbL_VMhSW"
      }
    },
    {
      "cell_type": "code",
      "source": [
        "pd.cut(df.Q1, bins=[0, 60, 100])"
      ],
      "metadata": {
        "id": "MIK3ZD_VLAJV"
      },
      "execution_count": null,
      "outputs": []
    },
    {
      "cell_type": "code",
      "source": [
        "df.Q1.groupby(pd.cut(df.Q1, bins=[0, 60, 100])).count()"
      ],
      "metadata": {
        "id": "AN4G_8-JMytO"
      },
      "execution_count": null,
      "outputs": []
    },
    {
      "cell_type": "code",
      "source": [
        "df.groupby(pd.cut(df.Q1, bins=[0, 60, 100])).count()"
      ],
      "metadata": {
        "id": "WBw-RmgANCI-"
      },
      "execution_count": null,
      "outputs": []
    },
    {
      "cell_type": "code",
      "source": [
        "# 不显示区间，使用数字作为每个箱子的标签，形式如0，1，2，n等\n",
        "pd.cut(df.Q1, bins=[0, 60, 100],labels=False)"
      ],
      "metadata": {
        "id": "P2PkgV7hNai2"
      },
      "execution_count": null,
      "outputs": []
    },
    {
      "cell_type": "code",
      "source": [
        "# 指定标签名\n",
        "pd.cut(df.Q1, bins=[0, 60, 100],labels=['不及格','及格',])"
      ],
      "metadata": {
        "id": "zX03__JnNf4_"
      },
      "execution_count": null,
      "outputs": []
    },
    {
      "cell_type": "code",
      "source": [
        "# 包含最低部分\n",
        "pd.cut(df.Q1, bins=[0, 60, 100], include_lowest=True)"
      ],
      "metadata": {
        "id": "9RIiOy73Nidq"
      },
      "execution_count": null,
      "outputs": []
    },
    {
      "cell_type": "code",
      "source": [
        "# 是否为右闭区间，下例为[89, 100)\n",
        "pd.cut(df.Q1, bins=[0, 89, 100], right=False)"
      ],
      "metadata": {
        "id": "wwiBQJPXNqU9"
      },
      "execution_count": null,
      "outputs": []
    },
    {
      "cell_type": "markdown",
      "source": [
        "### 6.5.2 等宽分箱pd.qcut()"
      ],
      "metadata": {
        "id": "f-dBGUCBNwGM"
      }
    },
    {
      "cell_type": "code",
      "source": [
        "pd.qcut(df.Q1, q=2)"
      ],
      "metadata": {
        "id": "v31SCJZ3hsuC"
      },
      "execution_count": null,
      "outputs": []
    },
    {
      "cell_type": "code",
      "source": [
        "pd.qcut(df.Q1, q=2).unique()"
      ],
      "metadata": {
        "id": "oNpa27u-OsE3"
      },
      "execution_count": null,
      "outputs": []
    },
    {
      "cell_type": "code",
      "source": [
        "df.Q1.groupby(pd.qcut(df.Q1, q=2)).count()"
      ],
      "metadata": {
        "id": "HEj4gn_4OxuV"
      },
      "execution_count": null,
      "outputs": []
    },
    {
      "cell_type": "code",
      "source": [
        "df.groupby(pd.qcut(df.Q1, q=3)).max()"
      ],
      "metadata": {
        "id": "DJdM5v9xPAHR"
      },
      "execution_count": null,
      "outputs": []
    },
    {
      "cell_type": "markdown",
      "source": [
        "## 6.6 分组可视化\n"
      ],
      "metadata": {
        "id": "kXfuTPZfho5I"
      }
    },
    {
      "cell_type": "markdown",
      "source": [
        "### 6.6.1 绘图方法plot()"
      ],
      "metadata": {
        "id": "nxYGXUs4Si8O"
      }
    },
    {
      "cell_type": "code",
      "source": [
        "grouped = df.set_index('name').groupby('team')"
      ],
      "metadata": {
        "id": "H9RzXfo-ShzU"
      },
      "execution_count": null,
      "outputs": []
    },
    {
      "cell_type": "code",
      "source": [
        "grouped.plot()"
      ],
      "metadata": {
        "id": "oidn2HLESvDH"
      },
      "execution_count": null,
      "outputs": []
    },
    {
      "cell_type": "markdown",
      "source": [
        "还可以通过plot.x()或者plot(kind='x')的形式调用其他形状的图形，\n",
        "比如：\n",
        "* plot.line：折线图\n",
        "* plot.pie：饼图\n",
        "* plot.bar：柱状图\n",
        "* plot.hist：直方图\n",
        "* plot.box：箱形图\n",
        "* plot.area：面积图\n",
        "* plot.scatter：散点图\n",
        "* plot.hexbin：六边形分箱图\n"
      ],
      "metadata": {
        "id": "8kZQBcJsS85V"
      }
    },
    {
      "cell_type": "markdown",
      "source": [
        "### 6.6.2 直方图hist()"
      ],
      "metadata": {
        "id": "i9aQMAYATGuF"
      }
    },
    {
      "cell_type": "code",
      "source": [
        "grouped.hist()"
      ],
      "metadata": {
        "id": "XfUEC_RETIF1"
      },
      "execution_count": null,
      "outputs": []
    },
    {
      "cell_type": "code",
      "source": [
        "grouped.boxplot(figsize=(15, 12))"
      ],
      "metadata": {
        "id": "fnsIXmwNTSqd"
      },
      "execution_count": null,
      "outputs": []
    },
    {
      "cell_type": "code",
      "source": [
        "df.boxplot(by='team', figsize=(15, 10))"
      ],
      "metadata": {
        "id": "bSzoccAnThMO"
      },
      "execution_count": null,
      "outputs": []
    },
    {
      "cell_type": "markdown",
      "source": [
        "## 6.7 本章小结"
      ],
      "metadata": {
        "id": "7AuLYCSShtQJ"
      }
    },
    {
      "cell_type": "markdown",
      "source": [
        "本章全面介绍了分组聚合的数据操作原理，依次可以分为以下部分。\n",
        "* 分拆（split）：将DataFrame或Series按照一定的规则进行分组，\n",
        "生成分组对象，分组对象中包含多个子DataFrame或Series。\n",
        "* 应用（apply）：对每个组进行操作或数据统计，如算平均数\n",
        "据、求方差、取中位数，还可以使用函数进行复杂的操作和计\n",
        "算。\n",
        "* 合并（combine）：将每组的计算结果再拼合起来，最终得到一\n",
        "个DataFrame或Series，或者直接进行可视化显现。\n",
        "\n",
        "数据的分组聚合是数据分析的常规手段，旨在将有共性的事物进行\n",
        "分组统计，最终对各组进行比较，从而发现规律。希望大家在使用中能\n",
        "够准确掌握，灵活运用。"
      ],
      "metadata": {
        "id": "JzvJJi0iT0H-"
      }
    },
    {
      "cell_type": "code",
      "source": [],
      "metadata": {
        "id": "3dNxMDVUhxgy"
      },
      "execution_count": null,
      "outputs": []
    }
  ]
}