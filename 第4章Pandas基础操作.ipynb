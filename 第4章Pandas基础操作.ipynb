{
  "nbformat": 4,
  "nbformat_minor": 0,
  "metadata": {
    "colab": {
      "private_outputs": true,
      "provenance": [],
      "toc_visible": true,
      "authorship_tag": "ABX9TyNiw6kQpQ8mSNVaGIeK1tkE",
      "include_colab_link": true
    },
    "kernelspec": {
      "name": "python3",
      "display_name": "Python 3"
    },
    "language_info": {
      "name": "python"
    }
  },
  "cells": [
    {
      "cell_type": "markdown",
      "metadata": {
        "id": "view-in-github",
        "colab_type": "text"
      },
      "source": [
        "<a href=\"https://colab.research.google.com/github/baiyinnamula/EasyToUnderstandPandas/blob/main/%E7%AC%AC4%E7%AB%A0Pandas%E5%9F%BA%E7%A1%80%E6%93%8D%E4%BD%9C.ipynb\" target=\"_parent\"><img src=\"https://colab.research.google.com/assets/colab-badge.svg\" alt=\"Open In Colab\"/></a>"
      ]
    },
    {
      "cell_type": "code",
      "execution_count": null,
      "metadata": {
        "id": "_uaqgZRw62sG"
      },
      "outputs": [],
      "source": [
        "import numpy as np\n",
        "import pandas  as pd"
      ]
    },
    {
      "cell_type": "markdown",
      "source": [
        "## 4.1 索引操作"
      ],
      "metadata": {
        "id": "I7t6UCfS7PiJ"
      }
    },
    {
      "cell_type": "markdown",
      "source": [
        "### 4.1.1 认识索引"
      ],
      "metadata": {
        "id": "veDrdqFf8NoY"
      }
    },
    {
      "cell_type": "markdown",
      "source": [
        "### 4.1.2 建立索引"
      ],
      "metadata": {
        "id": "4baJd0GC8QGT"
      }
    },
    {
      "cell_type": "code",
      "source": [
        "data = 'https://www.gairuo.com/file/data/dataset/team.xlsx' \n",
        "df = pd.read_excel(data, index_col='name') # 将索引设置为name \n",
        "df"
      ],
      "metadata": {
        "id": "DNErar3h8Tgk"
      },
      "execution_count": null,
      "outputs": []
    },
    {
      "cell_type": "code",
      "source": [
        "df = pd.read_excel(data)\n",
        "df.set_index('name')\n"
      ],
      "metadata": {
        "id": "GWVFlhZs9Mre"
      },
      "execution_count": null,
      "outputs": []
    },
    {
      "cell_type": "code",
      "source": [
        "df.reset_index()"
      ],
      "metadata": {
        "id": "6lH_jMhPxWYH"
      },
      "execution_count": null,
      "outputs": []
    },
    {
      "cell_type": "code",
      "source": [
        "df.head()"
      ],
      "metadata": {
        "id": "6J5t7U1Ky-G_"
      },
      "execution_count": null,
      "outputs": []
    },
    {
      "cell_type": "code",
      "source": [
        "(\n",
        "df.set_index(['name','team']) ## 设置两层索引\n",
        "  .reset_index()\n",
        "  #.set_index([df.name.str[0], 'name']) #将姓名的第一个字母和姓名设置为索引\n",
        "  .reset_index()\n",
        "  # .set_index('name', drop=False) # 保留原列\n",
        "  .set_index('Q1', append=True)\n",
        ")"
      ],
      "metadata": {
        "id": "WFCTAe0IxbKG"
      },
      "execution_count": null,
      "outputs": []
    },
    {
      "cell_type": "markdown",
      "source": [
        "### 4.1.3 重置索引"
      ],
      "metadata": {
        "id": "liVT8lSM_iAc"
      }
    },
    {
      "cell_type": "code",
      "source": [
        "(\n",
        "df.reset_index()\n",
        ".drop(columns=['index'])\n",
        ")"
      ],
      "metadata": {
        "id": "hP1V2-W2-n8L"
      },
      "execution_count": null,
      "outputs": []
    },
    {
      "cell_type": "code",
      "source": [
        "(df.set_index(['name', 'team'])\n",
        ".reset_index(level='name')\n",
        ")"
      ],
      "metadata": {
        "id": "9-eAyqqPAVOM"
      },
      "execution_count": null,
      "outputs": []
    },
    {
      "cell_type": "markdown",
      "source": [
        "### 4.1.4 索引类型"
      ],
      "metadata": {
        "id": "aaKRr_UNBFEl"
      }
    },
    {
      "cell_type": "markdown",
      "source": [
        "#### 数字索引\n",
        "数字索引（NumbericIndex）共有以下几种\n",
        "\n",
        "\n",
        "*   RangeIndex：单调整数范围的不可变索引。\n",
        "*   Int64Index：64位整型索引。\n",
        "*   UInt64Index：无符号整数索引。\n",
        "*   Float64Index：64位浮点型索引。"
      ],
      "metadata": {
        "id": "a8RDmQkPBJ7u"
      }
    },
    {
      "cell_type": "code",
      "source": [
        "pd.RangeIndex(1, 100, 2)"
      ],
      "metadata": {
        "id": "f41QKfvxBIzT"
      },
      "execution_count": null,
      "outputs": []
    },
    {
      "cell_type": "code",
      "source": [
        "pd.Int64Index([1, 2, 3, -4], name='num')"
      ],
      "metadata": {
        "id": "JdCFA1ihBm8F"
      },
      "execution_count": null,
      "outputs": []
    },
    {
      "cell_type": "code",
      "source": [
        "pd.UInt64Index([1, 2, 3, 4], name='num')"
      ],
      "metadata": {
        "id": "dl9xlGMCB3cd"
      },
      "execution_count": null,
      "outputs": []
    },
    {
      "cell_type": "code",
      "source": [
        "pd.Float64Index([1,2,3,4,5], dtype='float64')"
      ],
      "metadata": {
        "id": "iaUqrXjKB88F"
      },
      "execution_count": null,
      "outputs": []
    },
    {
      "cell_type": "markdown",
      "source": [
        "#### 类别索引"
      ],
      "metadata": {
        "id": "JsTmza5xCbhL"
      }
    },
    {
      "cell_type": "code",
      "source": [
        "pd.CategoricalIndex(['a','b','a', 'b'])"
      ],
      "metadata": {
        "id": "f1VWYFFXCQC8"
      },
      "execution_count": null,
      "outputs": []
    },
    {
      "cell_type": "markdown",
      "source": [
        "#### 间隔索引\n",
        "代表每个数据的数值或者时间区间，一般应用于分箱数据。"
      ],
      "metadata": {
        "id": "hMrjNBDpCnCG"
      }
    },
    {
      "cell_type": "code",
      "source": [
        "pd.interval_range(start=0, end=5)"
      ],
      "metadata": {
        "id": "3AgyQzZuCqPu"
      },
      "execution_count": null,
      "outputs": []
    },
    {
      "cell_type": "markdown",
      "source": [
        "#### 多层索引"
      ],
      "metadata": {
        "id": "BDwowNhoDAEV"
      }
    },
    {
      "cell_type": "code",
      "source": [
        "arrays = [[1, 1, 2, 2], ['red', 'blue', 'red', 'blue']]\n",
        "pd.MultiIndex.from_arrays(arrays, names=('number', 'color'))"
      ],
      "metadata": {
        "id": "x4Iaev8xDDCX"
      },
      "execution_count": null,
      "outputs": []
    },
    {
      "cell_type": "markdown",
      "source": [
        "#### 时间索引"
      ],
      "metadata": {
        "id": "yBT6-UCCDVdG"
      }
    },
    {
      "cell_type": "code",
      "source": [
        "# 从一个日期连续到另一个日期\n",
        "pd.date_range(start='1/1/2018', end='1/08/2018')"
      ],
      "metadata": {
        "id": "-3mJOUEUDVIU"
      },
      "execution_count": null,
      "outputs": []
    },
    {
      "cell_type": "code",
      "source": [
        "# 指定开始时间和周期\n",
        "pd.date_range(start='1/1/2018', periods=8)"
      ],
      "metadata": {
        "id": "XHeaQHThDedV"
      },
      "execution_count": null,
      "outputs": []
    },
    {
      "cell_type": "code",
      "source": [
        "# 以月为周期\n",
        "pd.period_range(start='2017-01-01', end='2018-01-01', freq='M')"
      ],
      "metadata": {
        "id": "dsXCwCthDoOi"
      },
      "execution_count": null,
      "outputs": []
    },
    {
      "cell_type": "code",
      "source": [
        "# 周期嵌套\n",
        "pd.period_range(start=pd.Period('2017Q1', freq='Q'),\n",
        "end=pd.Period('2017Q2', freq='Q'), freq='M')"
      ],
      "metadata": {
        "id": "YTo8VqdLDssY"
      },
      "execution_count": null,
      "outputs": []
    },
    {
      "cell_type": "markdown",
      "source": [
        "#### 时间差索引\n",
        "代表时间长度的数据"
      ],
      "metadata": {
        "id": "aWIcFnUVD3T_"
      }
    },
    {
      "cell_type": "code",
      "source": [
        "pd.TimedeltaIndex(data =['06:05:01.000030', '+23:59:59.999999',\n",
        "'22 day 2 min 3us 10ns', '+23:29:59.999999',\n",
        "'+12:19:59.999999'])"
      ],
      "metadata": {
        "id": "4FC0kmFaD58d"
      },
      "execution_count": null,
      "outputs": []
    },
    {
      "cell_type": "code",
      "source": [
        "# 使用datetime\n",
        "import datetime\n",
        "\n",
        "pd.TimedeltaIndex(['1 days', '1 days, 00:00:05',\n",
        "np.timedelta64(2, 'D'),datetime.timedelta(days=2, seconds=2)])"
      ],
      "metadata": {
        "id": "049Db7CzES1V"
      },
      "execution_count": null,
      "outputs": []
    },
    {
      "cell_type": "markdown",
      "source": [
        "#### 周期索引\n",
        "周期索引（PeriodIndex）：一定频度的时间。"
      ],
      "metadata": {
        "id": "vJUoKIbWEhzF"
      }
    },
    {
      "cell_type": "code",
      "source": [
        "t = pd.period_range('2020-5-1 10:00:05', periods=8, freq='S')\n",
        "pd.PeriodIndex(t,freq='S')"
      ],
      "metadata": {
        "id": "Lml7QSmuEmA9"
      },
      "execution_count": null,
      "outputs": []
    },
    {
      "cell_type": "code",
      "source": [
        "t"
      ],
      "metadata": {
        "id": "JE_I-WQkEv4m"
      },
      "execution_count": null,
      "outputs": []
    },
    {
      "cell_type": "markdown",
      "source": [
        "### 4.1.5 索引对象"
      ],
      "metadata": {
        "id": "MAkRXPrZFGo8"
      }
    },
    {
      "cell_type": "code",
      "source": [
        "pd.Index([1,2,3])"
      ],
      "metadata": {
        "id": "6NA8nLuyFOLW"
      },
      "execution_count": null,
      "outputs": []
    },
    {
      "cell_type": "code",
      "source": [
        "pd.Index(list('abcd'))"
      ],
      "metadata": {
        "id": "cP-ASm4KFYf9"
      },
      "execution_count": null,
      "outputs": []
    },
    {
      "cell_type": "code",
      "source": [
        "# 可以用name指定一个索引名称\n",
        "pd.Index(['e', 'd', 'a', 'b'], name='something')"
      ],
      "metadata": {
        "id": "c6gj1-qvFf02"
      },
      "execution_count": null,
      "outputs": []
    },
    {
      "cell_type": "code",
      "source": [
        "df.index"
      ],
      "metadata": {
        "id": "Yip-OrE_FnZW"
      },
      "execution_count": null,
      "outputs": []
    },
    {
      "cell_type": "code",
      "source": [
        "df.columns"
      ],
      "metadata": {
        "id": "xXqlubYoFqZf"
      },
      "execution_count": null,
      "outputs": []
    },
    {
      "cell_type": "markdown",
      "source": [
        "### 4.1.6 索引的属性\n",
        "\n",
        "\n",
        "\n",
        "常用属性\n",
        "* df.index.name # 名称\n",
        "* df.index.array # array数组\n",
        "* df.index.dtype # 数据类型\n",
        "* df.index.shape # 形状\n",
        "* df.index.size # 元素数量\n",
        "* df.index.values # array数组\n",
        "\n",
        "其他，不常用\n",
        "\n",
        "* df.index.empty # 是否为空\n",
        "* df.index.is_unique # 是否不重复\n",
        "* df.index.names # 名称列表\n",
        "* df.index.is_all_dates # 是否全是日期时间\n",
        "* df.index.has_duplicates # 是否有重复值\n",
        "* df.index.values # 索引的值array\n",
        "\n"
      ],
      "metadata": {
        "id": "2Oz08weGFty7"
      }
    },
    {
      "cell_type": "code",
      "source": [
        "df.index.has_duplicates"
      ],
      "metadata": {
        "id": "yY6z9rdKGMIl"
      },
      "execution_count": null,
      "outputs": []
    },
    {
      "cell_type": "markdown",
      "source": [
        "### 4.1.7 索引的操作\n",
        "\n",
        "\n",
        "常用方法\n",
        "* df.index.astype('int64') # 转换类型\n",
        "* df.index.isin() # 是否存在，见下方示例\n",
        "* df.index.rename('number') # 修改索引名称\n",
        "* df.index.nunique() # 不重复值的数量\n",
        "* df.index.sort_values(ascending=False,) # 排序，倒序\n",
        "* df.index.map(lambda x:x+'_') # map函数处理\n",
        "* df.index.str.replace('_', '') # str替换\n",
        "* df.index.str.split('_') # 分隔\n",
        "* df.index.to_list() # 转为列表\n",
        "* df.index.to_frame(index=False, name='a') # 转成DataFrame\n",
        "* df.index.to_series() # 转为series\n",
        "* df.index.to_numpy() # 转为numpy\n",
        "* df.index.unique() # 去重\n",
        "* df.index.value_counts() # 去重及计数\n",
        "* df.index.where(df.index=='a') # 筛选\n",
        "* df.index.rename('grade', inplace=False) # 重命名索引\n",
        "* df.index.rename(['species', 'year']) # 多层，重命名索引\n",
        "* df.index.max() # 最大值\n",
        "* df.index.argmax() # 最大索引值\n",
        "* df.index.any()\n",
        "* df.index.all()\n",
        "*df.index.T # 转置，在多层索引里很有用\n",
        "\n"
      ],
      "metadata": {
        "id": "YXL5I5hfGmWW"
      }
    },
    {
      "cell_type": "code",
      "source": [
        "df.index.any()"
      ],
      "metadata": {
        "id": "8Cnum2uJHODT"
      },
      "execution_count": null,
      "outputs": []
    },
    {
      "cell_type": "markdown",
      "source": [
        "### 4.1.8 索引重命名\n",
        "将一个数据列置为索引后，就不能再像修改列名那样修改索引的名\n",
        "称了，需要使用df.rename_axis方法。它不仅可以修改索引名，还可以修\n",
        "改列名。 "
      ],
      "metadata": {
        "id": "dleRRhbOHr02"
      }
    },
    {
      "cell_type": "code",
      "source": [
        "df.set_index('name')"
      ],
      "metadata": {
        "id": "tMpagNPFH9z-"
      },
      "execution_count": null,
      "outputs": []
    },
    {
      "cell_type": "code",
      "source": [
        "df.set_index('name').rename_axis('s_name').rename_axis('Test',axis='columns')"
      ],
      "metadata": {
        "id": "Dg1iY_1cIHC_"
      },
      "execution_count": null,
      "outputs": []
    },
    {
      "cell_type": "markdown",
      "source": [
        "### 4.1.9 修改索引内容\n",
        "用来修改行和列的索引名的主要函数是df.rename和df.set_axis。\n",
        "df.rename可以给定一个字典，键是原名称，值是想要修改的名称，还可以传入一个与原索引等长度序列进行覆盖修改，用一个函数处理原索引名。"
      ],
      "metadata": {
        "id": "n1lNdhSwJBIe"
      }
    },
    {
      "cell_type": "code",
      "source": [
        "# 一一对应修改列索引\n",
        "df.rename(columns={'Q1':'QQ!'})"
      ],
      "metadata": {
        "id": "S9AHXoh-JcAX"
      },
      "execution_count": null,
      "outputs": []
    },
    {
      "cell_type": "code",
      "source": [
        "# 修改行索引\n",
        "df.rename(index={0:'x',1:'y'})"
      ],
      "metadata": {
        "id": "fJClrHeyJp7O"
      },
      "execution_count": null,
      "outputs": []
    },
    {
      "cell_type": "code",
      "source": [
        "# 修改数据类型\n",
        "df.rename(index=str)"
      ],
      "metadata": {
        "id": "qsrsjUG4J-Ru"
      },
      "execution_count": null,
      "outputs": []
    },
    {
      "cell_type": "code",
      "source": [
        "# 列名加前缀\n",
        "df.rename(lambda x:'t_' + x, axis=1)"
      ],
      "metadata": {
        "id": "i365jeVrKJPe"
      },
      "execution_count": null,
      "outputs": []
    },
    {
      "cell_type": "code",
      "source": [
        "# 利用iter()函数的next特性修改\n",
        "df.rename(lambda x, y=iter('abcdef'): next(y), axis=1)"
      ],
      "metadata": {
        "id": "yYvb3jGwKQY_"
      },
      "execution_count": null,
      "outputs": []
    },
    {
      "cell_type": "code",
      "source": [
        "# 修改列名，用解包形式生成新旧字段字典\n",
        "df.rename(columns=dict(zip(df, list('abcd'))))"
      ],
      "metadata": {
        "id": "gaT0sgIBKY82"
      },
      "execution_count": null,
      "outputs": []
    },
    {
      "cell_type": "markdown",
      "source": [
        "df.set_axis可以将所需的索引分配给给定的轴，通过分配类似列表\n",
        "或索引的方式来更改列标签或行标签的索引。"
      ],
      "metadata": {
        "id": "c3OdtyEXKhAO"
      }
    },
    {
      "cell_type": "code",
      "source": [
        "# 修改索引\n",
        "df[:3].set_axis(['a', 'b', 'c'], axis='index')"
      ],
      "metadata": {
        "id": "8N9mwy7qKk-n"
      },
      "execution_count": null,
      "outputs": []
    },
    {
      "cell_type": "code",
      "source": [
        "# 修改列名\n",
        "df.set_axis(list('abcdef'), axis=1)"
      ],
      "metadata": {
        "id": "7gncUEf5KvUG"
      },
      "execution_count": null,
      "outputs": []
    },
    {
      "cell_type": "markdown",
      "source": [
        "## 4.2 数据的信息"
      ],
      "metadata": {
        "id": "xvIUFeJv7TUZ"
      }
    },
    {
      "cell_type": "markdown",
      "source": [
        "### 4.2.1 查看样本"
      ],
      "metadata": {
        "id": "RjNn7-eZRsiI"
      }
    },
    {
      "cell_type": "markdown",
      "source": [
        "Pandas提供了三个常用的样式查看方法。\n",
        "* df.head()：前部数据，默认5条，可指定条数。\n",
        "* df.tail()：尾部数据，默认5条，可指定条数。\n",
        "* df.sample()：一条随机数据，可指定条数。"
      ],
      "metadata": {
        "id": "IdIXNxk3SQ0g"
      }
    },
    {
      "cell_type": "markdown",
      "source": [
        "### 4.2.2 数据形状"
      ],
      "metadata": {
        "id": "bdixXOgZRxMP"
      }
    },
    {
      "cell_type": "code",
      "source": [
        "df.shape"
      ],
      "metadata": {
        "id": "na4SDFq_SaQI"
      },
      "execution_count": null,
      "outputs": []
    },
    {
      "cell_type": "markdown",
      "source": [
        "### 4.2.3 基础信息"
      ],
      "metadata": {
        "id": "T_DkLYuTR1tw"
      }
    },
    {
      "cell_type": "code",
      "source": [
        "df.info()"
      ],
      "metadata": {
        "id": "iG91F0gwSdCQ"
      },
      "execution_count": null,
      "outputs": []
    },
    {
      "cell_type": "markdown",
      "source": [
        "### 4.2.4 数据类型"
      ],
      "metadata": {
        "id": "zBWpoR96R6SQ"
      }
    },
    {
      "cell_type": "code",
      "source": [
        "df.dtypes"
      ],
      "metadata": {
        "id": "eUzjoclZSzlg"
      },
      "execution_count": null,
      "outputs": []
    },
    {
      "cell_type": "markdown",
      "source": [
        "### 4.2.5 行列索引内容"
      ],
      "metadata": {
        "id": "FpohR1UxR-JY"
      }
    },
    {
      "cell_type": "code",
      "source": [
        "df.axes"
      ],
      "metadata": {
        "id": "8ztggLXRS5mh"
      },
      "execution_count": null,
      "outputs": []
    },
    {
      "cell_type": "markdown",
      "source": [
        "### 4.2.6 其它信息"
      ],
      "metadata": {
        "id": "uHeiUEp0SEuA"
      }
    },
    {
      "cell_type": "code",
      "source": [
        "df.index"
      ],
      "metadata": {
        "id": "6L5B5R4JTCky"
      },
      "execution_count": null,
      "outputs": []
    },
    {
      "cell_type": "code",
      "source": [
        "df.columns"
      ],
      "metadata": {
        "id": "Yf16xQyyTGkG"
      },
      "execution_count": null,
      "outputs": []
    },
    {
      "cell_type": "code",
      "source": [
        "df.values"
      ],
      "metadata": {
        "id": "9p7pkP_aTSLi"
      },
      "execution_count": null,
      "outputs": []
    },
    {
      "cell_type": "code",
      "source": [
        "df.ndim"
      ],
      "metadata": {
        "id": "doW-EsZ7TV8C"
      },
      "execution_count": null,
      "outputs": []
    },
    {
      "cell_type": "code",
      "source": [
        "df.size"
      ],
      "metadata": {
        "id": "FGppaf9rTZLh"
      },
      "execution_count": null,
      "outputs": []
    },
    {
      "cell_type": "code",
      "source": [
        "df.empty"
      ],
      "metadata": {
        "id": "DkwNcXlrTdTZ"
      },
      "execution_count": null,
      "outputs": []
    },
    {
      "cell_type": "code",
      "source": [
        "df.keys()"
      ],
      "metadata": {
        "id": "2Qj847RvTf2K"
      },
      "execution_count": null,
      "outputs": []
    },
    {
      "cell_type": "markdown",
      "source": [
        "## 4.3 统计计算"
      ],
      "metadata": {
        "id": "RXNyUVAU7V-f"
      }
    },
    {
      "cell_type": "markdown",
      "source": [
        "### 4.3.1 描述统计"
      ],
      "metadata": {
        "id": "0ctTs21wUn9B"
      }
    },
    {
      "cell_type": "code",
      "source": [
        "df.describe()"
      ],
      "metadata": {
        "id": "JKpRjzRbVauB"
      },
      "execution_count": null,
      "outputs": []
    },
    {
      "cell_type": "code",
      "source": [
        "pd.Series(['a', 'b', 'c', 'c']).describe()"
      ],
      "metadata": {
        "id": "WhTICjNgVk1x"
      },
      "execution_count": null,
      "outputs": []
    },
    {
      "cell_type": "code",
      "source": [
        "(pd.Series(pd.date_range('2000-01-01', '2000-05-01'))\n",
        ".describe(datetime_is_numeric=True)\n",
        ")"
      ],
      "metadata": {
        "id": "2dWZQ5_iVqXQ"
      },
      "execution_count": null,
      "outputs": []
    },
    {
      "cell_type": "code",
      "source": [
        "df.describe(percentiles=[.05, .25, .75, .95])\n",
        "df.describe(include=[np.object, np.number]) # 指定类型\n",
        "df.describe(exclude =[np.object]) # 排除类型"
      ],
      "metadata": {
        "id": "pi1oI0HnVzQ5"
      },
      "execution_count": null,
      "outputs": []
    },
    {
      "cell_type": "markdown",
      "source": [
        "### 4.3.2 数学统计"
      ],
      "metadata": {
        "id": "VE0FPrAkUs8x"
      }
    },
    {
      "cell_type": "code",
      "source": [
        "df.mean()"
      ],
      "metadata": {
        "id": "R7BJrEkOWAvp"
      },
      "execution_count": null,
      "outputs": []
    },
    {
      "cell_type": "code",
      "source": [
        "df.mean(axis=1)"
      ],
      "metadata": {
        "id": "7BhE0BV5WNkC"
      },
      "execution_count": null,
      "outputs": []
    },
    {
      "cell_type": "code",
      "source": [
        "df.set_index('name').mean(1).sort_values(ascending=False).head(10)"
      ],
      "metadata": {
        "id": "F42ffXDcWUbx"
      },
      "execution_count": null,
      "outputs": []
    },
    {
      "cell_type": "markdown",
      "source": [
        "### 4.3.3 统计函数"
      ],
      "metadata": {
        "id": "YQo0fuT6Ux1n"
      }
    },
    {
      "cell_type": "markdown",
      "source": [
        "Pandas提供了非常多的数学统计方法\n",
        "* df.mean() # 返回所有列的均值\n",
        "* df.mean(1) # 返回所有行的均值，下同\n",
        "* df.corr() # 返回列与列之间的相关系数\n",
        "* df.count() # 返回每一列中的非空值的个数\n",
        "* df.max() # 返回每一列的最大值\n",
        "* df.min() # 返回每一列的最小值\n",
        "* df.abs() # 绝对值\n",
        "* df.median() # 返回每一列的中位数\n",
        "* df.std() # 返回每一列的标准差，贝塞尔校正的样本标准偏差\n",
        "* df.var() # 无偏方差\n",
        "* df.sem() # 平均值的标准误差\n",
        "* df.mode() # 众数\n",
        "* df.prod() # 连乘\n",
        "* df.mad() # 平均绝对偏差\n",
        "* df.cumprod() # 累积连乘，累乘\n",
        "* df.cumsum(axis=0) # 累积连加，累加\n",
        "* df.nunique() # 去重数量，不同值的量\n",
        "* df.idxmax() # 每列最大值的索引名\n",
        "* df.idxmin() # 每列最小值的索引名\n",
        "* df.cummax() # 累积最大值\n",
        "* df.cummin() # 累积最小值\n",
        "* df.skew() # 样本偏度（第三阶）\n",
        "* df.kurt() # 样本峰度（第四阶）\n",
        "* df.quantile() # 样本分位数（不同 % 的值）"
      ],
      "metadata": {
        "id": "rBu4DbO-WvvZ"
      }
    },
    {
      "cell_type": "markdown",
      "source": [
        "### 4.3.4 非统计函数"
      ],
      "metadata": {
        "id": "cNA1OLk0U2Jh"
      }
    },
    {
      "cell_type": "code",
      "source": [
        "df.all()"
      ],
      "metadata": {
        "id": "VqqtnRVvXhnJ"
      },
      "execution_count": null,
      "outputs": []
    },
    {
      "cell_type": "code",
      "source": [
        "df.any()"
      ],
      "metadata": {
        "id": "VRvEdbYRXne8"
      },
      "execution_count": null,
      "outputs": []
    },
    {
      "cell_type": "code",
      "source": [
        "# 四舍五入\n",
        "df.round(2)"
      ],
      "metadata": {
        "id": "Cgfj9cV2Yf7g"
      },
      "execution_count": null,
      "outputs": []
    },
    {
      "cell_type": "code",
      "source": [
        "df.Q1.value_counts()"
      ],
      "metadata": {
        "id": "JruyFcPcZDWR"
      },
      "execution_count": null,
      "outputs": []
    },
    {
      "cell_type": "code",
      "source": [
        "# 每个列的去重值的数量\n",
        "df.nunique()\n",
        "# s.nunique() # 本列的去重值"
      ],
      "metadata": {
        "id": "XFVBDl1xYnQq"
      },
      "execution_count": null,
      "outputs": []
    },
    {
      "cell_type": "code",
      "source": [
        "# 真假检测\n",
        "df.isna() # 值的真假值替换\n",
        "df.notna() # 与上相反"
      ],
      "metadata": {
        "id": "p4_LdF3pYuBL"
      },
      "execution_count": null,
      "outputs": []
    },
    {
      "cell_type": "markdown",
      "source": [
        "### 4.3.5 小结"
      ],
      "metadata": {
        "id": "7RdW7LPHU6Wx"
      }
    },
    {
      "cell_type": "markdown",
      "source": [
        "## 4.4 位置计算"
      ],
      "metadata": {
        "id": "vcBMc1Uq7ZUR"
      }
    },
    {
      "cell_type": "code",
      "source": [
        "pd.Series([9, 4, 6, 7, 9])\n"
      ],
      "metadata": {
        "id": "KRjl14h9bUnR"
      },
      "execution_count": null,
      "outputs": []
    },
    {
      "cell_type": "code",
      "source": [
        "pd.Series([9, 4, 6, 7, 9]).diff(-1)"
      ],
      "metadata": {
        "id": "7kbpD8Q2bX3C"
      },
      "execution_count": null,
      "outputs": []
    },
    {
      "cell_type": "markdown",
      "source": [
        "### 4.4.1 位置计算diff()\n"
      ],
      "metadata": {
        "id": "sb4oVwNdap5x"
      }
    },
    {
      "cell_type": "markdown",
      "source": [
        "### 4.4.2 位置移动"
      ],
      "metadata": {
        "id": "_B7br8uvatC5"
      }
    },
    {
      "cell_type": "code",
      "source": [
        "# 整体下移一行，最顶的一行为NaN\n",
        "df.shift()"
      ],
      "metadata": {
        "id": "mhco27HDaxxr"
      },
      "execution_count": null,
      "outputs": []
    },
    {
      "cell_type": "markdown",
      "source": [
        "### 4.4.3 位置序号"
      ],
      "metadata": {
        "id": "FRrZJtThayDy"
      }
    },
    {
      "cell_type": "code",
      "source": [
        "df.head().rank()"
      ],
      "metadata": {
        "id": "iyxmWLlQds-S"
      },
      "execution_count": null,
      "outputs": []
    },
    {
      "cell_type": "code",
      "source": [
        "df.head().rank(axis=1)"
      ],
      "metadata": {
        "id": "ZF-7kB3MeRNy"
      },
      "execution_count": null,
      "outputs": []
    },
    {
      "cell_type": "code",
      "source": [
        "df.head().rank(pct=True)"
      ],
      "metadata": {
        "id": "-Gvyio_deYPz"
      },
      "execution_count": null,
      "outputs": []
    },
    {
      "cell_type": "markdown",
      "source": [
        "## 4.5 数据选择"
      ],
      "metadata": {
        "id": "XWoIx6dJ7bpp"
      }
    },
    {
      "cell_type": "markdown",
      "source": [
        "### 4.5.1 选择列"
      ],
      "metadata": {
        "id": "_B6hXST3fH1S"
      }
    },
    {
      "cell_type": "markdown",
      "source": [
        "### 4.5.2 切片"
      ],
      "metadata": {
        "id": "G4bLyzH5fOBy"
      }
    },
    {
      "cell_type": "code",
      "source": [
        "df[['name', ]]"
      ],
      "metadata": {
        "id": "QuX1tLXqped0"
      },
      "execution_count": null,
      "outputs": []
    },
    {
      "cell_type": "markdown",
      "source": [
        "### 4.5.3 按轴标签"
      ],
      "metadata": {
        "id": "hR-PMBV9fQ4l"
      }
    },
    {
      "cell_type": "markdown",
      "source": [
        "df.loc的格式是df.loc[<行表达式>, <列表达式>]，如列表达式部分不传，将返回所有列，Series仅支持行表达式进行索引的部分。loc操作通过索引和列的条件筛选出数据。"
      ],
      "metadata": {
        "id": "AIfz8oU_qLg2"
      }
    },
    {
      "cell_type": "markdown",
      "source": [
        "### 4.5.4 按数字索引"
      ],
      "metadata": {
        "id": "HkgdjH7CfWSD"
      }
    },
    {
      "cell_type": "markdown",
      "source": [
        "与loc[]可以使用索引和列的名称不同，利用df.iloc[<行表达式>, <列表达式>]格式可以使用数字索引（行和列的0～n索引）进行数据筛选，意味着iloc[]的两个表达式只支持数字切片形式，其他方面是相同的。"
      ],
      "metadata": {
        "id": "3i3mwLznqeq7"
      }
    },
    {
      "cell_type": "markdown",
      "source": [
        "### 4.5.5 取具体值"
      ],
      "metadata": {
        "id": "4DLqu_Bofcs6"
      }
    },
    {
      "cell_type": "markdown",
      "source": [
        "如果需要取数据中一个具体的值，就像取平面直角坐标系中的一个\n",
        "点一样，可以使用.at[]来实现。.at类似于loc，仅取一个具体的值，结构为df.at[<索引>,<列名>]。如果是一个Series，可以直接值入索引取到该索引的值。"
      ],
      "metadata": {
        "id": "WxphLej3q9hN"
      }
    },
    {
      "cell_type": "markdown",
      "source": [
        "### 4.5.6 获取数据"
      ],
      "metadata": {
        "id": "vk5iBRVTfi5I"
      }
    },
    {
      "cell_type": "markdown",
      "source": [
        ".get可以做类似字典的操作，如果无值，则返回默认值（下例中是\n",
        "0）。格式为df.get(key, default=None)，如果是DataFrame，key需要传入列名，返回的是此列的Series；如果是Series，需要传入索引，返回的是一个定值"
      ],
      "metadata": {
        "id": "yNiYynUdrQMz"
      }
    },
    {
      "cell_type": "markdown",
      "source": [
        "### 4.5.7 数据截取"
      ],
      "metadata": {
        "id": "YSUZ3OE1fnAY"
      }
    },
    {
      "cell_type": "markdown",
      "source": [
        "df.truncate()可以对DataFrame和Series进行截取，可以将索引传入before和after参数，将这个区间以外的数据剔除。"
      ],
      "metadata": {
        "id": "kFq_y2WIrZY8"
      }
    },
    {
      "cell_type": "code",
      "source": [
        "df.truncate(before=2, after=4)"
      ],
      "metadata": {
        "id": "OIyoC1SurdaM"
      },
      "execution_count": null,
      "outputs": []
    },
    {
      "cell_type": "markdown",
      "source": [
        "### 4.5.8 索引选择器"
      ],
      "metadata": {
        "id": "olSXXiwffr_Q"
      }
    },
    {
      "cell_type": "code",
      "source": [
        "df.loc[pd.IndexSlice[:,['Q1','Q2']]]"
      ],
      "metadata": {
        "id": "HrnQ9a9br-3s"
      },
      "execution_count": null,
      "outputs": []
    },
    {
      "cell_type": "code",
      "source": [
        "idx = pd.IndexSlice\n",
        "df.loc[idx[:, ['Q1', 'Q2']]]\n"
      ],
      "metadata": {
        "id": "ego_vjZIsNB9"
      },
      "execution_count": null,
      "outputs": []
    },
    {
      "cell_type": "code",
      "source": [
        "# 创建复杂条件选择器\n",
        "selected = df.loc[(df.team=='A') & (df.Q1>90)]\n",
        "idxs = pd.IndexSlice[selected.index, 'name']"
      ],
      "metadata": {
        "id": "P53q51c5s3rg"
      },
      "execution_count": null,
      "outputs": []
    },
    {
      "cell_type": "code",
      "source": [
        "df.loc[idxs]"
      ],
      "metadata": {
        "id": "rR03XlMOtA5e"
      },
      "execution_count": null,
      "outputs": []
    },
    {
      "cell_type": "code",
      "source": [
        "selected['name']"
      ],
      "metadata": {
        "id": "ei59iUq-tZw1"
      },
      "execution_count": null,
      "outputs": []
    },
    {
      "cell_type": "markdown",
      "source": [
        "## 4.6 本章小结"
      ],
      "metadata": {
        "id": "qlwRvO6x7fJY"
      }
    }
  ]
}