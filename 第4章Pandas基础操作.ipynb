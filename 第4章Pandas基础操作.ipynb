{
  "nbformat": 4,
  "nbformat_minor": 0,
  "metadata": {
    "colab": {
      "private_outputs": true,
      "provenance": [],
      "toc_visible": true,
      "authorship_tag": "ABX9TyOTr+YzKJmmTGikSJUsBju6",
      "include_colab_link": true
    },
    "kernelspec": {
      "name": "python3",
      "display_name": "Python 3"
    },
    "language_info": {
      "name": "python"
    }
  },
  "cells": [
    {
      "cell_type": "markdown",
      "metadata": {
        "id": "view-in-github",
        "colab_type": "text"
      },
      "source": [
        "<a href=\"https://colab.research.google.com/github/baiyinnamula/EasyToUnderstandPandas/blob/main/%E7%AC%AC4%E7%AB%A0Pandas%E5%9F%BA%E7%A1%80%E6%93%8D%E4%BD%9C.ipynb\" target=\"_parent\"><img src=\"https://colab.research.google.com/assets/colab-badge.svg\" alt=\"Open In Colab\"/></a>"
      ]
    },
    {
      "cell_type": "code",
      "execution_count": null,
      "metadata": {
        "id": "_uaqgZRw62sG"
      },
      "outputs": [],
      "source": [
        "import numpy as np\n",
        "import pandas  as pd"
      ]
    },
    {
      "cell_type": "markdown",
      "source": [
        "## 4.1 索引操作"
      ],
      "metadata": {
        "id": "I7t6UCfS7PiJ"
      }
    },
    {
      "cell_type": "markdown",
      "source": [
        "### 4.1.1 认识索引"
      ],
      "metadata": {
        "id": "veDrdqFf8NoY"
      }
    },
    {
      "cell_type": "markdown",
      "source": [
        "### 4.1.2 建立索引"
      ],
      "metadata": {
        "id": "4baJd0GC8QGT"
      }
    },
    {
      "cell_type": "code",
      "source": [
        "data = 'https://www.gairuo.com/file/data/dataset/team.xlsx' \n",
        "df = pd.read_excel(data, index_col='name') # 将索引设置为name \n",
        "df"
      ],
      "metadata": {
        "id": "DNErar3h8Tgk"
      },
      "execution_count": null,
      "outputs": []
    },
    {
      "cell_type": "code",
      "source": [
        "df = pd.read_excel(data)\n",
        "df.set_index('name')\n"
      ],
      "metadata": {
        "id": "GWVFlhZs9Mre"
      },
      "execution_count": null,
      "outputs": []
    },
    {
      "cell_type": "markdown",
      "source": [
        "## 4.2 数据的信息"
      ],
      "metadata": {
        "id": "xvIUFeJv7TUZ"
      }
    },
    {
      "cell_type": "markdown",
      "source": [
        "## 4.3 统计计算"
      ],
      "metadata": {
        "id": "RXNyUVAU7V-f"
      }
    },
    {
      "cell_type": "markdown",
      "source": [
        "## 4.4 位置计算"
      ],
      "metadata": {
        "id": "vcBMc1Uq7ZUR"
      }
    },
    {
      "cell_type": "markdown",
      "source": [
        "## 4.5 数据选择"
      ],
      "metadata": {
        "id": "XWoIx6dJ7bpp"
      }
    },
    {
      "cell_type": "markdown",
      "source": [
        "## 4.6 本章小结"
      ],
      "metadata": {
        "id": "qlwRvO6x7fJY"
      }
    },
    {
      "cell_type": "code",
      "source": [],
      "metadata": {
        "id": "ENHJA8bA7h_g"
      },
      "execution_count": null,
      "outputs": []
    }
  ]
}