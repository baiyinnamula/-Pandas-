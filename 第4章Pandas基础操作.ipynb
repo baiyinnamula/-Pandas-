{
  "nbformat": 4,
  "nbformat_minor": 0,
  "metadata": {
    "colab": {
      "private_outputs": true,
      "provenance": [],
      "authorship_tag": "ABX9TyNwup5R10FcPthgfHTt5GyE",
      "include_colab_link": true
    },
    "kernelspec": {
      "name": "python3",
      "display_name": "Python 3"
    },
    "language_info": {
      "name": "python"
    }
  },
  "cells": [
    {
      "cell_type": "markdown",
      "metadata": {
        "id": "view-in-github",
        "colab_type": "text"
      },
      "source": [
        "<a href=\"https://colab.research.google.com/github/baiyinnamula/EasyToUnderstandPandas/blob/main/%E7%AC%AC4%E7%AB%A0Pandas%E5%9F%BA%E7%A1%80%E6%93%8D%E4%BD%9C.ipynb\" target=\"_parent\"><img src=\"https://colab.research.google.com/assets/colab-badge.svg\" alt=\"Open In Colab\"/></a>"
      ]
    },
    {
      "cell_type": "code",
      "execution_count": null,
      "metadata": {
        "id": "_uaqgZRw62sG"
      },
      "outputs": [],
      "source": [
        "import numpy as np\n",
        "import pandas  as pd"
      ]
    },
    {
      "cell_type": "markdown",
      "source": [
        "## 4.1 索引操作"
      ],
      "metadata": {
        "id": "I7t6UCfS7PiJ"
      }
    },
    {
      "cell_type": "markdown",
      "source": [
        "### 4.1.1 认识索引"
      ],
      "metadata": {
        "id": "veDrdqFf8NoY"
      }
    },
    {
      "cell_type": "markdown",
      "source": [
        "### 4.1.2 建立索引"
      ],
      "metadata": {
        "id": "4baJd0GC8QGT"
      }
    },
    {
      "cell_type": "code",
      "source": [
        "data = 'https://www.gairuo.com/file/data/dataset/team.xlsx' \n",
        "df = pd.read_excel(data, index_col='name') # 将索引设置为name \n",
        "df"
      ],
      "metadata": {
        "id": "DNErar3h8Tgk"
      },
      "execution_count": null,
      "outputs": []
    },
    {
      "cell_type": "code",
      "source": [
        "df = pd.read_excel(data)\n",
        "df.set_index('name')"
      ],
      "metadata": {
        "id": "GWVFlhZs9Mre"
      },
      "execution_count": null,
      "outputs": []
    },
    {
      "cell_type": "code",
      "source": [
        "df.set_index(['name', 'team']) # 设置两层索引 \n",
        "df.set_index([df.name.str[0],'name']) # 将姓名的第一个字母和姓名设置为"
      ],
      "metadata": {
        "id": "HzkvhvXi97QN"
      },
      "execution_count": null,
      "outputs": []
    },
    {
      "cell_type": "code",
      "source": [
        "df"
      ],
      "metadata": {
        "id": "g8_2ofnw-JMX"
      },
      "execution_count": null,
      "outputs": []
    },
    {
      "cell_type": "code",
      "source": [
        "s = pd.Series([i for i in range(100)]) \n",
        "df.set_index(s) # 指定一个索引 df.set_index([s, 'name']) # 同时指定索引和现有字段 \n",
        "df.set_index([s, s**2]) # 计算索引"
      ],
      "metadata": {
        "id": "XWHDxCz_-PTs"
      },
      "execution_count": null,
      "outputs": []
    },
    {
      "cell_type": "code",
      "source": [
        "# df.set_index('month', drop=False) # 保留原列 \n",
        "# df.set_index('month', append=True) # 保留原来的索引"
      ],
      "metadata": {
        "id": "p_fBKQlT-d2Q"
      },
      "execution_count": null,
      "outputs": []
    },
    {
      "cell_type": "markdown",
      "source": [
        "### 4.1.3 重置索引"
      ],
      "metadata": {
        "id": "PEC8V1WF-i4W"
      }
    },
    {
      "cell_type": "code",
      "source": [
        "df"
      ],
      "metadata": {
        "id": "1heVFtTm-kzA"
      },
      "execution_count": null,
      "outputs": []
    },
    {
      "cell_type": "code",
      "source": [
        "df.set_index('name', inplace=True)"
      ],
      "metadata": {
        "id": "2vDuIIp9-8GK"
      },
      "execution_count": null,
      "outputs": []
    },
    {
      "cell_type": "code",
      "source": [
        "df"
      ],
      "metadata": {
        "id": "55miSF_O_BPl"
      },
      "execution_count": null,
      "outputs": []
    },
    {
      "cell_type": "code",
      "source": [
        "df.reset_index()"
      ],
      "metadata": {
        "id": "5DYg-2z9_EGP"
      },
      "execution_count": null,
      "outputs": []
    },
    {
      "cell_type": "markdown",
      "source": [
        "### 4.1.4 索引类型"
      ],
      "metadata": {
        "id": "2fSg0-vx_W4Y"
      }
    },
    {
      "cell_type": "markdown",
      "source": [
        "数字索引（NumericIndex）共有以下几种。 \n",
        "* RangeIndex：单调整数范围的不可变索引。 \n",
        "* Int64Index：64位整型索引。 \n",
        "* UInt64Index：无符号整数索引。 \n",
        "* Float64Index：64位浮点型索引。"
      ],
      "metadata": {
        "id": "SKfdXeTW_YMz"
      }
    },
    {
      "cell_type": "code",
      "source": [
        "pd.RangeIndex(1,100,2)"
      ],
      "metadata": {
        "id": "sGGsIsiF_kXL"
      },
      "execution_count": null,
      "outputs": []
    },
    {
      "cell_type": "code",
      "source": [
        "pd.Int64Index([1,2,3,-4], name='num')"
      ],
      "metadata": {
        "id": "fnMMxRPY_l_o"
      },
      "execution_count": null,
      "outputs": []
    },
    {
      "cell_type": "code",
      "source": [
        "pd.UInt64Index([1,2,3,4])"
      ],
      "metadata": {
        "id": "5IapGnzF_ruO"
      },
      "execution_count": null,
      "outputs": []
    },
    {
      "cell_type": "code",
      "source": [
        "pd.Float64Index([1.2,2.3,3,4])"
      ],
      "metadata": {
        "id": "vNXe4Etb_u5t"
      },
      "execution_count": null,
      "outputs": []
    },
    {
      "cell_type": "code",
      "source": [
        "pd.CategoricalIndex(['a', 'b', 'a', 'b'])"
      ],
      "metadata": {
        "id": "KblS2a0e_-kL"
      },
      "execution_count": null,
      "outputs": []
    },
    {
      "cell_type": "code",
      "source": [
        "pd.interval_range(start=0, end=5)"
      ],
      "metadata": {
        "id": "Z29fK0_pAF_O"
      },
      "execution_count": null,
      "outputs": []
    },
    {
      "cell_type": "code",
      "source": [
        "arrays = [[1, 1, 2, 2], ['red', 'blue', 'red', 'blue']] \n",
        "pd.MultiIndex.from_arrays(arrays, names=('number', 'color'))"
      ],
      "metadata": {
        "id": "XfpIYIknAQx7"
      },
      "execution_count": null,
      "outputs": []
    },
    {
      "cell_type": "code",
      "source": [
        "# 从一个日期连续到另一个日期 \n",
        "pd.date_range(start='1/1/2018', end='1/08/2018')"
      ],
      "metadata": {
        "id": "B7ux2qDeAWQY"
      },
      "execution_count": null,
      "outputs": []
    },
    {
      "cell_type": "code",
      "source": [
        "# 指定开始时间和周期 \n",
        "pd.date_range(start='1/1/2018', periods=8)"
      ],
      "metadata": {
        "id": "BsLLqLNLAaF1"
      },
      "execution_count": null,
      "outputs": []
    },
    {
      "cell_type": "code",
      "source": [
        "# 以月为周期 \n",
        "pd.period_range(start='2017-01-01', end='2018-01-01', freq='M')"
      ],
      "metadata": {
        "id": "-Nk18s8AAiog"
      },
      "execution_count": null,
      "outputs": []
    },
    {
      "cell_type": "code",
      "source": [
        "# 周期嵌套 \n",
        "pd.period_range(start=pd.Period('2017Q1', freq='Q'), end=pd.Period('2017Q2', freq='Q'), freq='M')"
      ],
      "metadata": {
        "id": "VXTi4GNLAqgu"
      },
      "execution_count": null,
      "outputs": []
    },
    {
      "cell_type": "code",
      "source": [
        "import datetime\n",
        "pd.TimedeltaIndex(data =['06:05:01.000030', '+23:59:59.999999', '22 day 2 min 3us 10ns', '+23:29:59.999999', '+12:19:59.999999']) \n",
        "# 使用 datetime \n",
        "pd.TimedeltaIndex(['1 days', '1 days, 00:00:05', np.timedelta64(2, 'D'), datetime.timedelta(days=2, seconds=2)])"
      ],
      "metadata": {
        "id": "ScfVVLnzA8BQ"
      },
      "execution_count": null,
      "outputs": []
    },
    {
      "cell_type": "code",
      "source": [
        "t = pd.period_range('2020-5-1 10:00:05', periods=8, freq='S') \n",
        "pd.PeriodIndex(t,freq='S')"
      ],
      "metadata": {
        "id": "ZakaUlu0BSrq"
      },
      "execution_count": null,
      "outputs": []
    },
    {
      "cell_type": "markdown",
      "source": [
        "### 4.1.5 索引对象"
      ],
      "metadata": {
        "id": "Cw71iMO2BqI-"
      }
    },
    {
      "cell_type": "code",
      "source": [
        "pd.Index([1, 2, 3]) # Int64Index([1, 2, 3], dtype='int64') \n",
        "pd.Index(list('abc')) # Index(['a', 'b', 'c'], dtype='object') \n",
        "# 可以用name指定一个索引名称 \n",
        "pd.Index(['e', 'd', 'a', 'b'], name='something')"
      ],
      "metadata": {
        "id": "wMtN2TSGBriN"
      },
      "execution_count": null,
      "outputs": []
    },
    {
      "cell_type": "code",
      "source": [
        "df.index"
      ],
      "metadata": {
        "id": "FlmOJ4zLB372"
      },
      "execution_count": null,
      "outputs": []
    },
    {
      "cell_type": "code",
      "source": [
        "df.columns"
      ],
      "metadata": {
        "id": "yrJnX5vYB5z7"
      },
      "execution_count": null,
      "outputs": []
    },
    {
      "cell_type": "markdown",
      "source": [
        "### 4.1.6 索引的属性"
      ],
      "metadata": {
        "id": "XYAOqWbeB-Sy"
      }
    },
    {
      "cell_type": "code",
      "source": [
        "# 常用属性 \n",
        "df.index.name \n",
        "# 名称 \n",
        "df.index.array # array数组 \n",
        "df.index.dtype # 数据类型 \n",
        "df.index.shape # 形状 \n",
        "df.index.size # 元素数量 \n",
        "df.index.values # array数组 \n",
        "# 其他，不常用 \n",
        "df.index.empty # 是否为空 \n",
        "df.index.is_unique # 是否不重复 \n",
        "df.index.names # 名称列表 \n",
        "df.index.is_all_dates # 是否全是日期时间 \n",
        "df.index.has_duplicates # 是否有重复值 \n",
        "df.index.values # 索引的值array"
      ],
      "metadata": {
        "id": "KIJHhRvTB_qa"
      },
      "execution_count": null,
      "outputs": []
    },
    {
      "cell_type": "markdown",
      "source": [
        "### 4.1.7 索引的操作"
      ],
      "metadata": {
        "id": "LhW5UVMwCaBY"
      }
    },
    {
      "cell_type": "code",
      "source": [
        "# 常用方法 \n",
        "df.index.astype('int64') # 转换类型 \n",
        "df.index.isin() # 是否存在，见下方示例 \n",
        "df.index.rename('number') # 修改索引名称 \n",
        "df.index.nunique() # 不重复值的数量 \n",
        "df.index.sort_values(ascending=False,) # 排序，倒序 \n",
        "df.index.map(lambda x:x+'_') # map函数处理 \n",
        "df.index.str.replace('_', '') # str替换 \n",
        "df.index.str.split('_') # 分隔 \n",
        "df.index.to_list() # 转为列表 \n",
        "df.index.to_frame(index=False, name='a') # 转成DataFrame \n",
        "df.index.to_series() # 转为series \n",
        "df.index.to_numpy() # 转为numpy \n",
        "df.index.unique() # 去重 \n",
        "df.index.value_counts() # 去重及计数 \n",
        "df.index.where(df.index=='a') # 筛选 \n",
        "df.index.rename('grade', inplace=False) # 重命名索引 \n",
        "df.index.rename(['species', 'year']) # 多层，重命名索引 \n",
        "df.index.max() # 最大值 \n",
        "df.index.argmax() # 最大索引值 \n",
        "df.index.any() \n",
        "df.index.all() \n",
        "df.index.T # 转置，在多层索引里很有用"
      ],
      "metadata": {
        "id": "1_Kw-HMuCbYa"
      },
      "execution_count": null,
      "outputs": []
    },
    {
      "cell_type": "markdown",
      "source": [
        "### 4.1.8 索引重命名"
      ],
      "metadata": {
        "id": "2rpEnoxyC7I3"
      }
    },
    {
      "cell_type": "markdown",
      "source": [
        "## 4.2 数据的信息"
      ],
      "metadata": {
        "id": "xvIUFeJv7TUZ"
      }
    },
    {
      "cell_type": "markdown",
      "source": [
        "### 4.2.1 查看样本"
      ],
      "metadata": {
        "id": "51InhPm-Dqa_"
      }
    },
    {
      "cell_type": "markdown",
      "source": [
        "加载完的数据可能由于量太大，我们需要查看部分样本数据， Pandas提供了三个常用的样式查看方法。 \n",
        "* df.head()：前部数据，默认5条，可指定条数。 \n",
        "* df.tail()：尾部数据，默认5条，可指定条数。 \n",
        "* df.sample()：一条随机数据，可指定条数。"
      ],
      "metadata": {
        "id": "kTjAS8OmD1am"
      }
    },
    {
      "cell_type": "markdown",
      "source": [
        "### 4.2.2 数据形状\n",
        "\n",
        "执行df.shape会返回一个元组，该元组的第一个元素代表行数，第 二个元素代表列数，这就是这个数据的基本形状，也是数据的大小。\n"
      ],
      "metadata": {
        "id": "8FlekoDOD8J2"
      }
    },
    {
      "cell_type": "markdown",
      "source": [
        "### 4.2.3 基础信息"
      ],
      "metadata": {
        "id": "3ukXe4GiEGG_"
      }
    },
    {
      "cell_type": "code",
      "source": [
        "df.info"
      ],
      "metadata": {
        "id": "x43sbop7ELTR"
      },
      "execution_count": null,
      "outputs": []
    },
    {
      "cell_type": "markdown",
      "source": [
        "### 4.2.4 数据类型\n",
        "df.dtypes会返回每个字段的数据类型及DataFrame整体的类型。"
      ],
      "metadata": {
        "id": "n42hMJRGER2p"
      }
    },
    {
      "cell_type": "markdown",
      "source": [
        "### 4.2.5 行列索引内容"
      ],
      "metadata": {
        "id": "79b6ckO8EZR3"
      }
    },
    {
      "cell_type": "code",
      "source": [
        "df.axes"
      ],
      "metadata": {
        "id": "QL7dgM9bEjWl"
      },
      "execution_count": null,
      "outputs": []
    },
    {
      "cell_type": "code",
      "source": [
        "# 索引对象 \n",
        "df.index # RangeIndex(start=0, stop=100, step=1) # 列索引，Series不支持 \n",
        "df.columns # Index(['name', 'team', 'Q1', 'Q2', 'Q3', 'Q4'], dtype='object') \n",
        "df.values # array(<所有值的列表矩阵>) \n",
        "df.ndim # 2 维度数 \n",
        "df.size # 600行×列的总数，就是总共有多少数据 # 是否为空，注意，有空值不认为是空 \n",
        "df.empty # False # Series的索引，DataFrame的列名 \n",
        "df.keys()"
      ],
      "metadata": {
        "id": "Xq0eRtonE_kE"
      },
      "execution_count": null,
      "outputs": []
    },
    {
      "cell_type": "markdown",
      "source": [
        "### 4.2.6 其他信息"
      ],
      "metadata": {
        "id": "W1872fQCEy6I"
      }
    },
    {
      "cell_type": "markdown",
      "source": [
        "## 4.3 统计计算"
      ],
      "metadata": {
        "id": "RXNyUVAU7V-f"
      }
    },
    {
      "cell_type": "markdown",
      "source": [
        "### 4.3.1 描述统计"
      ],
      "metadata": {
        "id": "6Unm256OFjl0"
      }
    },
    {
      "cell_type": "markdown",
      "source": [
        "df.describe()会返回一个有多行的所有数字列的统计表，每一行对应 一个统计指标，有总数、平均数、标准差、最小值、四分位数、最大值 等。"
      ],
      "metadata": {
        "id": "UBLsL6vvGbU5"
      }
    },
    {
      "cell_type": "markdown",
      "source": [
        "### 4.3.2 数学统计"
      ],
      "metadata": {
        "id": "zTvCyi_YGvn-"
      }
    },
    {
      "cell_type": "markdown",
      "source": [
        "### 4.3.3 统计函数"
      ],
      "metadata": {
        "id": "mJba7pnQHQrQ"
      }
    },
    {
      "cell_type": "code",
      "source": [
        "import pandas\n"
      ],
      "metadata": {
        "id": "xhF08AL8GanK"
      },
      "execution_count": null,
      "outputs": []
    },
    {
      "cell_type": "markdown",
      "source": [
        "## 4.4 位置计算"
      ],
      "metadata": {
        "id": "vcBMc1Uq7ZUR"
      }
    },
    {
      "cell_type": "markdown",
      "source": [],
      "metadata": {
        "id": "W149EpfYJqPU"
      }
    },
    {
      "cell_type": "markdown",
      "source": [
        "### 4.4.1 位置插值算法\n"
      ],
      "metadata": {
        "id": "Ialqw2GMJZYI"
      }
    },
    {
      "cell_type": "code",
      "source": [
        "pd.Series([9, 4, 6, 7, 9])"
      ],
      "metadata": {
        "id": "_bMMvm7mJvl1"
      },
      "execution_count": null,
      "outputs": []
    },
    {
      "cell_type": "code",
      "source": [
        "pd.Series([9, 4, 6, 7, 9]).diff()\n"
      ],
      "metadata": {
        "id": "U-niO_hkJy3u"
      },
      "execution_count": null,
      "outputs": []
    },
    {
      "cell_type": "code",
      "source": [
        "# 后方向，移动两位求差值 \n",
        "pd.Series([9, 4, 6, 7, 9]).diff(-2)"
      ],
      "metadata": {
        "id": "nQ6p9MRzKODL"
      },
      "execution_count": null,
      "outputs": []
    },
    {
      "cell_type": "code",
      "source": [
        "# 只筛选4个季度的5条数据 \n",
        "# df.loc[:5,'Q1':'Q4'].diff(1, axis=1)"
      ],
      "metadata": {
        "id": "oIhS52szKZg0"
      },
      "execution_count": null,
      "outputs": []
    },
    {
      "cell_type": "markdown",
      "source": [
        "### 4.4.2 位置移动shift()"
      ],
      "metadata": {
        "id": "OO-5nGAlKu-j"
      }
    },
    {
      "cell_type": "markdown",
      "source": [
        "### 4.4.3 位置序号rank()"
      ],
      "metadata": {
        "id": "ybxBu3OlLDoU"
      }
    },
    {
      "cell_type": "markdown",
      "source": [
        "## 4.5 数据选择"
      ],
      "metadata": {
        "id": "XWoIx6dJ7bpp"
      }
    },
    {
      "cell_type": "markdown",
      "source": [
        "### 4.5.1 选择列"
      ],
      "metadata": {
        "id": "U1CEY4wWMLXT"
      }
    },
    {
      "cell_type": "markdown",
      "source": [
        "### 4.5.2 切片[]"
      ],
      "metadata": {
        "id": "nalVozwpMcni"
      }
    },
    {
      "cell_type": "markdown",
      "source": [
        "### 4.5.3 按轴标签.loc"
      ],
      "metadata": {
        "id": "AzmUarvMMx4c"
      }
    },
    {
      "cell_type": "markdown",
      "source": [
        "### 4.5.4 按数字索引.iloc"
      ],
      "metadata": {
        "id": "prPoAFvVNYFf"
      }
    },
    {
      "cell_type": "markdown",
      "source": [
        "### 4.5.5 取具体值.at/.iat"
      ],
      "metadata": {
        "id": "3rMVwiGHNku3"
      }
    },
    {
      "cell_type": "markdown",
      "source": [
        "### 4.5.6 获取数据.get"
      ],
      "metadata": {
        "id": "kSkaNFBLNykU"
      }
    },
    {
      "cell_type": "markdown",
      "source": [
        "### 4.5.7 数据截取.truncate"
      ],
      "metadata": {
        "id": "eMkQr4QAN-T7"
      }
    },
    {
      "cell_type": "markdown",
      "source": [
        "### 4.5.8 索引选择器"
      ],
      "metadata": {
        "id": "Vf8JKh1qOKBF"
      }
    },
    {
      "cell_type": "markdown",
      "source": [
        "## 4.6 本章小结"
      ],
      "metadata": {
        "id": "qlwRvO6x7fJY"
      }
    },
    {
      "cell_type": "code",
      "source": [],
      "metadata": {
        "id": "ENHJA8bA7h_g"
      },
      "execution_count": null,
      "outputs": []
    }
  ]
}