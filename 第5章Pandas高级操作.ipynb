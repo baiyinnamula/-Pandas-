{
  "nbformat": 4,
  "nbformat_minor": 0,
  "metadata": {
    "colab": {
      "private_outputs": true,
      "provenance": [],
      "authorship_tag": "ABX9TyMNgyXGrAEYonXufFqkXyOU",
      "include_colab_link": true
    },
    "kernelspec": {
      "name": "python3",
      "display_name": "Python 3"
    },
    "language_info": {
      "name": "python"
    }
  },
  "cells": [
    {
      "cell_type": "markdown",
      "metadata": {
        "id": "view-in-github",
        "colab_type": "text"
      },
      "source": [
        "<a href=\"https://colab.research.google.com/github/baiyinnamula/EasyToUnderstandPandas/blob/main/%E7%AC%AC5%E7%AB%A0Pandas%E9%AB%98%E7%BA%A7%E6%93%8D%E4%BD%9C.ipynb\" target=\"_parent\"><img src=\"https://colab.research.google.com/assets/colab-badge.svg\" alt=\"Open In Colab\"/></a>"
      ]
    },
    {
      "cell_type": "code",
      "execution_count": null,
      "metadata": {
        "id": "tlYX2TjrHPHK"
      },
      "outputs": [],
      "source": [
        "import numpy as np\n",
        "import pandas as pd\n",
        "\n",
        "df = pd.read_excel('https://www.gairuo.com/file/data/dataset/team.xlsx')"
      ]
    },
    {
      "cell_type": "markdown",
      "source": [
        "## 5.1 复杂查询"
      ],
      "metadata": {
        "id": "EDC8QxrSHU_2"
      }
    },
    {
      "cell_type": "markdown",
      "source": [
        "### 5.1.1 逻辑运算"
      ],
      "metadata": {
        "id": "6gKDv6lZI48O"
      }
    },
    {
      "cell_type": "code",
      "source": [
        "# Q1 成绩大于 35\n",
        "df.Q1 > 36"
      ],
      "metadata": {
        "id": "SX9LZBErJKrf"
      },
      "execution_count": null,
      "outputs": []
    },
    {
      "cell_type": "code",
      "source": [
        "df.index == 1"
      ],
      "metadata": {
        "id": "ueUCCsd3JdM9"
      },
      "execution_count": null,
      "outputs": []
    },
    {
      "cell_type": "code",
      "source": [
        "# # df.loc[:,'Q1':'Q4']部分只取数字部分，否则会因字符无大于运算而报错\n",
        "df.loc[:, 'Q1':'Q4'] > 60"
      ],
      "metadata": {
        "id": "QNkndTBmJrU-"
      },
      "execution_count": null,
      "outputs": []
    },
    {
      "cell_type": "code",
      "source": [
        "~(df.Q1 < 60) & (df['team'] == 'C')"
      ],
      "metadata": {
        "id": "jVQdr1IEJ8sO"
      },
      "execution_count": null,
      "outputs": []
    },
    {
      "cell_type": "markdown",
      "source": [
        "### 5.1.2 逻辑筛选数据"
      ],
      "metadata": {
        "id": "K8jd_HHHKM_m"
      }
    },
    {
      "cell_type": "code",
      "source": [
        "df[df['Q1'] == 8]"
      ],
      "metadata": {
        "id": "6xQGVzTYKjs-"
      },
      "execution_count": null,
      "outputs": []
    },
    {
      "cell_type": "code",
      "source": [
        "df[df.Q1 > df.Q2]"
      ],
      "metadata": {
        "id": "CeDjmhJPK5au"
      },
      "execution_count": null,
      "outputs": []
    },
    {
      "cell_type": "code",
      "source": [
        "df[~(df['Q1'] == 8)] # 不等于8"
      ],
      "metadata": {
        "id": "_cuQLdlgKunn"
      },
      "execution_count": null,
      "outputs": []
    },
    {
      "cell_type": "code",
      "source": [
        "df[df.name == 'Ben'] # 姓名为Ben"
      ],
      "metadata": {
        "id": "jcdnGVGNK08m"
      },
      "execution_count": null,
      "outputs": []
    },
    {
      "cell_type": "code",
      "source": [
        "# 表达式与切片一致\n",
        "df.loc[df['Q1'] > 90, 'Q1'] # Q1大于90，只显示Q1"
      ],
      "metadata": {
        "id": "IEwjIi1ZK9mu"
      },
      "execution_count": null,
      "outputs": []
    },
    {
      "cell_type": "code",
      "source": [
        "df.loc[(df.Q1 > 80) & (df.Q2 < 15)] # and关系"
      ],
      "metadata": {
        "id": "2y2uz8aMLRQO"
      },
      "execution_count": null,
      "outputs": []
    },
    {
      "cell_type": "code",
      "source": [
        "df.loc[(df.Q1 > 90) | (df.Q2 < 90)] # or关系"
      ],
      "metadata": {
        "id": "2oFbDZzILStY"
      },
      "execution_count": null,
      "outputs": []
    },
    {
      "cell_type": "code",
      "source": [
        "df.loc[df['Q1'] > 90, 'Q1':] # Q1大于90，显示Q1及其后所有列"
      ],
      "metadata": {
        "id": "fCen5L0fLZoW"
      },
      "execution_count": null,
      "outputs": []
    },
    {
      "cell_type": "code",
      "source": [
        "# Q1、Q2成绩全为超过80分的\n",
        "df[(df.loc[:, ['Q1','Q2']] > 80).all(1)]"
      ],
      "metadata": {
        "id": "14hwOY65L8E_"
      },
      "execution_count": null,
      "outputs": []
    },
    {
      "cell_type": "code",
      "source": [
        "(df.loc[:, ['Q1','Q2']] > 80).all(1)"
      ],
      "metadata": {
        "id": "NjlS-hTrMe5u"
      },
      "execution_count": null,
      "outputs": []
    },
    {
      "cell_type": "code",
      "source": [
        "# Q1、Q2成绩至少有一个超过80分的\n",
        "df[(df.loc[:, ['Q1', 'Q2']] > 80).any(1)]"
      ],
      "metadata": {
        "id": "xx2I2BZBMxd2"
      },
      "execution_count": null,
      "outputs": []
    },
    {
      "cell_type": "markdown",
      "source": [
        "### 5.1.3 函数筛选"
      ],
      "metadata": {
        "id": "9A1WDTtBNDCH"
      }
    },
    {
      "cell_type": "code",
      "source": [
        "# 查询最大索引的值\n",
        "df.Q1[lambda s: max(s.index)]"
      ],
      "metadata": {
        "id": "1SRIfb4INTlO"
      },
      "execution_count": null,
      "outputs": []
    },
    {
      "cell_type": "code",
      "source": [
        "max(df.Q1.index)"
      ],
      "metadata": {
        "id": "xUSHBRvROaKH"
      },
      "execution_count": null,
      "outputs": []
    },
    {
      "cell_type": "code",
      "source": [
        "df.Q1[df.index==99]"
      ],
      "metadata": {
        "id": "IiMmKH0xOmGe"
      },
      "execution_count": null,
      "outputs": []
    },
    {
      "cell_type": "code",
      "source": [
        "df.loc[:, lambda df: df.columns.str.len()==4] # 由真假值组成的序列"
      ],
      "metadata": {
        "id": "wWZtCSweP7Mf"
      },
      "execution_count": null,
      "outputs": []
    },
    {
      "cell_type": "code",
      "source": [
        "df.loc[:, lambda df: [i for i in df.columns if 'Q' in i]] # 列名列"
      ],
      "metadata": {
        "id": "C8o_7pAjQPhe"
      },
      "execution_count": null,
      "outputs": []
    },
    {
      "cell_type": "code",
      "source": [
        "[i for i in df.columns if 'Q' in i]"
      ],
      "metadata": {
        "id": "iSuUAeMrQYYf"
      },
      "execution_count": null,
      "outputs": []
    },
    {
      "cell_type": "code",
      "source": [
        "df.iloc[:3, lambda df: df.columns.str.len()==2] # 由真假值组成的序列"
      ],
      "metadata": {
        "id": "--dzy3S3QcWm"
      },
      "execution_count": null,
      "outputs": []
    },
    {
      "cell_type": "markdown",
      "source": [
        "### 5.1.4 比较函数"
      ],
      "metadata": {
        "id": "aNSB4aLbQgVO"
      }
    },
    {
      "cell_type": "code",
      "source": [
        "# 以下相当于 df[df.Q1 == 60]\n",
        "df[df.Q1.eq(60)]"
      ],
      "metadata": {
        "id": "tYdhyu-QQmBm"
      },
      "execution_count": null,
      "outputs": []
    },
    {
      "cell_type": "code",
      "source": [
        "# df.ne() # 不等于 !=\n",
        "# df.le() # 小于等于 <=\n",
        "# df.lt() # 小于 <\n",
        "# df.ge() # 大于等于 >=\n",
        "# df.gt() # 大于 >"
      ],
      "metadata": {
        "id": "HOUS9TUuQrYm"
      },
      "execution_count": null,
      "outputs": []
    },
    {
      "cell_type": "code",
      "source": [
        "df[df.team.isin(['A', 'B'])]"
      ],
      "metadata": {
        "id": "HQ139OLLRBmm"
      },
      "execution_count": null,
      "outputs": []
    },
    {
      "cell_type": "code",
      "source": [
        "df[df.isin({'team': ['C', 'D'], 'Q1':[36,93]})]"
      ],
      "metadata": {
        "id": "bM4chZj1RQxv"
      },
      "execution_count": null,
      "outputs": []
    },
    {
      "cell_type": "markdown",
      "source": [
        "### 5.1.5 查询df.query()"
      ],
      "metadata": {
        "id": "R0O7zgadRgwG"
      }
    },
    {
      "cell_type": "code",
      "source": [
        "df.query('Q1>Q2>90')"
      ],
      "metadata": {
        "id": "aM_O0VomRrUX"
      },
      "execution_count": null,
      "outputs": []
    },
    {
      "cell_type": "code",
      "source": [
        "df.query('Q1 + Q2 > 180')"
      ],
      "metadata": {
        "id": "-_JtkVXmRy3J"
      },
      "execution_count": null,
      "outputs": []
    },
    {
      "cell_type": "code",
      "source": [
        "df.query('Q1 == Q2')"
      ],
      "metadata": {
        "id": "jCxKUW4OR8p_"
      },
      "execution_count": null,
      "outputs": []
    },
    {
      "cell_type": "code",
      "source": [
        "df.query('(Q1 < 50) & (Q2 > 40) and (Q3>90)')"
      ],
      "metadata": {
        "id": "DXd-kn1QSCBn"
      },
      "execution_count": null,
      "outputs": []
    },
    {
      "cell_type": "code",
      "source": [
        "df.query('Q1>Q2>Q3>Q4')"
      ],
      "metadata": {
        "id": "pB44cHkoSOVW"
      },
      "execution_count": null,
      "outputs": []
    },
    {
      "cell_type": "code",
      "source": [
        "df.query('team != \"C\"')"
      ],
      "metadata": {
        "id": "NVS9RrnuSWzm"
      },
      "execution_count": null,
      "outputs": []
    },
    {
      "cell_type": "code",
      "source": [
        "df.query('team not in (\"E\",\"A\",\"B\")')"
      ],
      "metadata": {
        "id": "CfP-vxitSgRH"
      },
      "execution_count": null,
      "outputs": []
    },
    {
      "cell_type": "code",
      "source": [
        "a =df.Q1.mean()\n",
        "df.query('Q1 > @a + 40')"
      ],
      "metadata": {
        "id": "UY_klt3DSujL"
      },
      "execution_count": null,
      "outputs": []
    },
    {
      "cell_type": "code",
      "source": [
        "df.query('Q1 > Q2 + @a')"
      ],
      "metadata": {
        "id": "K_XJte9qTBkA"
      },
      "execution_count": null,
      "outputs": []
    },
    {
      "cell_type": "code",
      "source": [
        "# df.eval()用法与df.query类似\n",
        "df[df.eval(\"Q1 > 90 > Q3 > 10\")]\n",
        "df[df.eval(\"Q1 > `Q2`+@a\")]"
      ],
      "metadata": {
        "id": "9M7khRm3TXkH"
      },
      "execution_count": null,
      "outputs": []
    },
    {
      "cell_type": "markdown",
      "source": [
        "### 5.1.6 筛选df.filter()"
      ],
      "metadata": {
        "id": "sv1ANj6uTb_P"
      }
    },
    {
      "cell_type": "code",
      "source": [
        "df.filter(items=['Q1', 'Q2']) # 选择两列"
      ],
      "metadata": {
        "id": "WAcMVYUhTiki"
      },
      "execution_count": null,
      "outputs": []
    },
    {
      "cell_type": "code",
      "source": [
        "df.filter(regex='Q', axis=1)  # 列名包含Q的列"
      ],
      "metadata": {
        "id": "aTtbwNlWTrHg"
      },
      "execution_count": null,
      "outputs": []
    },
    {
      "cell_type": "code",
      "source": [
        "df.filter(regex='e$', axis=1)"
      ],
      "metadata": {
        "id": "arh_HcmnT2Tn"
      },
      "execution_count": null,
      "outputs": []
    },
    {
      "cell_type": "code",
      "source": [
        "df.filter(regex='1$', axis=0) # 正则，索引名以1结尾"
      ],
      "metadata": {
        "id": "PBaFtt9lUAfv"
      },
      "execution_count": null,
      "outputs": []
    },
    {
      "cell_type": "code",
      "source": [
        "df.filter(like='2', axis=0)"
      ],
      "metadata": {
        "id": "-VIcbAOMUP1_"
      },
      "execution_count": null,
      "outputs": []
    },
    {
      "cell_type": "code",
      "source": [
        "df.filter(regex='^2', axis=0).filter(like='Q', axis=1)"
      ],
      "metadata": {
        "id": "eYeXttkvUeY3"
      },
      "execution_count": null,
      "outputs": []
    },
    {
      "cell_type": "markdown",
      "source": [
        "### 5.1.7 按数据类型查询"
      ],
      "metadata": {
        "id": "dN5pzgdUUrDG"
      }
    },
    {
      "cell_type": "code",
      "source": [
        "df.select_dtypes(include=['float64']) # 选择float64型数据"
      ],
      "metadata": {
        "id": "IyBoWgTaU1lI"
      },
      "execution_count": null,
      "outputs": []
    },
    {
      "cell_type": "code",
      "source": [
        "df.select_dtypes(include='bool')"
      ],
      "metadata": {
        "id": "gSZK3aaOU5BP"
      },
      "execution_count": null,
      "outputs": []
    },
    {
      "cell_type": "code",
      "source": [
        "df.select_dtypes(include=['number']) # 只取数字型"
      ],
      "metadata": {
        "id": "ErkZ_tA1U_rA"
      },
      "execution_count": null,
      "outputs": []
    },
    {
      "cell_type": "code",
      "source": [
        "df.select_dtypes(exclude=['int']) # 排除int类型"
      ],
      "metadata": {
        "id": "kHp2mkH-VExH"
      },
      "execution_count": null,
      "outputs": []
    },
    {
      "cell_type": "code",
      "source": [
        "df.select_dtypes(exclude=['datetime64'])"
      ],
      "metadata": {
        "id": "mGoRMBVuVKJY"
      },
      "execution_count": null,
      "outputs": []
    },
    {
      "cell_type": "markdown",
      "source": [
        "## 5.2 数据类型转换"
      ],
      "metadata": {
        "id": "z9v_ivhQHaBG"
      }
    },
    {
      "cell_type": "markdown",
      "source": [
        "### 5.2.1 推断类型"
      ],
      "metadata": {
        "id": "i_lhPy72Vs7A"
      }
    },
    {
      "cell_type": "code",
      "source": [
        "df.infer_objects() # 推断后的DataFrame"
      ],
      "metadata": {
        "id": "Qlx0kimJV0xx"
      },
      "execution_count": null,
      "outputs": []
    },
    {
      "cell_type": "code",
      "source": [
        "df.infer_objects().dtypes"
      ],
      "metadata": {
        "id": "aVbTZzWEWAQp"
      },
      "execution_count": null,
      "outputs": []
    },
    {
      "cell_type": "code",
      "source": [
        "# 推荐这个新方法，它支持string类型\n",
        "df.convert_dtypes()"
      ],
      "metadata": {
        "id": "hRn7MPz_WJEA"
      },
      "execution_count": null,
      "outputs": []
    },
    {
      "cell_type": "code",
      "source": [
        "df.convert_dtypes().dtypes"
      ],
      "metadata": {
        "id": "i-j6wwheWNFw"
      },
      "execution_count": null,
      "outputs": []
    },
    {
      "cell_type": "markdown",
      "source": [
        "### 5.2.2 指定类型"
      ],
      "metadata": {
        "id": "iwY2YaVmXgA4"
      }
    },
    {
      "cell_type": "code",
      "source": [
        "m = ['1', 2, 3]\n",
        "s = pd.to_numeric(m)"
      ],
      "metadata": {
        "id": "lezmaIoTXrPY"
      },
      "execution_count": null,
      "outputs": []
    },
    {
      "cell_type": "code",
      "source": [
        "# 按大体类型推定\n",
        "m = ['1', 2, 3]\n",
        "s = pd.to_numeric(s) # 转成数字\n",
        "# pd.to_datetime(m) # 转成时间\n",
        "# pd.to_timedelta(m) # 转成时间差\n",
        "# pd.to_datetime(m, errors='coerce') # 错误处理\n",
        "# pd.to_numeric(m, errors='ignore')\n",
        "# pd.to_numeric(m, errors='coerce').fillna(0) # 兜底填充\n",
        "# pd.to_datetime(df[['year', 'month', 'day']]) # 组合成日期"
      ],
      "metadata": {
        "id": "amc6cVm8YERw"
      },
      "execution_count": null,
      "outputs": []
    },
    {
      "cell_type": "code",
      "source": [
        "# 最低期望\n",
        "pd.to_numeric(m, downcast='integer') # 至少为有符号int数据类型\n",
        "# array([1, 2, 3], dtype=int8)\n",
        "pd.to_numeric(m, downcast='signed') # 同上\n",
        "# array([1, 2, 3], dtype=int8)"
      ],
      "metadata": {
        "id": "yRD7_uGdX8QZ"
      },
      "execution_count": null,
      "outputs": []
    },
    {
      "cell_type": "code",
      "source": [
        "pd.to_numeric(m, downcast='unsigned') # 至少为无符号int数据类型\n",
        "# array([1, 2, 3], dtype=uint8)\n",
        "pd.to_numeric(m, downcast='float') # 至少为float浮点类型\n",
        "# array([1., 2., 3.], dtype=float32)"
      ],
      "metadata": {
        "id": "Hx8cVy7aY65f"
      },
      "execution_count": null,
      "outputs": []
    },
    {
      "cell_type": "code",
      "source": [
        "df = df.select_dtypes(include='number')\n",
        "# 应用函数\n",
        "df.apply(pd.to_numeric)"
      ],
      "metadata": {
        "id": "iRIM0XcDZB94"
      },
      "execution_count": null,
      "outputs": []
    },
    {
      "cell_type": "markdown",
      "source": [
        "### 5.2.3 类型转换astype()"
      ],
      "metadata": {
        "id": "Lsf3WvnAZGVI"
      }
    },
    {
      "cell_type": "code",
      "source": [
        "df.Q1.astype('int32').dtypes"
      ],
      "metadata": {
        "id": "TGiPU60kZK0o"
      },
      "execution_count": null,
      "outputs": []
    },
    {
      "cell_type": "code",
      "source": [
        "df.astype({'Q1':'int32', 'Q2':'int32'}).dtypes"
      ],
      "metadata": {
        "id": "xbRsKiEHZRfI"
      },
      "execution_count": null,
      "outputs": []
    },
    {
      "cell_type": "code",
      "source": [
        "df.index.astype('int64')"
      ],
      "metadata": {
        "id": "V7Dx09rGZfN7"
      },
      "execution_count": null,
      "outputs": []
    },
    {
      "cell_type": "code",
      "source": [
        "#data.rate.apply(lambda x: x.replace('%', '')).astype('float')/100"
      ],
      "metadata": {
        "id": "xzc7IqEOZwfa"
      },
      "execution_count": null,
      "outputs": []
    },
    {
      "cell_type": "markdown",
      "source": [
        "### 5.2.4 转为时间类型"
      ],
      "metadata": {
        "id": "2negNI9-aFhp"
      }
    },
    {
      "cell_type": "code",
      "source": [
        "t = pd.Series(['20200801', '20200802'])\n",
        "t"
      ],
      "metadata": {
        "id": "n8JJhmkeabcL"
      },
      "execution_count": null,
      "outputs": []
    },
    {
      "cell_type": "code",
      "source": [
        "pd.to_datetime(t)"
      ],
      "metadata": {
        "id": "00H9GEFcacsn"
      },
      "execution_count": null,
      "outputs": []
    },
    {
      "cell_type": "code",
      "source": [
        "t.astype('datetime64[ns]')"
      ],
      "metadata": {
        "id": "AADyln8-ahJQ"
      },
      "execution_count": null,
      "outputs": []
    },
    {
      "cell_type": "markdown",
      "source": [
        "## 5.3 数据排序"
      ],
      "metadata": {
        "id": "_HxhAsHkHlOF"
      }
    },
    {
      "cell_type": "markdown",
      "source": [
        "### 5.3.1 索引排序"
      ],
      "metadata": {
        "id": "u7PNlMFdbaYY"
      }
    },
    {
      "cell_type": "code",
      "source": [
        "df.sort_index(ascending=False)"
      ],
      "metadata": {
        "id": "a0ygCyrDbf4J"
      },
      "execution_count": null,
      "outputs": []
    },
    {
      "cell_type": "code",
      "source": [
        "df.sort_index(axis=1, ascending=False)"
      ],
      "metadata": {
        "id": "y_jrRet5bm5p"
      },
      "execution_count": null,
      "outputs": []
    },
    {
      "cell_type": "code",
      "source": [
        "df = pd.DataFrame({\n",
        "'A': [1,2,4],\n",
        "'B': [3,5,6]\n",
        "}, index=['a', 'b', 'c'])\n",
        "df"
      ],
      "metadata": {
        "id": "A_a5r_qfcNJQ"
      },
      "execution_count": null,
      "outputs": []
    },
    {
      "cell_type": "code",
      "source": [
        "# 按要求重新指定索引顺序\n",
        "df.reindex(['c','b','a'])"
      ],
      "metadata": {
        "id": "CoM7-AB-cQ6Q"
      },
      "execution_count": null,
      "outputs": []
    },
    {
      "cell_type": "code",
      "source": [
        "# 指定列顺序\n",
        "df.reindex(['B','A'], axis=1)"
      ],
      "metadata": {
        "id": "_a_Gd4E-ceJp"
      },
      "execution_count": null,
      "outputs": []
    },
    {
      "cell_type": "markdown",
      "source": [
        "### 5.3.2 数值排序"
      ],
      "metadata": {
        "id": "SkB3IpIYcmsg"
      }
    },
    {
      "cell_type": "code",
      "source": [
        "df = pd.read_excel('https://www.gairuo.com/file/data/dataset/team.xlsx')"
      ],
      "metadata": {
        "id": "U7egm6kZc1aA"
      },
      "execution_count": null,
      "outputs": []
    },
    {
      "cell_type": "code",
      "source": [
        "df.Q1.sort_values()\n"
      ],
      "metadata": {
        "id": "GED8Lvqmcrvo"
      },
      "execution_count": null,
      "outputs": []
    },
    {
      "cell_type": "code",
      "source": [
        "df.sort_values('Q4')"
      ],
      "metadata": {
        "id": "YCxSvzRhdEJh"
      },
      "execution_count": null,
      "outputs": []
    },
    {
      "cell_type": "code",
      "source": [
        "df.sort_values(by=['team','name'], ascending=[True, False])"
      ],
      "metadata": {
        "id": "jIg7r1H4dPIg"
      },
      "execution_count": null,
      "outputs": []
    },
    {
      "cell_type": "markdown",
      "source": [
        "### 5.3.3 混合排序"
      ],
      "metadata": {
        "id": "kzeja21gdfk5"
      }
    },
    {
      "cell_type": "code",
      "source": [
        "df.reset_index()\n",
        "df.set_index('name', inplace=True) # 设置name为索引\n",
        "df.index.names = ['s_name'] # 给索引起名\n",
        "df.sort_values(by=['s_name','team']) # 排序"
      ],
      "metadata": {
        "id": "beFujZpTdjSr"
      },
      "execution_count": null,
      "outputs": []
    },
    {
      "cell_type": "code",
      "source": [
        "df = pd.read_excel('https://www.gairuo.com/file/data/dataset/team.xlsx')\n",
        "df.set_index('name').sort_values('team').sort_index()"
      ],
      "metadata": {
        "id": "g34Ck9lLeVYp"
      },
      "execution_count": null,
      "outputs": []
    },
    {
      "cell_type": "code",
      "source": [
        "df.name.sort_values().index"
      ],
      "metadata": {
        "id": "e6Ia7tSye1eh"
      },
      "execution_count": null,
      "outputs": []
    },
    {
      "cell_type": "code",
      "source": [
        "# 将新的索引应用到数据中\n",
        "df.reindex(df.name.sort_values().index)"
      ],
      "metadata": {
        "id": "MGBw7prpe-2p"
      },
      "execution_count": null,
      "outputs": []
    },
    {
      "cell_type": "markdown",
      "source": [
        "### 5.3.4 按值大小排序"
      ],
      "metadata": {
        "id": "CAkv9gPdfF4K"
      }
    },
    {
      "cell_type": "code",
      "source": [
        "# 先按Q1最小在前，如果相同，Q2小的在前\n",
        "df.nsmallest(5, ['Q1', 'Q2'])"
      ],
      "metadata": {
        "id": "v6OhzoxGfLwR"
      },
      "execution_count": null,
      "outputs": []
    },
    {
      "cell_type": "markdown",
      "source": [
        "## 5.4 添加修改"
      ],
      "metadata": {
        "id": "EY95UscVHpLe"
      }
    },
    {
      "cell_type": "markdown",
      "source": [
        "### 5.4.1 修改数值"
      ],
      "metadata": {
        "id": "lL1TmeoSnu_B"
      }
    },
    {
      "cell_type": "code",
      "source": [
        "df.iloc[0, 0]"
      ],
      "metadata": {
        "id": "iWooL-XLnx6p"
      },
      "execution_count": null,
      "outputs": []
    },
    {
      "cell_type": "code",
      "source": [
        "df.iloc[0,0] = 'Lily'"
      ],
      "metadata": {
        "id": "iWppS3Lsn2UJ"
      },
      "execution_count": null,
      "outputs": []
    },
    {
      "cell_type": "code",
      "source": [
        "df[df.Q1 < 60] = 60"
      ],
      "metadata": {
        "id": "04PmvwMRoS7j"
      },
      "execution_count": null,
      "outputs": []
    },
    {
      "cell_type": "code",
      "source": [
        "df"
      ],
      "metadata": {
        "id": "KDe1nVwkoXPg"
      },
      "execution_count": null,
      "outputs": []
    },
    {
      "cell_type": "code",
      "source": [
        "v = [1, 3, 5, 7, 9] * 20\n",
        "v"
      ],
      "metadata": {
        "id": "G-0k-eH9ojZ5"
      },
      "execution_count": null,
      "outputs": []
    },
    {
      "cell_type": "code",
      "source": [
        "df.Q1 = v"
      ],
      "metadata": {
        "id": "p-haqNdXotSy"
      },
      "execution_count": null,
      "outputs": []
    },
    {
      "cell_type": "code",
      "source": [
        "df.Q1"
      ],
      "metadata": {
        "id": "IVzeZUdwoych"
      },
      "execution_count": null,
      "outputs": []
    },
    {
      "cell_type": "code",
      "source": [
        "df.loc[1:3, 'Q1':'Q2']"
      ],
      "metadata": {
        "id": "L3b21S3ao2sL"
      },
      "execution_count": null,
      "outputs": []
    },
    {
      "cell_type": "code",
      "source": [
        "# 指定修改的目的数据\n",
        "df1 = pd.DataFrame({'Q1':[1,2,3],'Q2':[4,5,6]})\n",
        "df1"
      ],
      "metadata": {
        "id": "jhH173qGpEAx"
      },
      "execution_count": null,
      "outputs": []
    },
    {
      "cell_type": "code",
      "source": [
        "df.loc[1:3,'Q1':'Q2'] = df1"
      ],
      "metadata": {
        "id": "32Gz2VsypGHg"
      },
      "execution_count": null,
      "outputs": []
    },
    {
      "cell_type": "code",
      "source": [
        "df.loc[1:3,'Q1':'Q2']"
      ],
      "metadata": {
        "id": "VVDGW1rgpp26"
      },
      "execution_count": null,
      "outputs": []
    },
    {
      "cell_type": "markdown",
      "source": [
        "### 5.4.2 替换数据"
      ],
      "metadata": {
        "id": "zLkmfMa7pvTd"
      }
    },
    {
      "cell_type": "code",
      "source": [
        "s = pd.Series([3,6,0,4,6,10])\n",
        "s"
      ],
      "metadata": {
        "id": "M-grXrV2p6yJ"
      },
      "execution_count": null,
      "outputs": []
    },
    {
      "cell_type": "code",
      "source": [
        "s.replace(0, 5)"
      ],
      "metadata": {
        "id": "0y8cpsCLqCsB"
      },
      "execution_count": null,
      "outputs": []
    },
    {
      "cell_type": "code",
      "source": [
        "# 使用正则表达式\n",
        "# df.replace(to_replace=r'^ba.$', value='new', regex=True)\n",
        "# df.replace({'A': r'^ba.$'}, {'A': 'new'}, regex=True)\n",
        "# df.replace(regex={r'^ba.$': 'new', 'foo': 'xyz'})\n",
        "# df.replace(regex=[r'^ba.$', 'foo'], value='new')"
      ],
      "metadata": {
        "id": "OXgTuR51qUsx"
      },
      "execution_count": null,
      "outputs": []
    },
    {
      "cell_type": "markdown",
      "source": [
        "### 5.4.3 填充空值"
      ],
      "metadata": {
        "id": "nNsWVM5-q1Lg"
      }
    },
    {
      "cell_type": "code",
      "source": [
        "df.fillna(0)"
      ],
      "metadata": {
        "id": "5kS-2qNuq2hB"
      },
      "execution_count": null,
      "outputs": []
    },
    {
      "cell_type": "code",
      "source": [
        "df.rename(columns={'team':'class'})"
      ],
      "metadata": {
        "id": "1Pz0mqUCrnZa"
      },
      "execution_count": null,
      "outputs": []
    },
    {
      "cell_type": "code",
      "source": [
        "df.rename_axis(\"test\")"
      ],
      "metadata": {
        "id": "CzBRYP7wsGsj"
      },
      "execution_count": null,
      "outputs": []
    },
    {
      "cell_type": "code",
      "source": [
        "df.rename(index={0:\"x\",1:\"y\",2:\"z\"})"
      ],
      "metadata": {
        "id": "9-7_881BsQVv"
      },
      "execution_count": null,
      "outputs": []
    },
    {
      "cell_type": "markdown",
      "source": [
        "### 5.4.4 修改索引名"
      ],
      "metadata": {
        "id": "y55eWvi5rR46"
      }
    },
    {
      "cell_type": "markdown",
      "source": [
        "### 5.4.5 增加列"
      ],
      "metadata": {
        "id": "tNgGFWSLtgCB"
      }
    },
    {
      "cell_type": "code",
      "source": [
        "df['total'] = df.Q1 + df.Q2 + df.Q3 + df.Q4"
      ],
      "metadata": {
        "id": "7GIS0imYthix"
      },
      "execution_count": null,
      "outputs": []
    },
    {
      "cell_type": "code",
      "source": [
        "df['total'] = df.loc[:,'Q1':'Q4'].sum(1)"
      ],
      "metadata": {
        "id": "TKuozjuTtz4n"
      },
      "execution_count": null,
      "outputs": []
    },
    {
      "cell_type": "code",
      "source": [
        "df"
      ],
      "metadata": {
        "id": "95Eka66EuFvR"
      },
      "execution_count": null,
      "outputs": []
    },
    {
      "cell_type": "code",
      "source": [
        "df['total'] = df.select_dtypes(include=['int']).sum(1)"
      ],
      "metadata": {
        "id": "GYPtVTI4uUbL"
      },
      "execution_count": null,
      "outputs": []
    },
    {
      "cell_type": "code",
      "source": [
        "df"
      ],
      "metadata": {
        "id": "Ugq0xeguuk1q"
      },
      "execution_count": null,
      "outputs": []
    },
    {
      "cell_type": "code",
      "source": [
        "df['total'] = df.loc[:,'Q1':'Q4'].apply(lambda x: sum(x), axis='columns')\n",
        "df"
      ],
      "metadata": {
        "id": "UnC8Yhymunn6"
      },
      "execution_count": null,
      "outputs": []
    },
    {
      "cell_type": "markdown",
      "source": [
        "### 5.4.6 插入列df.insert()"
      ],
      "metadata": {
        "id": "lNsXRHEfvBu3"
      }
    },
    {
      "cell_type": "code",
      "source": [
        "df.drop('total', axis=1, inplace=True)"
      ],
      "metadata": {
        "id": "6Kyeccy7vZsi"
      },
      "execution_count": null,
      "outputs": []
    },
    {
      "cell_type": "code",
      "source": [
        "df.insert(2, 'total', df.sum(1))"
      ],
      "metadata": {
        "id": "f546UcV0vPiL"
      },
      "execution_count": null,
      "outputs": []
    },
    {
      "cell_type": "code",
      "source": [
        "df"
      ],
      "metadata": {
        "id": "I_7AJgHMvheR"
      },
      "execution_count": null,
      "outputs": []
    },
    {
      "cell_type": "markdown",
      "source": [
        "### 5.4.7 指定列df.assign()"
      ],
      "metadata": {
        "id": "3wWxNcLLvrqy"
      }
    },
    {
      "cell_type": "code",
      "source": [
        "df.drop('total', axis=1, inplace=True)\n",
        "df.assign(total = df.sum(1))"
      ],
      "metadata": {
        "id": "HwG55qO0wOZr"
      },
      "execution_count": null,
      "outputs": []
    },
    {
      "cell_type": "code",
      "source": [
        "df"
      ],
      "metadata": {
        "id": "7G-4bphvwUqC"
      },
      "execution_count": null,
      "outputs": []
    },
    {
      "cell_type": "code",
      "source": [
        "df.assign(total=df.sum(1), Q=100)"
      ],
      "metadata": {
        "id": "LXjG2hkwwlSD"
      },
      "execution_count": null,
      "outputs": []
    },
    {
      "cell_type": "code",
      "source": [
        "df.assign(total = df.sum(1)).assign(Q=100)"
      ],
      "metadata": {
        "id": "RyCawdFCwsuK"
      },
      "execution_count": null,
      "outputs": []
    },
    {
      "cell_type": "code",
      "source": [
        "(df.assign(total = df.sum(1))\n",
        ".assign(Q=100)\n",
        ".assign(name_len = df.name.str.len())\n",
        ".assign(avg=df.mean(1)).assign(avg2=lambda d:d.total/4)\n",
        ")\n"
      ],
      "metadata": {
        "id": "fUzXpA9Pw7fK"
      },
      "execution_count": null,
      "outputs": []
    },
    {
      "cell_type": "markdown",
      "source": [
        "### 5.4.8 执行表达式df.eval()"
      ],
      "metadata": {
        "id": "SCd935gxx2-D"
      }
    },
    {
      "cell_type": "code",
      "source": [
        "df.eval('total=Q1+Q2+Q3+Q4')"
      ],
      "metadata": {
        "id": "2TAPeOVDx7qy"
      },
      "execution_count": null,
      "outputs": []
    },
    {
      "cell_type": "markdown",
      "source": [
        "### 5.4.9 增加行"
      ],
      "metadata": {
        "id": "aT19Z6ARyIr9"
      }
    },
    {
      "cell_type": "code",
      "source": [
        "df.loc[100] = ['tom','A', 88,88,88,88]"
      ],
      "metadata": {
        "id": "IMIz-ZjIyPU0"
      },
      "execution_count": null,
      "outputs": []
    },
    {
      "cell_type": "code",
      "source": [
        "df"
      ],
      "metadata": {
        "id": "amGoHEzKyWsz"
      },
      "execution_count": null,
      "outputs": []
    },
    {
      "cell_type": "markdown",
      "source": [
        "### 5.4.10 追加合并"
      ],
      "metadata": {
        "id": "UeFvnS3PyjXy"
      }
    },
    {
      "cell_type": "code",
      "source": [
        "df = pd.DataFrame([[1, 2], [3, 4]], columns=list('AB'))\n",
        "df2 = pd.DataFrame([[5, 6], [7, 8]], columns=list('AB'))"
      ],
      "metadata": {
        "id": "DjKnw3TXypeD"
      },
      "execution_count": null,
      "outputs": []
    },
    {
      "cell_type": "code",
      "source": [
        "df"
      ],
      "metadata": {
        "id": "xJfFTdXAyqrT"
      },
      "execution_count": null,
      "outputs": []
    },
    {
      "cell_type": "code",
      "source": [
        "df2"
      ],
      "metadata": {
        "id": "VLSW-19WysVT"
      },
      "execution_count": null,
      "outputs": []
    },
    {
      "cell_type": "code",
      "source": [
        "df1.append(df2)"
      ],
      "metadata": {
        "id": "d9sJy2xjyu0_"
      },
      "execution_count": null,
      "outputs": []
    },
    {
      "cell_type": "code",
      "source": [
        "s1 = pd.Series(['a', 'b'])\n",
        "s2 = pd.Series(['c', 'd'])\n",
        "pd.concat([s1, s2])\n",
        "pd.concat([s1, s2], ignore_index=True) # 索引重新编"
      ],
      "metadata": {
        "id": "4cPzB2E6y13C"
      },
      "execution_count": null,
      "outputs": []
    },
    {
      "cell_type": "code",
      "source": [
        "# 原数索引不变，增加一个一层索引（keys里的内容），变成多层索引\n",
        "pd.concat([s1, s2], keys=['s1', 's2'])\n",
        "pd.concat([s1, s2], keys=['s1', 's2'],\n",
        "names=['Series name', 'Row ID'])"
      ],
      "metadata": {
        "id": "MJeR7elKy5EC"
      },
      "execution_count": null,
      "outputs": []
    },
    {
      "cell_type": "markdown",
      "source": [
        "### 5.4.11 删除"
      ],
      "metadata": {
        "id": "mtu1O163zCyC"
      }
    },
    {
      "cell_type": "markdown",
      "source": [
        "### 5.4.12 删除空值"
      ],
      "metadata": {
        "id": "i0zJQzqVzNo6"
      }
    },
    {
      "cell_type": "code",
      "source": [
        "df.dropna() # 一行中有一个缺失值就删除\n",
        "df.dropna(axis='columns') # 只保留全有值的列\n",
        "df.dropna(how='all') # 行或列全没值才删除\n",
        "df.dropna(thresh=2) # 至少有两个空值时才删除\n",
        "df.dropna(inplace=True) # 删除并使替换生效"
      ],
      "metadata": {
        "id": "aO_8H5rMzUwc"
      },
      "execution_count": null,
      "outputs": []
    },
    {
      "cell_type": "markdown",
      "source": [
        "## 5.5 高级过滤"
      ],
      "metadata": {
        "id": "-zQEx2KaHsW1"
      }
    },
    {
      "cell_type": "code",
      "source": [
        "df = pd.read_excel('https://www.gairuo.com/file/data/dataset/team.xlsx')\n",
        "df = df.select_dtypes(include='number')\n",
        "df"
      ],
      "metadata": {
        "id": "JgdUnMR_6ZTH"
      },
      "execution_count": null,
      "outputs": []
    },
    {
      "cell_type": "code",
      "source": [
        "df.where(df > 70)"
      ],
      "metadata": {
        "id": "gZBT-VW66qee"
      },
      "execution_count": null,
      "outputs": []
    },
    {
      "cell_type": "code",
      "source": [
        "df[df > 70]"
      ],
      "metadata": {
        "id": "VSnzAEe06u3Q"
      },
      "execution_count": null,
      "outputs": []
    },
    {
      "cell_type": "code",
      "source": [
        "df.where(lambda d: d.Q1>50)"
      ],
      "metadata": {
        "id": "BG1jMe9o60iW"
      },
      "execution_count": null,
      "outputs": []
    },
    {
      "cell_type": "code",
      "source": [
        "df.Q1.where(pd.Series([True] * 3))"
      ],
      "metadata": {
        "id": "1U6CUeoa7Cln"
      },
      "execution_count": null,
      "outputs": []
    },
    {
      "cell_type": "code",
      "source": [
        "df.where(df>=60, '不及格')"
      ],
      "metadata": {
        "id": "su5TO_os7Pt3"
      },
      "execution_count": null,
      "outputs": []
    },
    {
      "cell_type": "code",
      "source": [
        "# c 定义一个数是否为偶数的表达式\n",
        "c = df%2 ==0\n",
        "df.where(~c, -(df-20))"
      ],
      "metadata": {
        "id": "yYNXkcQ87W5l"
      },
      "execution_count": null,
      "outputs": []
    },
    {
      "cell_type": "markdown",
      "source": [
        "### 5.5.2 np.where()"
      ],
      "metadata": {
        "id": "EOAah2Th75C3"
      }
    },
    {
      "cell_type": "code",
      "source": [
        "np.where(df>=60, '合格', '不合格')"
      ],
      "metadata": {
        "id": "ZLady2a_8F-2"
      },
      "execution_count": null,
      "outputs": []
    },
    {
      "cell_type": "code",
      "source": [
        "# 让df.where()中的条件为假，从而应用np.where()的计算结果\n",
        "df.where(df==9999999, np.where(df>=60, '合格', '不合格'))"
      ],
      "metadata": {
        "id": "M0Js0OEq8N82"
      },
      "execution_count": null,
      "outputs": []
    },
    {
      "cell_type": "code",
      "source": [
        "(\n",
        "  df.assign(avg=df.mean(1))\n",
        "  .assign(及格=lambda d: np.where(d.avg>=60, '是','否'))\n",
        ")"
      ],
      "metadata": {
        "id": "MxLw9nIK8YuH"
      },
      "execution_count": null,
      "outputs": []
    },
    {
      "cell_type": "markdown",
      "source": [
        "### 5.5.3 df.mask()"
      ],
      "metadata": {
        "id": "kimb37Es8yb-"
      }
    },
    {
      "cell_type": "code",
      "source": [
        "df.mask(df>80, '优秀')"
      ],
      "metadata": {
        "id": "G3IY0ojM83yt"
      },
      "execution_count": null,
      "outputs": []
    },
    {
      "cell_type": "code",
      "source": [
        "df = pd.read_excel('https://www.gairuo.com/file/data/dataset/team.xlsx')\n",
        "# 返回布尔序列，符合条件的行值为True\n",
        "(df.where((df.team=='A') & (df.Q1>60)) == df).Q1"
      ],
      "metadata": {
        "id": "yu8eXWd69MYY"
      },
      "execution_count": null,
      "outputs": []
    },
    {
      "cell_type": "code",
      "source": [
        "# 返回布尔序列，符合条件的行值为False\n",
        "(df.mask((df.team=='A') & (df.Q1>60)) == df).Q1"
      ],
      "metadata": {
        "id": "VVcOaoaW9up_"
      },
      "execution_count": null,
      "outputs": []
    },
    {
      "cell_type": "code",
      "source": [
        "df.mask((df.team=='A') & (df.Q1>60)) == df"
      ],
      "metadata": {
        "id": "anEm4aCe9xhl"
      },
      "execution_count": null,
      "outputs": []
    },
    {
      "cell_type": "markdown",
      "source": [
        "### 5.5.4 df.lookup()"
      ],
      "metadata": {
        "id": "4MfMnva-90lp"
      }
    },
    {
      "cell_type": "code",
      "source": [
        "# 行列相同数量，返回一个array\n",
        "df.lookup([1,3,4], ['Q1','Q2','Q3'])"
      ],
      "metadata": {
        "id": "m8hTRFov9zte"
      },
      "execution_count": null,
      "outputs": []
    },
    {
      "cell_type": "markdown",
      "source": [
        "## 5.6 数据迭代"
      ],
      "metadata": {
        "id": "aGRRnlVrHxff"
      }
    },
    {
      "cell_type": "markdown",
      "source": [
        "### 5.6.1 迭代Series"
      ],
      "metadata": {
        "id": "LKTrDGDG-fS-"
      }
    },
    {
      "cell_type": "code",
      "source": [
        "for i in df.name:\n",
        "  print(i)"
      ],
      "metadata": {
        "id": "d9a2ALep-vi3"
      },
      "execution_count": null,
      "outputs": []
    },
    {
      "cell_type": "code",
      "source": [
        "for i,n,q in zip(df.index, df.name, df.Q1):\n",
        "  print(i, n ,q)"
      ],
      "metadata": {
        "id": "UCYEPiEJ-3DY"
      },
      "execution_count": null,
      "outputs": []
    },
    {
      "cell_type": "markdown",
      "source": [
        "### 5.6.2 df.iterrows()"
      ],
      "metadata": {
        "id": "fUm9HNr6_J4f"
      }
    },
    {
      "cell_type": "code",
      "source": [
        "for index, row in df.iterrows():\n",
        "  print(index, row['name'],row.Q1)"
      ],
      "metadata": {
        "id": "4ptheal2_Xa1"
      },
      "execution_count": null,
      "outputs": []
    },
    {
      "cell_type": "markdown",
      "source": [
        "### 5.6.3 df.itertuples()"
      ],
      "metadata": {
        "id": "7mxwrLxCEFaI"
      }
    },
    {
      "cell_type": "code",
      "source": [
        "for row in df.itertuples():\n",
        "  print(row.Index, row.name)"
      ],
      "metadata": {
        "id": "wZ6cQnKbEGer"
      },
      "execution_count": null,
      "outputs": []
    },
    {
      "cell_type": "markdown",
      "source": [
        "### 5.6.4 df.items()"
      ],
      "metadata": {
        "id": "QS-8ngLxEcu9"
      }
    },
    {
      "cell_type": "code",
      "source": [
        "for label, ser in df.items():\n",
        "  print(label)\n",
        "  print(ser[:3], end=\"\\n\\n\")"
      ],
      "metadata": {
        "id": "bMxIxWChEa4g"
      },
      "execution_count": null,
      "outputs": []
    },
    {
      "cell_type": "markdown",
      "source": [
        "### 5.6.5 按列迭代"
      ],
      "metadata": {
        "id": "Z30qfk7NE_9p"
      }
    },
    {
      "cell_type": "code",
      "source": [
        "for column in df:\n",
        "  print(column)"
      ],
      "metadata": {
        "id": "YOdN7aNHFCOE"
      },
      "execution_count": null,
      "outputs": []
    },
    {
      "cell_type": "code",
      "source": [
        "for column in df:\n",
        "  print(df[column])"
      ],
      "metadata": {
        "id": "4bGJvqdBFKlB"
      },
      "execution_count": null,
      "outputs": []
    },
    {
      "cell_type": "markdown",
      "source": [
        "## 5.7 函数应用"
      ],
      "metadata": {
        "id": "uas6aRtDH1BW"
      }
    },
    {
      "cell_type": "markdown",
      "source": [
        "Pandas提供了几个常用的调用函数的方法。\n",
        "* pipe()：应用在整个DataFrame或Series上。\n",
        "* apply()：应用在DataFrame的行或列中，默认为列。\n",
        "* applymap()：应用在DataFrame的每个元素中。\n",
        "* map()：应用在Series或DataFrame的一列的每个元素中。"
      ],
      "metadata": {
        "id": "3SBT-QCfFpKQ"
      }
    },
    {
      "cell_type": "markdown",
      "source": [
        "### 5.7.1 pipe()"
      ],
      "metadata": {
        "id": "GZzfLcS5F_JP"
      }
    },
    {
      "cell_type": "code",
      "source": [
        "# 定义一个函数，给所有季度的成绩加n，然后增加平均数\n",
        "# 其中n中要加的值为必传参数\n",
        "def add_mean(rdf, n):\n",
        "  df = rdf.copy()\n",
        "  df = df.loc[:,'Q1':'Q4'].applymap(lambda x: x+n)\n",
        "  df['avg'] = df.loc[:,'Q1':'Q4'].mean(1)\n",
        "  return df\n",
        "# 调用\n",
        "df.pipe(add_mean, 100)"
      ],
      "metadata": {
        "id": "GGt_PJqbGwbZ"
      },
      "execution_count": null,
      "outputs": []
    },
    {
      "cell_type": "code",
      "source": [
        "# 筛选出Q1大于等于80且Q2大于等于90的数据\n",
        "df.pipe(lambda df_,x,y: df_[(df_.Q1 >=x)& (df_.Q2 >=y)], 80, 90)"
      ],
      "metadata": {
        "id": "NQza83SDHJpY"
      },
      "execution_count": null,
      "outputs": []
    },
    {
      "cell_type": "markdown",
      "source": [
        "### 5.7.2 apply()"
      ],
      "metadata": {
        "id": "yDU3PO4nHlZ4"
      }
    },
    {
      "cell_type": "code",
      "source": [
        "# 将name全部变为小写\n",
        "df.name.apply(lambda x: x.lower())"
      ],
      "metadata": {
        "id": "BduvqpjrHnDQ"
      },
      "execution_count": null,
      "outputs": []
    },
    {
      "cell_type": "code",
      "source": [
        "# 去掉一个最高分和一个最低分再算出平均分\n",
        "def my_mean(s):\n",
        "  max_min_ser = pd.Series([-s.max(), -s.min()])\n",
        "  return s.append(max_min_ser).sum()/(s.count()-2)\n",
        "\n",
        "df.select_dtypes(include='number').apply(my_mean)"
      ],
      "metadata": {
        "id": "HWZqsR-iH-hA"
      },
      "execution_count": null,
      "outputs": []
    },
    {
      "cell_type": "code",
      "source": [
        "# 同样的算法以学生为维度计算\n",
        "(\n",
        "df.set_index('name') # 设定name为索引\n",
        ".select_dtypes(include='number')\n",
        ".apply(my_mean, axis=1) # 横向计算\n",
        ")"
      ],
      "metadata": {
        "id": "ivizYKTBJJrI"
      },
      "execution_count": null,
      "outputs": []
    },
    {
      "cell_type": "code",
      "source": [
        "# 函数，将大于90分数标记为good\n",
        "fun = lambda x: np.where(x.team=='A' and x.Q1>90, 'good' ,'other')\n",
        "df.apply(fun, axis=1)\n"
      ],
      "metadata": {
        "id": "eO7r3iTtKOe3"
      },
      "execution_count": null,
      "outputs": []
    },
    {
      "cell_type": "code",
      "source": [
        "# 同上效果\n",
        "(df.apply(lambda x: x.team=='A' and x.Q1>90, axis=1).map({True:'good', False:'other'})\n",
        ")\n"
      ],
      "metadata": {
        "id": "V1B5In1mKVpZ"
      },
      "execution_count": null,
      "outputs": []
    },
    {
      "cell_type": "code",
      "source": [
        "df.apply(lambda x: 'good' if x.team=='A' and x.Q1>90 else 'other', axis=1)"
      ],
      "metadata": {
        "id": "zD3oHs40KehI"
      },
      "execution_count": null,
      "outputs": []
    },
    {
      "cell_type": "markdown",
      "source": [
        "### 5.7.3 applymap()"
      ],
      "metadata": {
        "id": "Tm97ba9KLBJx"
      }
    },
    {
      "cell_type": "code",
      "source": [
        "# 计算数据的长度\n",
        "def mylen(x):\n",
        "  return len(str(x))\n",
        "\n",
        "df.applymap(lambda x:mylen(x))\n"
      ],
      "metadata": {
        "id": "IgIQlwW2LHS6"
      },
      "execution_count": null,
      "outputs": []
    },
    {
      "cell_type": "code",
      "source": [
        "df.applymap(mylen)"
      ],
      "metadata": {
        "id": "2JRYJ92NLXNJ"
      },
      "execution_count": null,
      "outputs": []
    },
    {
      "cell_type": "markdown",
      "source": [
        "### 5.7.4 map()"
      ],
      "metadata": {
        "id": "5n6TCjMTLdBI"
      }
    },
    {
      "cell_type": "code",
      "source": [
        "df.team.map({'A':'一班', 'B':'二班','C':'三班', 'D':'四班','E':'五班'}) # 枚举替换"
      ],
      "metadata": {
        "id": "CI7i2I8_LqkR"
      },
      "execution_count": null,
      "outputs": []
    },
    {
      "cell_type": "code",
      "source": [
        "df.team"
      ],
      "metadata": {
        "id": "ELPjaDvOLuSf"
      },
      "execution_count": null,
      "outputs": []
    },
    {
      "cell_type": "code",
      "source": [
        "df.team.map('I an a {}'.format)"
      ],
      "metadata": {
        "id": "99V2oPOlL3cZ"
      },
      "execution_count": null,
      "outputs": []
    },
    {
      "cell_type": "code",
      "source": [
        "df.team.map('I am a {}'.format, na_action='ignore')"
      ],
      "metadata": {
        "id": "Qg_ZUCqxMARY"
      },
      "execution_count": null,
      "outputs": []
    },
    {
      "cell_type": "code",
      "source": [
        "t = pd.Series({'six': 6., 'seven': 7.})"
      ],
      "metadata": {
        "id": "Am-PGQo8MEIR"
      },
      "execution_count": null,
      "outputs": []
    },
    {
      "cell_type": "code",
      "source": [
        "# 应用函数\n",
        "def f(x):\n",
        "  return len(str(x))\n",
        "df['name'].map(f)"
      ],
      "metadata": {
        "id": "IKgmkXhtMMsg"
      },
      "execution_count": null,
      "outputs": []
    },
    {
      "cell_type": "markdown",
      "source": [
        "### 5.7.5 agg()"
      ],
      "metadata": {
        "id": "UAMy7DT7MUZi"
      }
    },
    {
      "cell_type": "code",
      "source": [
        "df.agg('max')"
      ],
      "metadata": {
        "id": "XO6UYsbxMbkJ"
      },
      "execution_count": null,
      "outputs": []
    },
    {
      "cell_type": "code",
      "source": [
        "df.select_dtypes(include='number').agg(['sum', 'min'])"
      ],
      "metadata": {
        "id": "4CS8gA2DMii4"
      },
      "execution_count": null,
      "outputs": []
    },
    {
      "cell_type": "code",
      "source": [
        "# 序列多个聚合\n",
        "df.agg({'Q1' : ['sum', 'min'], 'Q2' : ['min', 'max']})"
      ],
      "metadata": {
        "id": "KPbinGQAMyKB"
      },
      "execution_count": null,
      "outputs": []
    },
    {
      "cell_type": "code",
      "source": [
        "# 分组后聚合\n",
        "df.groupby('team').agg('max')"
      ],
      "metadata": {
        "id": "WnQ5UtRzM26J"
      },
      "execution_count": null,
      "outputs": []
    },
    {
      "cell_type": "code",
      "source": [
        "df.Q1.agg(['sum', 'mean'])"
      ],
      "metadata": {
        "id": "dOeWUwY4M6CI"
      },
      "execution_count": null,
      "outputs": []
    },
    {
      "cell_type": "code",
      "source": [
        "def mymean(x):\n",
        "  return x.mean() \n",
        "df.Q2.agg(['sum', mymean])"
      ],
      "metadata": {
        "id": "nEtONg1zM9uB"
      },
      "execution_count": null,
      "outputs": []
    },
    {
      "cell_type": "code",
      "source": [
        "# 每列使用不同的方法进行聚合\n",
        "df.agg(a=('Q1', max),\n",
        "  b=('Q2', 'min'),\n",
        "  c=('Q3', np.mean),\n",
        "  d=('Q4', lambda s:s.sum()+1)\n",
        ")\n"
      ],
      "metadata": {
        "id": "yr9BdnYhNHpq"
      },
      "execution_count": null,
      "outputs": []
    },
    {
      "cell_type": "code",
      "source": [
        "# 按行聚合\n",
        "df.loc[:,'Q1':].agg(\"mean\", axis=\"columns\")"
      ],
      "metadata": {
        "id": "Lp-6bEaONOg6"
      },
      "execution_count": null,
      "outputs": []
    },
    {
      "cell_type": "code",
      "source": [
        "# 利用pd.Series.add方法对所有数据加分，other是add方法的参数\n",
        "df.loc[:,'Q1':].agg(pd.Series.add, other=10)"
      ],
      "metadata": {
        "id": "FdhA_Tn8NS8g"
      },
      "execution_count": null,
      "outputs": []
    },
    {
      "cell_type": "markdown",
      "source": [
        "### 5.7.6 transform()"
      ],
      "metadata": {
        "id": "pgl1V3smNZkY"
      }
    },
    {
      "cell_type": "code",
      "source": [
        "df.transform(lambda x: x*2) # 应用匿名函数"
      ],
      "metadata": {
        "id": "nuwSwfI5NfF5"
      },
      "execution_count": null,
      "outputs": []
    },
    {
      "cell_type": "code",
      "source": [
        "df.groupby('team').sum()"
      ],
      "metadata": {
        "id": "dUo-_OSVNt2p"
      },
      "execution_count": null,
      "outputs": []
    },
    {
      "cell_type": "code",
      "source": [
        "df.groupby('team').transform(sum)"
      ],
      "metadata": {
        "id": "iFKgo99-NwJx"
      },
      "execution_count": null,
      "outputs": []
    },
    {
      "cell_type": "markdown",
      "source": [
        "### 5.7.7 copy()"
      ],
      "metadata": {
        "id": "0Ib8zdHcOAwx"
      }
    },
    {
      "cell_type": "markdown",
      "source": [
        "## 5.8 本章小结"
      ],
      "metadata": {
        "id": "d_8Ibz3GH4qm"
      }
    }
  ]
}