{
  "nbformat": 4,
  "nbformat_minor": 0,
  "metadata": {
    "colab": {
      "private_outputs": true,
      "provenance": [],
      "authorship_tag": "ABX9TyP/OOBcs7cuRU0Nxwowlrtd",
      "include_colab_link": true
    },
    "kernelspec": {
      "name": "python3",
      "display_name": "Python 3"
    },
    "language_info": {
      "name": "python"
    }
  },
  "cells": [
    {
      "cell_type": "markdown",
      "metadata": {
        "id": "view-in-github",
        "colab_type": "text"
      },
      "source": [
        "<a href=\"https://colab.research.google.com/github/baiyinnamula/-Pandas-/blob/main/%E7%AC%AC10%E7%AB%A0Pandas%E6%95%B0%E6%8D%AE%E6%B8%85%E6%B4%97.ipynb\" target=\"_parent\"><img src=\"https://colab.research.google.com/assets/colab-badge.svg\" alt=\"Open In Colab\"/></a>"
      ]
    },
    {
      "cell_type": "markdown",
      "source": [
        "# 第10章Pandas数据清洗"
      ],
      "metadata": {
        "id": "bA0P19EpAA2L"
      }
    },
    {
      "cell_type": "markdown",
      "source": [
        "数据清洗是数据分析的一个重要步骤，关系到数据的质量，而数据\n",
        "的质量又关系到数据分析的效果。数据清洗一般包括缺失值填充、冗余\n",
        "数据删除、数据格式化、异常值处理、逻辑错误数据检测、数据一致性\n",
        "校验、重复值过滤、数据质量评估等。"
      ],
      "metadata": {
        "id": "8VCZdnyGAxtj"
      }
    },
    {
      "cell_type": "code",
      "source": [
        "import pandas as pd\n",
        "import numpy as np"
      ],
      "metadata": {
        "id": "hGAmm7NUBB2t"
      },
      "execution_count": null,
      "outputs": []
    },
    {
      "cell_type": "markdown",
      "source": [
        "## 10.1 缺失值的认定"
      ],
      "metadata": {
        "id": "lP8S4LS6AGrd"
      }
    },
    {
      "cell_type": "markdown",
      "source": [
        "### 10.1.1 缺失值类型\n",
        "\n",
        "一般使用特殊类型NaN代表缺失值，可以用NumPy定义为np.NaN或\n",
        "np.nan。在Pandas 1.0以后的版本中，实验性地使用标量pd.NA来代表。"
      ],
      "metadata": {
        "id": "Odl5dWdQBqZs"
      }
    },
    {
      "cell_type": "code",
      "execution_count": null,
      "metadata": {
        "id": "vlatYpnK_Wxj"
      },
      "outputs": [],
      "source": [
        "df = pd.DataFrame({\n",
        "'A':['a1', 'a1', 'a2', 'a2'],\n",
        "'B':['b1', 'b2', None, 'b2'],\n",
        "'C':[1, 2, 3, 4],\n",
        "'D':[5, 6, None, 8],\n",
        "'E':[5, None, 7, 8]\n",
        "})\n",
        "df"
      ]
    },
    {
      "cell_type": "code",
      "source": [
        "# 将无穷值设置为缺失值\n",
        "pd.options.mode.use_inf_as_na = True"
      ],
      "metadata": {
        "id": "PVyivtpPBXo7"
      },
      "execution_count": null,
      "outputs": []
    },
    {
      "cell_type": "markdown",
      "source": [
        "### 10.1.2 缺失值判断\n",
        "df.isna()及其别名df.isnull()是Pandas中判断缺失值的主要方法。对整\n",
        "个数据进行缺失值判断，True为缺失。"
      ],
      "metadata": {
        "id": "pxDzPGIeBzG8"
      }
    },
    {
      "cell_type": "code",
      "source": [
        "df.isna()"
      ],
      "metadata": {
        "id": "-B5_uZC5B5ez"
      },
      "execution_count": null,
      "outputs": []
    },
    {
      "cell_type": "code",
      "source": [
        "df.isnull()"
      ],
      "metadata": {
        "id": "tQR6W3rtB-Xk"
      },
      "execution_count": null,
      "outputs": []
    },
    {
      "cell_type": "code",
      "source": [
        "# 对某一列进行检测\n",
        "df.D.isna()"
      ],
      "metadata": {
        "id": "RW5lzmRWCFc0"
      },
      "execution_count": null,
      "outputs": []
    },
    {
      "cell_type": "markdown",
      "source": [
        "相反地，df.notna()可以让非缺失值显示为True，让缺失值显示为\n",
        "False"
      ],
      "metadata": {
        "id": "ZCdL1CRUCOZT"
      }
    },
    {
      "cell_type": "code",
      "source": [
        "df.notna()"
      ],
      "metadata": {
        "id": "Hte4dq7hCSfV"
      },
      "execution_count": null,
      "outputs": []
    },
    {
      "cell_type": "code",
      "source": [
        "# 检测某一列非缺失值\n",
        "df.D.notna()"
      ],
      "metadata": {
        "id": "RfAyc9ueCYok"
      },
      "execution_count": null,
      "outputs": []
    },
    {
      "cell_type": "markdown",
      "source": [
        "### 10.1.3 缺失值统计\n",
        "\n",
        "如果需要统计一个数据中有多少个缺失值，可利用sum计算，计算\n",
        "时将False当作0、将True当作1的特性。\n"
      ],
      "metadata": {
        "id": "UmZL6KtlChY8"
      }
    },
    {
      "cell_type": "code",
      "source": [
        "# 每一列有多少缺失值\n",
        "df.isna().sum()"
      ],
      "metadata": {
        "id": "a0WPJa6YC62E"
      },
      "execution_count": null,
      "outputs": []
    },
    {
      "cell_type": "code",
      "source": [
        "# 每行有多少缺失值\n",
        "df.isna().sum(axis=1)"
      ],
      "metadata": {
        "id": "v3ufJ-_aDHa0"
      },
      "execution_count": null,
      "outputs": []
    },
    {
      "cell_type": "code",
      "source": [
        "# 总共有多少缺失值\n",
        "df.isna().sum().sum()"
      ],
      "metadata": {
        "id": "gkDRA2BtDRqs"
      },
      "execution_count": null,
      "outputs": []
    },
    {
      "cell_type": "markdown",
      "source": [
        "### 10.1.4 缺失值筛选"
      ],
      "metadata": {
        "id": "er1EIUC3DbUE"
      }
    },
    {
      "cell_type": "code",
      "source": [
        "df"
      ],
      "metadata": {
        "id": "fA9MbQRvDmv8"
      },
      "execution_count": null,
      "outputs": []
    },
    {
      "cell_type": "code",
      "source": [
        "# 有缺失值的行\n",
        "\n",
        "df.loc[df.isna().any(1)]"
      ],
      "metadata": {
        "id": "y9UNOP7eDqIM"
      },
      "execution_count": null,
      "outputs": []
    },
    {
      "cell_type": "code",
      "source": [
        "# 有缺失值的列\n",
        "\n",
        "df.loc[:, df.isna().any()]"
      ],
      "metadata": {
        "id": "yHlEtHfBD218"
      },
      "execution_count": null,
      "outputs": []
    },
    {
      "cell_type": "code",
      "source": [
        "# 没有缺失值的行\n",
        "df.loc[~(df.isna().any(1))]"
      ],
      "metadata": {
        "id": "OmLfq2PCEf18"
      },
      "execution_count": null,
      "outputs": []
    },
    {
      "cell_type": "code",
      "source": [
        "# 没有缺失值的列\n",
        "df.loc[:, ~(df.isna().any())]"
      ],
      "metadata": {
        "id": "zhsEPWVPEplc"
      },
      "execution_count": null,
      "outputs": []
    },
    {
      "cell_type": "code",
      "source": [
        "pd.Series([True, True, False]).sum()"
      ],
      "metadata": {
        "id": "lzhMZSJHCj1z"
      },
      "execution_count": null,
      "outputs": []
    },
    {
      "cell_type": "markdown",
      "source": [
        "### 10.1.5 NA标量"
      ],
      "metadata": {
        "id": "m0ITUy_VE3mU"
      }
    },
    {
      "cell_type": "markdown",
      "source": [
        "Pandas 1.0以后的版本中引入了一个专门表示缺失值的标量pd.NA，\n",
        "它代表空整数、空布尔、空字符，这个功能目前处于实验阶段。pd.NA\n",
        "的目标是提供一个“缺失值”指示器，该指示器可以在各种数据类型中一\n",
        "致使用（而不是np.nan、None或pd.NaT，具体取决于数据类型）。"
      ],
      "metadata": {
        "id": "WDiy_oUGFEYt"
      }
    },
    {
      "cell_type": "code",
      "source": [
        "s = pd.Series([1, 2, None, 4], dtype=\"Int64\")"
      ],
      "metadata": {
        "id": "u2_ODrTpE5DM"
      },
      "execution_count": null,
      "outputs": []
    },
    {
      "cell_type": "code",
      "source": [
        "s"
      ],
      "metadata": {
        "id": "JbekznH8FHw8"
      },
      "execution_count": null,
      "outputs": []
    },
    {
      "cell_type": "code",
      "source": [
        "s[2] is pd.NA"
      ],
      "metadata": {
        "id": "zJ4J15hkFMG8"
      },
      "execution_count": null,
      "outputs": []
    },
    {
      "cell_type": "code",
      "source": [
        "pd.isna(pd.NA)"
      ],
      "metadata": {
        "id": "kCnGxAG6FUsE"
      },
      "execution_count": null,
      "outputs": []
    },
    {
      "cell_type": "code",
      "source": [
        "pd.NA + 1"
      ],
      "metadata": {
        "id": "wF3PsENUFgSN"
      },
      "execution_count": null,
      "outputs": []
    },
    {
      "cell_type": "markdown",
      "source": [
        "### 10.1.6 时间数据中的缺失值"
      ],
      "metadata": {
        "id": "sTL6kDLQFm7F"
      }
    },
    {
      "cell_type": "markdown",
      "source": [
        "对于时间数据中的缺失值，Pandas提供了一个NaT来表示，并且\n",
        "NaT和NaN是兼容的。"
      ],
      "metadata": {
        "id": "qMPOeeshFtkl"
      }
    },
    {
      "cell_type": "code",
      "source": [
        "pd.Series([pd.Timestamp('20200101'), None, pd.Timestamp('20200102')])"
      ],
      "metadata": {
        "id": "62lSzLfzF1AO"
      },
      "execution_count": null,
      "outputs": []
    },
    {
      "cell_type": "markdown",
      "source": [
        "### 10.1.7 整型数据中的缺失值"
      ],
      "metadata": {
        "id": "zknNSMRmGLM0"
      }
    },
    {
      "cell_type": "markdown",
      "source": [
        "由于NaN是浮点型，因此缺少一个整数的列可以转换为整型。"
      ],
      "metadata": {
        "id": "Nq4ndS7SGdy0"
      }
    },
    {
      "cell_type": "code",
      "source": [
        "type(df.at[2, 'D'])"
      ],
      "metadata": {
        "id": "sSTXew-3GM08"
      },
      "execution_count": null,
      "outputs": []
    },
    {
      "cell_type": "code",
      "source": [
        "pd.Series([1, 2, np.nan], dtype=pd.Int64Dtype())"
      ],
      "metadata": {
        "id": "o_HWSasWGmpN"
      },
      "execution_count": null,
      "outputs": []
    },
    {
      "cell_type": "markdown",
      "source": [
        "### 10.1.8 插入缺失值"
      ],
      "metadata": {
        "id": "ECVRfQIxG5Bt"
      }
    },
    {
      "cell_type": "code",
      "source": [
        "# 修改为缺失值\n",
        "df.loc[0] = None\n",
        "df.loc[1] = np.nan\n",
        "df.A = pd.NA\n",
        "df"
      ],
      "metadata": {
        "id": "deblg8EdG630"
      },
      "execution_count": null,
      "outputs": []
    },
    {
      "cell_type": "markdown",
      "source": [
        "### 10.1.9 小结"
      ],
      "metadata": {
        "id": "LOwvStGXHOJm"
      }
    },
    {
      "cell_type": "markdown",
      "source": [
        "## 10.2 缺失值的操作"
      ],
      "metadata": {
        "id": "aZHrSOFIANQr"
      }
    },
    {
      "cell_type": "markdown",
      "source": [
        "对于缺失值，我们通常会根据业务需要进行修补，但对于缺失严重\n",
        "的数据，会直接将其删除。"
      ],
      "metadata": {
        "id": "6SH3EsmiIKjV"
      }
    },
    {
      "cell_type": "markdown",
      "source": [
        "### 10.2.1 缺失值填充"
      ],
      "metadata": {
        "id": "tzVCD2mYITod"
      }
    },
    {
      "cell_type": "code",
      "source": [
        "# 原数据\n",
        "df = pd.DataFrame({\n",
        "'A':['a1', 'a1', 'a2', 'a2'],\n",
        "'B':['b1', 'b2', None, 'b2'],\n",
        "'C':[1, 2, 3, 4],\n",
        "'D':[5, 6, None, 8],\n",
        "'E':[5, None, 7, 8]\n",
        "})\n",
        "df"
      ],
      "metadata": {
        "id": "zM39VnxzARak"
      },
      "execution_count": null,
      "outputs": []
    },
    {
      "cell_type": "markdown",
      "source": [
        "对于缺失值，我们常用的一个办法是利用一定的算法去填充它。这\n",
        "样虽然不是特别准确，但对于较大的数据来说，不会对结果产生太大影\n",
        "响。df.fillna(x)可以将缺失值填充为指定的值。\n"
      ],
      "metadata": {
        "id": "EGs4RXhzIloF"
      }
    },
    {
      "cell_type": "code",
      "source": [
        "df.fillna(0)"
      ],
      "metadata": {
        "id": "_ucjnRSrIh8M"
      },
      "execution_count": null,
      "outputs": []
    },
    {
      "cell_type": "markdown",
      "source": [
        "常用的方法有以下几个："
      ],
      "metadata": {
        "id": "-atf5RiyI0NF"
      }
    },
    {
      "cell_type": "code",
      "source": [
        "# 填充为 0\n",
        "df.fillna(0)\n",
        "# 填充为指定字符\n",
        "df.fillna('missing')\n",
        "df.fillna('暂无')\n",
        "df.fillna('待补充')\n",
        "# 指定字段填充\n",
        "df.A.fillna('暂无')\n",
        "# 指定字段填充\n",
        "df.A.fillna(0, inplace=True)\n",
        "# 只替换第一个\n",
        "df.fillna(0, limit=1)\n",
        "# 将不同列的缺失值替换为不同的值\n",
        "values = {'A': 0, 'B': 1, 'C': 2, 'D': 3}\n",
        "df.fillna(value=values)"
      ],
      "metadata": {
        "id": "fWLZdTcUI8P-"
      },
      "execution_count": null,
      "outputs": []
    },
    {
      "cell_type": "markdown",
      "source": [
        "有时候我们不能填入固定值，而要按照一定的方法填充。df.fillna()\n",
        "提供了一个method参数，可以指定以下几个方法。\n",
        "\n",
        "* pad / ffill：向前填充，使用前一个有效值填充，\n",
        "df.fillna(method='ffill')可以简写为df.ffill()。\n",
        "* bfill / backfill：向后填充，使用后一个有效值填充，\n",
        "df.fillna(method='bfill')可以简写为df.bfill()。"
      ],
      "metadata": {
        "id": "nUPqAUCKJTy_"
      }
    },
    {
      "cell_type": "code",
      "source": [
        "df = pd.DataFrame({\n",
        "'A':['a1', 'a1', 'a2', 'a2'],\n",
        "'B':['b1', 'b2', None, 'b2'],\n",
        "'C':[1, 2, 3, 4],\n",
        "'D':[5, 6, None, 8],\n",
        "'E':[5, None, 7, 8]\n",
        "})\n",
        "df"
      ],
      "metadata": {
        "id": "KFzyPnvyJpil"
      },
      "execution_count": null,
      "outputs": []
    },
    {
      "cell_type": "code",
      "source": [
        "# 取后一个有效值填充\n",
        "df.fillna(method='bfill')"
      ],
      "metadata": {
        "id": "AGHBqO1DJq-F"
      },
      "execution_count": null,
      "outputs": []
    },
    {
      "cell_type": "code",
      "source": [
        "# 取前一个有效值填充\n",
        "df.fillna(method='ffill')"
      ],
      "metadata": {
        "id": "STNofBB2J8Rk"
      },
      "execution_count": null,
      "outputs": []
    },
    {
      "cell_type": "markdown",
      "source": [
        "除了取前后值，还可以取经过计算得到的值，比如常用的平均值填\n",
        "充法："
      ],
      "metadata": {
        "id": "NA21zBCtKD8M"
      }
    },
    {
      "cell_type": "code",
      "source": [
        "# 填充列的平均值\n",
        "df.fillna(df.mean())\n",
        "# 对指定列填充平均值\n",
        "df.fillna(df.mean()['B':'C'])\n",
        "# 另一种填充列的平均值的方法\n",
        "df.where(pd.notna(df), df.mean(), axis='columns')"
      ],
      "metadata": {
        "id": "TI6G95CQKHLV"
      },
      "execution_count": null,
      "outputs": []
    },
    {
      "cell_type": "markdown",
      "source": [
        "缺失值填充的另一个思路是使用替换方法df.replace()"
      ],
      "metadata": {
        "id": "Tg6joL2BKpEG"
      }
    },
    {
      "cell_type": "code",
      "source": [
        "df = pd.DataFrame({\n",
        "'A':['a1', 'a1', 'a2', 'a2'],\n",
        "'B':['b1', 'b2', None, 'b2'],\n",
        "'C':[1, 2, 3, 4],\n",
        "'D':[5, 6, None, 8],\n",
        "'E':[5, None, 7, 8]\n",
        "})\n",
        "df"
      ],
      "metadata": {
        "id": "kxTmjgK0K017"
      },
      "execution_count": null,
      "outputs": []
    },
    {
      "cell_type": "code",
      "source": [
        "df.replace({'B':{np.nan: 100}})"
      ],
      "metadata": {
        "id": "rUg-ym1GKqnt"
      },
      "execution_count": null,
      "outputs": []
    },
    {
      "cell_type": "markdown",
      "source": [
        "### 10.2.2 插值填充"
      ],
      "metadata": {
        "id": "JpCina6SLDKS"
      }
    },
    {
      "cell_type": "markdown",
      "source": [
        "插值（interpolate）是离散函数拟合的重要方法，利用它可根据函\n",
        "数在有限个点处的取值状况，估算出函数在其他点处的近似值。Series\n",
        "和DataFrame对象都有interpolate()方法，默认情况下，该方法在缺失值\n",
        "处执行线性插值。它利用数学方法来估计缺失点的值，对于较大的数据\n",
        "非常有用。"
      ],
      "metadata": {
        "id": "SfIB-QEWLSCs"
      }
    },
    {
      "cell_type": "code",
      "source": [
        "s = pd.Series([0, 1, np.nan, 3])"
      ],
      "metadata": {
        "id": "FM1EQ6L3LzxA"
      },
      "execution_count": null,
      "outputs": []
    },
    {
      "cell_type": "code",
      "source": [
        "s.interpolate()"
      ],
      "metadata": {
        "id": "kVZxOI2XL12M"
      },
      "execution_count": null,
      "outputs": []
    },
    {
      "cell_type": "markdown",
      "source": [
        "其中默认method ='linear'，即使用线性方法，认为数据呈一条直\n",
        "线。method方法指定的是插值的算法。\n",
        "\n",
        "* 如果你的数据增长速率越来越快，可以选择method='quadratic'二次\n",
        "插值；\n",
        "* 如果数据集呈现出累计分布的样子，推荐选择method='pchip'；\n",
        "\n",
        "* 如果需要填补默认值，以平滑绘图为目标，推荐选择method='akima'。这些都需要你的环境中安装了SciPy库。"
      ],
      "metadata": {
        "id": "yw1sKnJEMGul"
      }
    },
    {
      "cell_type": "markdown",
      "source": [
        "### 10.2.3 缺失值删除"
      ],
      "metadata": {
        "id": "w8oopMkfMtYu"
      }
    },
    {
      "cell_type": "markdown",
      "source": [
        "如果数据对完整性要求比较高，只要有缺失值，就会认为数据是无\n",
        "效的。比如一份问卷的回答比例过低，那么就认为它是无效的，就需要\n",
        "整行整列删除。我们使用df.dropna()方法来删除缺失值。"
      ],
      "metadata": {
        "id": "lGM7isv6Mym1"
      }
    },
    {
      "cell_type": "code",
      "source": [
        "df = pd.DataFrame({\n",
        "'A':['a1', 'a1', 'a2', 'a2'],\n",
        "'B':['b1', 'b2', None, 'b2'],\n",
        "'C':[1, 2, 3, 4],\n",
        "'D':[5, 6, None, 8],\n",
        "'E':[5, None, 7, 8]\n",
        "})\n",
        "df"
      ],
      "metadata": {
        "id": "MBqBvCvdM6Tl"
      },
      "execution_count": null,
      "outputs": []
    },
    {
      "cell_type": "code",
      "source": [
        "# 删除有缺失值的行\n",
        "\n",
        "df.copy().dropna()"
      ],
      "metadata": {
        "id": "ViodhzUhM7nF"
      },
      "execution_count": null,
      "outputs": []
    },
    {
      "cell_type": "code",
      "source": [
        "# 删除有缺失值的列\n",
        "df.copy().dropna(1)"
      ],
      "metadata": {
        "id": "gufEz7OCNPUv"
      },
      "execution_count": null,
      "outputs": []
    },
    {
      "cell_type": "markdown",
      "source": [
        "### 10.2.4 缺失值参与计算"
      ],
      "metadata": {
        "id": "Mn4UJHJxRqrX"
      }
    },
    {
      "cell_type": "code",
      "source": [
        "df"
      ],
      "metadata": {
        "id": "0qaZY3oeRv5V"
      },
      "execution_count": null,
      "outputs": []
    },
    {
      "cell_type": "code",
      "source": [
        "df.sum()"
      ],
      "metadata": {
        "id": "a24BJgLORz-9"
      },
      "execution_count": null,
      "outputs": []
    },
    {
      "cell_type": "code",
      "source": [
        "df.D.cumsum()"
      ],
      "metadata": {
        "id": "JXZ4BNLhSAQo"
      },
      "execution_count": null,
      "outputs": []
    },
    {
      "cell_type": "markdown",
      "source": [
        "cumsum()和cumprod()会忽略NA值，但值会保留在序列中，可以使\n",
        "用skipna=False跳过有缺失值的计算并返回缺失值。\n"
      ],
      "metadata": {
        "id": "MwcDbukHSK22"
      }
    },
    {
      "cell_type": "code",
      "source": [
        "df.D.cumsum(skipna=False)"
      ],
      "metadata": {
        "id": "QyQfjabASJv1"
      },
      "execution_count": null,
      "outputs": []
    },
    {
      "cell_type": "code",
      "source": [
        "# df.count()在统计时，缺失值不计数\n",
        "df.count()"
      ],
      "metadata": {
        "id": "XKVbrcVhSYUd"
      },
      "execution_count": null,
      "outputs": []
    },
    {
      "cell_type": "code",
      "source": [
        "df"
      ],
      "metadata": {
        "id": "llXjdIRWSrbc"
      },
      "execution_count": null,
      "outputs": []
    },
    {
      "cell_type": "code",
      "source": [
        "# 如果聚合分组的列里有空值，则会自动忽略这些值（当它不存在）\n",
        "\n",
        "df.groupby('B').sum()"
      ],
      "metadata": {
        "id": "9H2uCYPiSkAt"
      },
      "execution_count": null,
      "outputs": []
    },
    {
      "cell_type": "code",
      "source": [
        "df"
      ],
      "metadata": {
        "id": "Zv90ob_eTIwz"
      },
      "execution_count": null,
      "outputs": []
    },
    {
      "cell_type": "code",
      "source": [
        "# 聚合计入缺失值\n",
        "df.groupby('B', dropna=False).sum()"
      ],
      "metadata": {
        "id": "SArIaHN-S-al"
      },
      "execution_count": null,
      "outputs": []
    },
    {
      "cell_type": "markdown",
      "source": [
        "### 10.2.5 小结"
      ],
      "metadata": {
        "id": "B_4is_vYTSY9"
      }
    },
    {
      "cell_type": "markdown",
      "source": [
        "本节介绍了缺失值的填充方法。如果数据质量有瑕疵，在不影响分\n",
        "析结果的前提下，可以用固定值填充、插值填充。对于质量较差的数据可以直接丢弃。"
      ],
      "metadata": {
        "id": "PE1p6QGrTXvv"
      }
    },
    {
      "cell_type": "markdown",
      "source": [
        "## 10.3 数据替换"
      ],
      "metadata": {
        "id": "6TSN1XzUAR5E"
      }
    },
    {
      "cell_type": "markdown",
      "source": [
        "Pandas中数据替换的方法包含数值、文本、缺失值等替换，经常用\n",
        "于数据清洗与整理、枚举转换、数据修正等情形。\n",
        "\n",
        "Series和DataFrame中的replace()都提供了一种高效而灵活的方法。"
      ],
      "metadata": {
        "id": "rJrlBv64TnxI"
      }
    },
    {
      "cell_type": "markdown",
      "source": [
        "### 10.3.1 指定值替换"
      ],
      "metadata": {
        "id": "5os1HM21TxNb"
      }
    },
    {
      "cell_type": "code",
      "source": [
        "ser = pd.Series([0., 1., 2., 3., 4.])\n",
        "ser"
      ],
      "metadata": {
        "id": "Wis0gpusAUuU"
      },
      "execution_count": null,
      "outputs": []
    },
    {
      "cell_type": "code",
      "source": [
        "ser.replace(0, 5)"
      ],
      "metadata": {
        "id": "tFM2x35iT1qX"
      },
      "execution_count": null,
      "outputs": []
    },
    {
      "cell_type": "markdown",
      "source": [
        "### 10.3.2 使用替换方式"
      ],
      "metadata": {
        "id": "n2cV7wJiUGZW"
      }
    },
    {
      "cell_type": "code",
      "source": [
        "# 将 1,2,3 替换为它们前一个值\n",
        "ser.replace([1, 2, 3], method='pad')"
      ],
      "metadata": {
        "id": "HrWWJiR1UILO"
      },
      "execution_count": null,
      "outputs": []
    },
    {
      "cell_type": "code",
      "source": [
        "# 将 1,2,3 替换为它们前一个值\n",
        "ser.replace([1, 2, 3], method='bfill')"
      ],
      "metadata": {
        "id": "SP2wIBgLUh2l"
      },
      "execution_count": null,
      "outputs": []
    },
    {
      "cell_type": "markdown",
      "source": [
        "### 10.3.3 字符替换"
      ],
      "metadata": {
        "id": "JZdBjXWCUn3l"
      }
    },
    {
      "cell_type": "code",
      "source": [
        "# 把bat替换为new，不使用正则表达式\n",
        "df.replace(to_replace='bat', value='new')\n",
        "# 利用正则表达式将ba开头的值替换为new\n",
        "df.replace(to_replace=r'^ba.$', value='new', regex=True)\n",
        "# 如果多列规则不一，可以按以下格式对应传入\n",
        "df.replace({'A': r'^ba.$'}, {'A': 'new'}, regex=True)\n",
        "# 多个规则均替换为同样的值\n",
        "df.replace(regex=[r'^ba.$', 'foo'], value='new')\n",
        "# 多个正则及对应的替换内容\n",
        "df.replace(regex={r'^ba.$': 'new', 'foo': 'xyz'})\n"
      ],
      "metadata": {
        "id": "f3zisT-cUxrF"
      },
      "execution_count": null,
      "outputs": []
    },
    {
      "cell_type": "markdown",
      "source": [
        "### 10.3.4 缺失值替换"
      ],
      "metadata": {
        "id": "Ux-fAq_OVAeu"
      }
    },
    {
      "cell_type": "code",
      "source": [
        "d = {'a':list(range(4)), 'b': list('ab..')}\n",
        "d"
      ],
      "metadata": {
        "id": "KE8DjlahVHuu"
      },
      "execution_count": null,
      "outputs": []
    },
    {
      "cell_type": "code",
      "source": [
        "df = pd.DataFrame(d)"
      ],
      "metadata": {
        "id": "yS3aK6xxVRku"
      },
      "execution_count": null,
      "outputs": []
    },
    {
      "cell_type": "code",
      "source": [
        "df"
      ],
      "metadata": {
        "id": "z6sE5TB3VWPE"
      },
      "execution_count": null,
      "outputs": []
    },
    {
      "cell_type": "code",
      "source": [
        "df = df.replace('.', np.nan)\n",
        "df"
      ],
      "metadata": {
        "id": "z2GQ_eVdVXoF"
      },
      "execution_count": null,
      "outputs": []
    },
    {
      "cell_type": "code",
      "source": [
        "df.replace(['a', '.'], ['b', np.nan])"
      ],
      "metadata": {
        "id": "uwRLt9ziVua4"
      },
      "execution_count": null,
      "outputs": []
    },
    {
      "cell_type": "markdown",
      "source": [
        "### 10.3.5 数字替换"
      ],
      "metadata": {
        "id": "HJcb_MtjV3vs"
      }
    },
    {
      "cell_type": "code",
      "source": [
        "# 生成数据\n",
        "df = pd.DataFrame(np.random.randn(10, 2))\n",
        "df[np.random.rand(df.shape[0]) > 0.5] = 1.5\n",
        "df"
      ],
      "metadata": {
        "id": "xCtfh8NnV3OQ"
      },
      "execution_count": null,
      "outputs": []
    },
    {
      "cell_type": "code",
      "source": [
        "df.replace(1.5, np.nan)"
      ],
      "metadata": {
        "id": "bNxiarEVWEvW"
      },
      "execution_count": null,
      "outputs": []
    },
    {
      "cell_type": "markdown",
      "source": [
        "### 10.3.6 数据修剪"
      ],
      "metadata": {
        "id": "XLsZdMrzWOv_"
      }
    },
    {
      "cell_type": "markdown",
      "source": [
        "对于数据中存在的极端值，过大或者过小，可以使用df.clip(lower,upper)来修剪。\n",
        "当数据大于upper时使用upper的值，小于lower时用lower的值，这和numpy.clip方法一样。"
      ],
      "metadata": {
        "id": "h5oA4tN3WX4e"
      }
    },
    {
      "cell_type": "code",
      "source": [
        "# 包含极端值的数据\n",
        "df = pd.DataFrame({'a': [-1, 2, 5], 'b': [6, 1, -3]})\n",
        "df"
      ],
      "metadata": {
        "id": "H7Zd4ML0WhOn"
      },
      "execution_count": null,
      "outputs": []
    },
    {
      "cell_type": "code",
      "source": [
        "df.clip(0, 3)"
      ],
      "metadata": {
        "id": "PisN4UYdWQYm"
      },
      "execution_count": null,
      "outputs": []
    },
    {
      "cell_type": "code",
      "source": [
        "c = pd.Series([-1, 1, 3])\n",
        "df.clip(c, c+1, axis=0)"
      ],
      "metadata": {
        "id": "ufnM0ZX_W23x"
      },
      "execution_count": null,
      "outputs": []
    },
    {
      "cell_type": "markdown",
      "source": [
        "### 10.3.7 小结"
      ],
      "metadata": {
        "id": "QKnCzB8zXR7e"
      }
    },
    {
      "cell_type": "markdown",
      "source": [
        "替换数据是数据清洗的一项很普遍的操作，同时也是修补数据的一种有效方法。df. replace()方法功能强大，在本节中，我们了解了它实现定值替换、定列替换、广播替换、运算替换等功能"
      ],
      "metadata": {
        "id": "iGin2EMEXThv"
      }
    },
    {
      "cell_type": "markdown",
      "source": [
        "## 10.4 重复值及删除数据"
      ],
      "metadata": {
        "id": "lfu7D8VdAVTE"
      }
    },
    {
      "cell_type": "markdown",
      "source": [
        "数据在收集、处理过程中会产生重复值，包括行和列，既有完全重\n",
        "复，又有部分字段重复。重复的数据会影响数据的质量，特别是在它们参与统计计算时。"
      ],
      "metadata": {
        "id": "SuB0CuCvXqBE"
      }
    },
    {
      "cell_type": "markdown",
      "source": [
        "### 10.4.1 重复值识别\n",
        "df.duplicated()是Pandas用来检测重复值的方法。\n",
        "\n",
        "它可以返回表示重复行的布尔值序列，默认为一行的所有内容，\n",
        "subset可以指定列。keep参数用来确定要标记的重复值，可选的值有：\n",
        "* first：将除第一次出现的重复值标记为True，默认。\n",
        "* last：将除最后一次出现的重复值标记为True。\n",
        "* False：将所有重复值标记为True。\n"
      ],
      "metadata": {
        "id": "6q_QxSgDXtse"
      }
    },
    {
      "cell_type": "code",
      "source": [
        "# 原数据\n",
        "df = pd.DataFrame({\n",
        "'A': ['x', 'x', 'z'],\n",
        "'B': ['x', 'x', 'x'],\n",
        "'C': [1, 1, 2]\n",
        "})\n",
        "df"
      ],
      "metadata": {
        "id": "RmCFJ8mmAbtL"
      },
      "execution_count": null,
      "outputs": []
    },
    {
      "cell_type": "code",
      "source": [
        "# 全行检测，除第一次出现的外，重复的为True\n",
        "df.duplicated()"
      ],
      "metadata": {
        "id": "yr3Fv3RLYOz2"
      },
      "execution_count": null,
      "outputs": []
    },
    {
      "cell_type": "code",
      "source": [
        "# 除最后一次出现的外，重复的为True\n",
        "df.duplicated(keep='last')"
      ],
      "metadata": {
        "id": "ys-MLjm6YWfN"
      },
      "execution_count": null,
      "outputs": []
    },
    {
      "cell_type": "code",
      "source": [
        "# 所有重复的都为True\n",
        "df.duplicated(keep=False)"
      ],
      "metadata": {
        "id": "ez5Yk-qEYfYe"
      },
      "execution_count": null,
      "outputs": []
    },
    {
      "cell_type": "code",
      "source": [
        "# 指定列检测\n",
        "df.duplicated(subset=['B'], keep=False)"
      ],
      "metadata": {
        "id": "0xmCRBcbYmZN"
      },
      "execution_count": null,
      "outputs": []
    },
    {
      "cell_type": "code",
      "source": [
        "# 筛选出重复内容\n",
        "df[df.duplicated()]"
      ],
      "metadata": {
        "id": "9HkLA7rSYw1V"
      },
      "execution_count": null,
      "outputs": []
    },
    {
      "cell_type": "markdown",
      "source": [
        "### 10.4.2 删除重复值"
      ],
      "metadata": {
        "id": "riwfwH6wY3Ff"
      }
    },
    {
      "cell_type": "code",
      "source": [
        "# 删除重复值语法\n",
        "df.drop_duplicates(subset=None,\n",
        "keep='first',\n",
        "inplace=False,\n",
        "ignore_index=False)"
      ],
      "metadata": {
        "id": "BW-EJO_LY7cG"
      },
      "execution_count": null,
      "outputs": []
    },
    {
      "cell_type": "code",
      "source": [
        "df.drop_duplicates()"
      ],
      "metadata": {
        "id": "ka8_2FwcZHU-"
      },
      "execution_count": null,
      "outputs": []
    },
    {
      "cell_type": "code",
      "source": [
        "df.drop_duplicates(subset=['A'])"
      ],
      "metadata": {
        "id": "vMJqaQiDZQee"
      },
      "execution_count": null,
      "outputs": []
    },
    {
      "cell_type": "code",
      "source": [
        "# 保留最后一个\n",
        "df.drop_duplicates(subset=['A'], keep='last')"
      ],
      "metadata": {
        "id": "k_vo_edtZX12"
      },
      "execution_count": null,
      "outputs": []
    },
    {
      "cell_type": "markdown",
      "source": [
        "### 10.4.3 删除数据"
      ],
      "metadata": {
        "id": "9cXWWaCuZjqv"
      }
    },
    {
      "cell_type": "markdown",
      "source": [
        "df.drop()通过指定标签名称和相应的轴，或直接给定索引或列名称\n",
        "来删除行或列。使用多层索引时，可以通过指定级别来删除不同级别上的标签。"
      ],
      "metadata": {
        "id": "TLkGQF6QZqgn"
      }
    },
    {
      "cell_type": "code",
      "source": [
        "# 语法\n",
        "df.drop(labels=None, axis=0,\n",
        "  index=None, columns=None,\n",
        "  level=None, inplace=False,\n",
        "  errors='raise')"
      ],
      "metadata": {
        "id": "hsDzvSCxZlEG"
      },
      "execution_count": null,
      "outputs": []
    },
    {
      "cell_type": "markdown",
      "source": [
        "其中的参数说明如下：\n",
        "* labels：要删除的列或者行，如果要删除多个，传入列表。\n",
        "* axis：轴的方向，0为行，1为列，默认为0。\n",
        "* index：指定的一行或多行。\n",
        "* column：指定的一列或多列。\n",
        "* level：索引层级，将删除此层级。\n",
        "* inplace：布尔值，是否生效。\n",
        "* errors：ignore或者raise，默认为raise，如果为ignore，则容忍错误，仅删除现有标签。"
      ],
      "metadata": {
        "id": "D3njA6ZwZ5ue"
      }
    },
    {
      "cell_type": "markdown",
      "source": [
        "### 10.4.4 小结\n",
        "本节介绍了三个重要的数据清洗工具：\n",
        "* df.duplicated()能够识别出重复值，返回一个布尔序列，用于查询和筛选重复值；\n",
        "* df.drop_duplicates() 可以直接删除指定的重复数据；\n",
        "* df.drop()能够灵活地按行或列删除指定的数据，可以通过计算得到异常值所在的列和行再执行删除。"
      ],
      "metadata": {
        "id": "Abvsha04aJqv"
      }
    },
    {
      "cell_type": "markdown",
      "source": [
        "## 10.5 Numpy 格式转换"
      ],
      "metadata": {
        "id": "AMa_VadEAcQc"
      }
    },
    {
      "cell_type": "markdown",
      "source": [
        "### 10.5.1 转换方法"
      ],
      "metadata": {
        "id": "A4AcsjDhaiYD"
      }
    },
    {
      "cell_type": "markdown",
      "source": [
        "Pandas 0.24.0引入了两种从Pandas对象中获取NumPy数组的新方\n",
        "法。\n",
        "* ds.to_numpy()：可以用在Index、Series和DataFrame对象；\n",
        "* s.array：为PandasArray，用在Index和Series，它封装了\n",
        "numpy.ndarray接口。"
      ],
      "metadata": {
        "id": "SrrL_dENaqxv"
      }
    },
    {
      "cell_type": "markdown",
      "source": [
        "### 10.5.2 DataFrame转为ndarray"
      ],
      "metadata": {
        "id": "aOmOs-pka2Cl"
      }
    },
    {
      "cell_type": "code",
      "source": [
        "# df.values # 不推荐\n",
        "df.to_numpy()"
      ],
      "metadata": {
        "id": "78Wd6Tt-bB5V"
      },
      "execution_count": null,
      "outputs": []
    },
    {
      "cell_type": "markdown",
      "source": [
        "### 10.5.3 Series转为ndarray"
      ],
      "metadata": {
        "id": "2ehaoGNPa_gU"
      }
    },
    {
      "cell_type": "code",
      "source": [
        "ser.to_numpy()"
      ],
      "metadata": {
        "id": "F38Y_FAFAg4b"
      },
      "execution_count": null,
      "outputs": []
    },
    {
      "cell_type": "markdown",
      "source": [
        "### 10.5.4 df.to_records()"
      ],
      "metadata": {
        "id": "w2eO2VM2bQbA"
      }
    },
    {
      "cell_type": "markdown",
      "source": [
        "可以使用to_records()方法，但是如果数据类型不是你想要的，则必须对它们进行一些处理。"
      ],
      "metadata": {
        "id": "Fy5wLcw7bU9W"
      }
    },
    {
      "cell_type": "markdown",
      "source": [
        "### 10.5.5 np.array读取"
      ],
      "metadata": {
        "id": "mC3JHfP2bg5v"
      }
    },
    {
      "cell_type": "markdown",
      "source": [
        "可以用np.array直接读取DataFrame或者Series数据，最终也会转换为array类型。"
      ],
      "metadata": {
        "id": "L6fY8hwDblUu"
      }
    },
    {
      "cell_type": "code",
      "source": [
        "np.array(df)"
      ],
      "metadata": {
        "id": "W1wtm0fEbnqv"
      },
      "execution_count": null,
      "outputs": []
    },
    {
      "cell_type": "code",
      "source": [
        "np.array(df.A)"
      ],
      "metadata": {
        "id": "NCqGBcuLbr64"
      },
      "execution_count": null,
      "outputs": []
    },
    {
      "cell_type": "markdown",
      "source": [
        "### 10.5.6 小结\n",
        "本节介绍了如何将Pandas的两大数据类型DataFrame和Series转为\n",
        "NumPy的格式，推荐使用to_numpy()方法。"
      ],
      "metadata": {
        "id": "pRjeN1KXb6QH"
      }
    },
    {
      "cell_type": "markdown",
      "source": [
        "## 10.6 本章小结"
      ],
      "metadata": {
        "id": "TdAShHuGAiHz"
      }
    },
    {
      "cell_type": "markdown",
      "source": [
        "  数据清洗是我们获取到数据集后要做的第一件事，处理缺失数据和缺失值是数据清洗中最棘手的部分。\n",
        "    \n",
        "  只有保证数据的高质量才有可能得出高质量的分析结论，一些数据建模和机器学习的场景对数据质量有严格的要求，甚至不允许有缺失值。\n",
        "\n",
        "  本章介绍了在Pandas中缺失值的表示方法以及如何找到缺失值，重复值的筛选方法以及如何对它们进行删除、替换和填充等操作。\n",
        "  \n",
        "  完成这些工作，将得到一个高质量的数据集，为下一步数据分析做好准备。"
      ],
      "metadata": {
        "id": "Rff7y9PMcLW5"
      }
    }
  ]
}