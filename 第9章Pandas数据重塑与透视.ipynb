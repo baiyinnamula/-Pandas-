{
  "nbformat": 4,
  "nbformat_minor": 0,
  "metadata": {
    "colab": {
      "private_outputs": true,
      "provenance": [],
      "toc_visible": true,
      "authorship_tag": "ABX9TyNVaocIvj3HsdzoB0peNyMu",
      "include_colab_link": true
    },
    "kernelspec": {
      "name": "python3",
      "display_name": "Python 3"
    },
    "language_info": {
      "name": "python"
    }
  },
  "cells": [
    {
      "cell_type": "markdown",
      "metadata": {
        "id": "view-in-github",
        "colab_type": "text"
      },
      "source": [
        "<a href=\"https://colab.research.google.com/github/baiyinnamula/EasyToUnderstandPandas/blob/main/%E7%AC%AC9%E7%AB%A0Pandas%E6%95%B0%E6%8D%AE%E9%87%8D%E5%A1%91%E4%B8%8E%E9%80%8F%E8%A7%86.ipynb\" target=\"_parent\"><img src=\"https://colab.research.google.com/assets/colab-badge.svg\" alt=\"Open In Colab\"/></a>"
      ]
    },
    {
      "cell_type": "markdown",
      "source": [
        "# 第9章 Pandas数据重塑与透视"
      ],
      "metadata": {
        "id": "C_H8Qd4_wak9"
      }
    },
    {
      "cell_type": "code",
      "source": [
        "import numpy as np\n",
        "import pandas as pd"
      ],
      "metadata": {
        "id": "u2XDz29kyjKM"
      },
      "execution_count": null,
      "outputs": []
    },
    {
      "cell_type": "markdown",
      "source": [
        "## 9.1 数据透视"
      ],
      "metadata": {
        "id": "6SQHqCt8w-AO"
      }
    },
    {
      "cell_type": "markdown",
      "source": [
        "### 9.1.1 整理透视"
      ],
      "metadata": {
        "id": "YR-K8zbyyVrz"
      }
    },
    {
      "cell_type": "code",
      "source": [
        "# 构造数据 \n",
        "df = pd.DataFrame({'A':['a1', 'a1', 'a2', 'a2', 'a3', 'a3'], \n",
        "                   'B':['b1', 'b2', 'b3', 'b1', 'b2', 'b3'], \n",
        "                   'C':['c1', 'c2', 'c3', 'c4', 'c5', 'c6'], \n",
        "                   'D':['d1', 'd2', 'd3', 'd4', 'd5', 'd6'], })\n",
        "# 查看数据 \n",
        "df"
      ],
      "metadata": {
        "id": "BtMar9kqyb0T"
      },
      "execution_count": null,
      "outputs": []
    },
    {
      "cell_type": "code",
      "source": [
        "# 透视，指定索引、列、值\n",
        "df.pivot(index='A', columns='B', values='C')"
      ],
      "metadata": {
        "id": "aubiLHeJyx78"
      },
      "execution_count": null,
      "outputs": []
    },
    {
      "cell_type": "markdown",
      "source": [
        "### 9.1.2 整理透视操作"
      ],
      "metadata": {
        "id": "ZjQ7Jh87go0p"
      }
    },
    {
      "cell_type": "code",
      "source": [
        "# 构造数据 \n",
        "df = pd.DataFrame({'A':['a1', 'a1', 'a2', 'a2', 'a3', 'a3'], \n",
        "                   'B':['b1', 'b2', 'b3', 'b1', 'b2', 'b3'], \n",
        "                   'C':['c1', 'c2', 'c3', 'c4', 'c5', 'c6'], \n",
        "                   'D':['d1', 'd2', 'd3', 'd4', 'd5', 'd6'],})\n",
        "# 查看数据 \n",
        "df"
      ],
      "metadata": {
        "id": "KGXASrvpgs-p"
      },
      "execution_count": null,
      "outputs": []
    },
    {
      "cell_type": "code",
      "source": [
        "# 透视，指定索引、列、值\n",
        "df.pivot(index='A', columns='B', values='C')"
      ],
      "metadata": {
        "id": "NF0piFJgg9Q5"
      },
      "execution_count": null,
      "outputs": []
    },
    {
      "cell_type": "code",
      "source": [
        "df.pivot(index='A', columns='B')"
      ],
      "metadata": {
        "id": "8rFcBqofhjO_"
      },
      "execution_count": null,
      "outputs": []
    },
    {
      "cell_type": "code",
      "source": [
        "df.pivot(index='A', columns='B', values=['C', 'D'])"
      ],
      "metadata": {
        "id": "dHMAnR7FhzMW"
      },
      "execution_count": null,
      "outputs": []
    },
    {
      "cell_type": "markdown",
      "source": [
        "### 9.1.3 聚合透视"
      ],
      "metadata": {
        "id": "H9bnbpNKiCsB"
      }
    },
    {
      "cell_type": "markdown",
      "source": [
        "### 9.1.4 聚合透视操作"
      ],
      "metadata": {
        "id": "02gXXqgginAa"
      }
    },
    {
      "cell_type": "code",
      "source": [
        "df = pd.DataFrame({'A':['a1', 'a1', 'a1', 'a2', 'a2', 'a2'], \n",
        "                   'B':['b2', 'b2', 'b1', 'b1', 'b1', 'b1'], \n",
        "                   'C':['c1', 'c1', 'c2', 'c2', 'c1', 'c1'], \n",
        "                   'D':[1, 2, 3, 4, 5, 6] })\n",
        "\n",
        "df"
      ],
      "metadata": {
        "id": "rybOjaxZis3D"
      },
      "execution_count": null,
      "outputs": []
    },
    {
      "cell_type": "code",
      "source": [
        "# df.pivot(index='A', columns='B', values='D')"
      ],
      "metadata": {
        "id": "bahvMz_hjCgh"
      },
      "execution_count": null,
      "outputs": []
    },
    {
      "cell_type": "code",
      "source": [
        "df.pivot_table(index='A', columns='B', values='D')"
      ],
      "metadata": {
        "id": "4Gu8mAiwjYxw"
      },
      "execution_count": null,
      "outputs": []
    },
    {
      "cell_type": "code",
      "source": [
        "df.loc[(df.A=='a2') & (df.B=='b1')]\n"
      ],
      "metadata": {
        "id": "BXI3xcNPkABv"
      },
      "execution_count": null,
      "outputs": []
    },
    {
      "cell_type": "code",
      "source": [
        "df.loc[(df.A=='a2') & (df.B=='b1')].D.mean()"
      ],
      "metadata": {
        "id": "nH31n4nFkUmt"
      },
      "execution_count": null,
      "outputs": []
    },
    {
      "cell_type": "markdown",
      "source": [
        "### 9.1.5 聚合透视高级操作"
      ],
      "metadata": {
        "id": "jEQ5KKCVkeCI"
      }
    },
    {
      "cell_type": "code",
      "source": [
        "# 高级聚合 \n",
        "pd.pivot_table(df, index=['A', 'B'], # 指定多个索引 \n",
        "               columns=['C'], # 指定列 \n",
        "               values='D', # 指定数据值 \n",
        "               aggfunc=np.sum, # 指定聚合方法为求和 \n",
        "               fill_value=0, # 将聚合为空的值填充为0 \n",
        "               margins=True # 增加行列汇总 \n",
        "               )\n"
      ],
      "metadata": {
        "id": "5-5JRqNckg8L"
      },
      "execution_count": null,
      "outputs": []
    },
    {
      "cell_type": "code",
      "source": [
        "# 使用多个聚合计算 \n",
        "pd.pivot_table(df, index=['A', 'B'], # 指定多个索引 \n",
        "               columns=['C'], # 指定列 \n",
        "               values='D', # 指定数据值\n",
        "               fill_value=None, \n",
        "               aggfunc=[np.mean, np.sum])"
      ],
      "metadata": {
        "id": "7YbaI4wQk9GW"
      },
      "execution_count": null,
      "outputs": []
    },
    {
      "cell_type": "code",
      "source": [
        "df"
      ],
      "metadata": {
        "id": "WFedX0BMnP8A"
      },
      "execution_count": null,
      "outputs": []
    },
    {
      "cell_type": "code",
      "source": [
        "df = pd.DataFrame({ 'A':['a1', 'a1', 'a1', 'a2', 'a2', 'a2'], \n",
        "                   'B':['b2', 'b2', 'b1', 'b1', 'b1', 'b1'], \n",
        "                   'C':['c1', 'c1', 'c2', 'c2', 'c1', 'c1'], \n",
        "                   'D':[1, 2, 3, 4, 5, 6], \n",
        "                   'E':[9, 8, 7, 6, 5, 4] })\n",
        "df"
      ],
      "metadata": {
        "id": "ott-SRKAD_8r"
      },
      "execution_count": null,
      "outputs": []
    },
    {
      "cell_type": "code",
      "source": [
        "# 为各列分别指定计算方法 \n",
        "pd.pivot_table(df, index=['A', 'B'], columns=['C'], aggfunc={'D':np.mean, 'E':np.sum} )"
      ],
      "metadata": {
        "id": "NjkBWfJGELHZ"
      },
      "execution_count": null,
      "outputs": []
    },
    {
      "cell_type": "markdown",
      "source": [
        "## 9.2 数据堆叠"
      ],
      "metadata": {
        "id": "s_EvXVVZxDF1"
      }
    },
    {
      "cell_type": "markdown",
      "source": [
        "### 9.2.1 理解堆叠"
      ],
      "metadata": {
        "id": "dwQxx6XbEwsc"
      }
    },
    {
      "cell_type": "markdown",
      "source": [
        "### 9.2.2 堆叠操作df.stack()"
      ],
      "metadata": {
        "id": "mH144JQgFrgp"
      }
    },
    {
      "cell_type": "code",
      "source": [
        "df = pd.DataFrame({\n",
        "    'A':['a1', 'a1', 'a2', 'a2'], \n",
        "    'B':['b1', 'b2', 'b1', 'b2'], \n",
        "    'C':[1, 2, 3, 4], \n",
        "    'D':[5, 6, 7, 8], \n",
        "    'E':[5, 6, 7, 8] })\n",
        "df"
      ],
      "metadata": {
        "id": "fXWvPtxyFtdJ"
      },
      "execution_count": null,
      "outputs": []
    },
    {
      "cell_type": "code",
      "source": [
        "# 设置多层索引\n",
        "df.set_index(['A', 'B'], inplace=True)"
      ],
      "metadata": {
        "id": "74d2t9lQF7Qg"
      },
      "execution_count": null,
      "outputs": []
    },
    {
      "cell_type": "code",
      "source": [
        "df"
      ],
      "metadata": {
        "id": "LZO3bUMGGSJ5"
      },
      "execution_count": null,
      "outputs": []
    },
    {
      "cell_type": "code",
      "source": [
        "df1 = df.stack()"
      ],
      "metadata": {
        "id": "x3LbikMOGbYz"
      },
      "execution_count": null,
      "outputs": []
    },
    {
      "cell_type": "markdown",
      "source": [
        "### 9.2.3 解堆操作df.unstack()"
      ],
      "metadata": {
        "id": "c6ZogN_fGjlz"
      }
    },
    {
      "cell_type": "code",
      "source": [
        "df1.unstack()"
      ],
      "metadata": {
        "id": "vcP1HLzoGlNs"
      },
      "execution_count": null,
      "outputs": []
    },
    {
      "cell_type": "markdown",
      "source": [
        "## 9.3 交叉表"
      ],
      "metadata": {
        "id": "HoWoQScsxGtg"
      }
    },
    {
      "cell_type": "markdown",
      "source": [
        "### 9.3.1 基本语法"
      ],
      "metadata": {
        "id": "-RiAUnbYHWyV"
      }
    },
    {
      "cell_type": "code",
      "source": [
        "# 基本语法 \n",
        "# pd.crosstab(index, \n",
        "#       columns, \n",
        "#       values=None, \n",
        "#       rownames=None, \n",
        "#       colnames=None, \n",
        "#       aggfunc=None, \n",
        "#       margins=False, \n",
        "#       margins_name= 'All', \n",
        "#       dropna= True, \n",
        "#       normalize=False)"
      ],
      "metadata": {
        "id": "9fALzn5sHYUE"
      },
      "execution_count": null,
      "outputs": []
    },
    {
      "cell_type": "markdown",
      "source": [
        "### 9.3.2 生成交叉表"
      ],
      "metadata": {
        "id": "xWpkXZ-gIDY8"
      }
    },
    {
      "cell_type": "code",
      "source": [
        "# 原数据 \n",
        "df = pd.DataFrame({'A':['a1', 'a1', 'a2', 'a2', 'a1'], \n",
        "           'B':['b2', 'b1', 'b2', 'b2', 'b1'], \n",
        "           'C':[1, 2, 3, 4, 5], })\n",
        "df"
      ],
      "metadata": {
        "id": "jd24SgJSIKRx"
      },
      "execution_count": null,
      "outputs": []
    },
    {
      "cell_type": "code",
      "source": [
        "# 生成交叉表\n",
        "pd.crosstab(df['A'], df['B'])"
      ],
      "metadata": {
        "id": "nWtiV4g5IRjl"
      },
      "execution_count": null,
      "outputs": []
    },
    {
      "cell_type": "code",
      "source": [
        "df.pivot_table(index='A', columns='B', values='C')"
      ],
      "metadata": {
        "id": "CamS4ElCHNrh"
      },
      "execution_count": null,
      "outputs": []
    },
    {
      "cell_type": "code",
      "source": [
        "### # 对分类数据做交叉 \n",
        "one = pd.Categorical(['a', 'b'], categories=['a', 'b', 'c']) \n",
        "two = pd.Categorical(['d', 'e'], categories=['d', 'e', 'f']) \n",
        "pd.crosstab(one, two)"
      ],
      "metadata": {
        "id": "4gS_YuXbJGr8"
      },
      "execution_count": null,
      "outputs": []
    },
    {
      "cell_type": "markdown",
      "source": [
        "### 9.3.3 归一化"
      ],
      "metadata": {
        "id": "32VAdIrIJd55"
      }
    },
    {
      "cell_type": "code",
      "source": [
        "pd.crosstab(df['A'], df['B'])"
      ],
      "metadata": {
        "id": "SbtLbV4yIicb"
      },
      "execution_count": null,
      "outputs": []
    },
    {
      "cell_type": "code",
      "source": [
        "# 交叉表，归一化 \n",
        "pd.crosstab(df['A'], df['B'], normalize=True)"
      ],
      "metadata": {
        "id": "ZsgrsyARJrKh"
      },
      "execution_count": null,
      "outputs": []
    },
    {
      "cell_type": "code",
      "source": [
        "# 对列进行归一化\n",
        "pd.crosstab(df['A'], df['B'], normalize='columns')"
      ],
      "metadata": {
        "id": "ZbluAEI9JMbz"
      },
      "execution_count": null,
      "outputs": []
    },
    {
      "cell_type": "code",
      "source": [
        "# 对行进行归一化\n",
        "pd.crosstab(df['A'], df['B'], normalize='index')"
      ],
      "metadata": {
        "id": "8NF6hQN0KUWS"
      },
      "execution_count": null,
      "outputs": []
    },
    {
      "cell_type": "markdown",
      "source": [
        "### 9.3.4 指定聚合方法\n"
      ],
      "metadata": {
        "id": "tGoeSI4DJ5dr"
      }
    },
    {
      "cell_type": "code",
      "source": [
        "df"
      ],
      "metadata": {
        "id": "7tygMD2UKi-Z"
      },
      "execution_count": null,
      "outputs": []
    },
    {
      "cell_type": "code",
      "source": [
        "# 交叉表，按C列的和进行求和聚合 \n",
        "pd.crosstab(df['A'], df['B'], values=df['C'], aggfunc=np.sum)"
      ],
      "metadata": {
        "id": "dL9MQ74CKElp"
      },
      "execution_count": null,
      "outputs": []
    },
    {
      "cell_type": "markdown",
      "source": [
        "### 9.3.5 汇总"
      ],
      "metadata": {
        "id": "p_wtnS_pKQiT"
      }
    },
    {
      "cell_type": "code",
      "source": [
        "pd.crosstab(df['A'], df['B'], values=df['C'], aggfunc=np.sum, margins=True, margins_name='total')"
      ],
      "metadata": {
        "id": "HQEuOlcXK2ra"
      },
      "execution_count": null,
      "outputs": []
    },
    {
      "cell_type": "markdown",
      "source": [
        "## 9.4 数据转置 df.T"
      ],
      "metadata": {
        "id": "1u1y2i7CxLe2"
      }
    },
    {
      "cell_type": "markdown",
      "source": [
        "### 9.4.1 理解转置"
      ],
      "metadata": {
        "id": "ivB-S83BL2-q"
      }
    },
    {
      "cell_type": "markdown",
      "source": [
        "### 9.4.2 转置操作"
      ],
      "metadata": {
        "id": "gM920A6rMCJx"
      }
    },
    {
      "cell_type": "code",
      "source": [
        "# 原数据\n",
        "df = pd.DataFrame({\n",
        "'A':['a1', 'a2', 'a3', 'a4', 'a5'],\n",
        "'B':['b1', 'b2', 'b3', 'b4', 'b5'],\n",
        "'C':[1, 2, 3, 4, 5],\n",
        "})\n",
        "df"
      ],
      "metadata": {
        "id": "tKBzi00QL4jZ"
      },
      "execution_count": null,
      "outputs": []
    },
    {
      "cell_type": "code",
      "source": [
        "df.T"
      ],
      "metadata": {
        "id": "To2gTilEMME4"
      },
      "execution_count": null,
      "outputs": []
    },
    {
      "cell_type": "code",
      "source": [
        "df.dtypes"
      ],
      "metadata": {
        "id": "YtOokClwMeO5"
      },
      "execution_count": null,
      "outputs": []
    },
    {
      "cell_type": "markdown",
      "source": [
        "### 9.4.3 类型变化"
      ],
      "metadata": {
        "id": "wYBy2234MZqS"
      }
    },
    {
      "cell_type": "code",
      "source": [
        "df.T.dtypes"
      ],
      "metadata": {
        "id": "GXm5V2T2MgOZ"
      },
      "execution_count": null,
      "outputs": []
    },
    {
      "cell_type": "markdown",
      "source": [
        "### 9.4.4 轴交换df.swapaxes()"
      ],
      "metadata": {
        "id": "E2EfSCBzMnYb"
      }
    },
    {
      "cell_type": "markdown",
      "source": [
        "## 9.5 数据融合"
      ],
      "metadata": {
        "id": "RJTMT5UQxQdX"
      }
    },
    {
      "cell_type": "markdown",
      "source": [
        "### 9.5.1 基本语法"
      ],
      "metadata": {
        "id": "QA1s44c0Nhbw"
      }
    },
    {
      "cell_type": "markdown",
      "source": [
        "### 9.5.2 融合操作"
      ],
      "metadata": {
        "id": "DfBeNyfbNdpK"
      }
    },
    {
      "cell_type": "code",
      "source": [
        "# 原数据\n",
        "df = pd.DataFrame({\n",
        "'A':['a1', 'a2', 'a3', 'a4', 'a5'],\n",
        "'B':['b1', 'b2', 'b3', 'b4', 'b5'],\n",
        "'C':[1, 2, 3, 4, 5],\n",
        "})\n",
        "df"
      ],
      "metadata": {
        "id": "Hxv0WVhNNk_y"
      },
      "execution_count": null,
      "outputs": []
    },
    {
      "cell_type": "code",
      "source": [
        "pd.melt(df)"
      ],
      "metadata": {
        "id": "V3QyudcaNqKk"
      },
      "execution_count": null,
      "outputs": []
    },
    {
      "cell_type": "markdown",
      "source": [
        "### 9.5.3 标识和值"
      ],
      "metadata": {
        "id": "FbHVqN1KN29q"
      }
    },
    {
      "cell_type": "code",
      "source": [],
      "metadata": {
        "id": "rK-PTOonN2ey"
      },
      "execution_count": null,
      "outputs": []
    },
    {
      "cell_type": "markdown",
      "source": [
        "## 9.6 虚拟变量"
      ],
      "metadata": {
        "id": "qFYkR3uLxUBV"
      }
    },
    {
      "cell_type": "markdown",
      "source": [
        "## 9.7 因子化"
      ],
      "metadata": {
        "id": "4dUyFQvGxXUE"
      }
    },
    {
      "cell_type": "markdown",
      "source": [
        "## 9.8 爆炸列表"
      ],
      "metadata": {
        "id": "q82cJ8cKxc7F"
      }
    },
    {
      "cell_type": "markdown",
      "source": [
        "## 9.9 本章小结"
      ],
      "metadata": {
        "id": "DbBlWxuTxjhG"
      }
    },
    {
      "cell_type": "code",
      "execution_count": null,
      "metadata": {
        "id": "B8eX_fQuvisQ"
      },
      "outputs": [],
      "source": []
    },
    {
      "cell_type": "code",
      "source": [],
      "metadata": {
        "id": "llv2TyXpwed5"
      },
      "execution_count": null,
      "outputs": []
    }
  ]
}